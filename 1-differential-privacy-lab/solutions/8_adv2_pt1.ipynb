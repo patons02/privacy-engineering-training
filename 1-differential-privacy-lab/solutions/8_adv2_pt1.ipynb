{
 "cells": [
  {
   "cell_type": "markdown",
   "metadata": {},
   "source": [
    "# 🛡️ Solutions — Bonus Advanced Topics in Differential Privacy\n",
    "\n",
    "Built by **Stu** 🚀"
   ]
  },
  {
   "cell_type": "markdown",
   "metadata": {},
   "source": [
    "## Solutions to Exercises 1–10"
   ]
  },
  {
   "cell_type": "code",
   "execution_count": 1,
   "metadata": {},
   "outputs": [],
   "source": [
    "constant_noise_problem = \"Constant noise may be larger than needed for low-sensitivity queries, wasting the privacy budget unnecessarily.\""
   ]
  },
  {
   "cell_type": "code",
   "execution_count": 2,
   "metadata": {},
   "outputs": [],
   "source": [
    "def adaptive_sigma(sensitivity, base_sigma=1.0):\n",
    "    return base_sigma * sensitivity"
   ]
  },
  {
   "cell_type": "code",
   "execution_count": 3,
   "metadata": {},
   "outputs": [],
   "source": [
    "import numpy as np\n",
    "\n",
    "sensitivity = np.random.uniform(0.5, 1.5, size=100)\n",
    "constant_noise = np.random.normal(0, 1.0, size=100)\n",
    "adaptive_noise = np.random.normal(0, adaptive_sigma(sensitivity), size=100)\n",
    "print(np.std(constant_noise), np.std(adaptive_noise))"
   ]
  },
  {
   "cell_type": "code",
   "execution_count": 4,
   "metadata": {},
   "outputs": [],
   "source": [
    "adaptive_noise_preference = \"When sensitivities vary widely, adaptive noise can maintain utility without degrading privacy too much.\""
   ]
  },
  {
   "cell_type": "code",
   "execution_count": 5,
   "metadata": {},
   "outputs": [],
   "source": [
    "adaptive_noise_scenario = \"In a travel dataset, booking prices for luxury hotels vs economy hotels vary greatly in sensitivity — adaptive noise would help.\""
   ]
  },
  {
   "cell_type": "code",
   "execution_count": 6,
   "metadata": {},
   "outputs": [],
   "source": [
    "privacy_amplification_definition = \"When a subset of data is sampled randomly, the chance any one individual is included is small, thus amplifying privacy guarantees.\""
   ]
  },
  {
   "cell_type": "code",
   "execution_count": 7,
   "metadata": {},
   "outputs": [],
   "source": [
    "def randomize_batches(data, batch_size):\n",
    "    np.random.shuffle(data)\n",
    "    return [data[i:i + batch_size] for i in range(0, len(data), batch_size)]"
   ]
  },
  {
   "cell_type": "code",
   "execution_count": 8,
   "metadata": {},
   "outputs": [],
   "source": [
    "n = 1000\n",
    "batch_size = 100\n",
    "amplification_factor = batch_size / n\n",
    "effective_epsilon = 1.0 * amplification_factor\n",
    "effective_epsilon"
   ]
  },
  {
   "cell_type": "code",
   "execution_count": 9,
   "metadata": {},
   "outputs": [],
   "source": [
    "amplification_benefit = \"Amplification is especially helpful when extremely strong privacy guarantees (small ε) are desired.\""
   ]
  },
  {
   "cell_type": "code",
   "execution_count": 10,
   "metadata": {},
   "outputs": [],
   "source": [
    "amplification_limitations = \"If the sampling rate is too high (large batches), amplification effects diminish significantly.\""
   ]
  }
 ],
 "metadata": {
  "kernelspec": {
   "display_name": "Python 3",
   "language": "python3"
  },
  "language_info": {
   "name": "python",
   "version": "3.10",
   "mimetype": "text/x-python",
   "file_extension": ".py",
   "codemirror_mode": {
    "name": "ipython",
    "version": 3
   }
  }
 },
 "nbformat": 4,
 "nbformat_minor": 5
}