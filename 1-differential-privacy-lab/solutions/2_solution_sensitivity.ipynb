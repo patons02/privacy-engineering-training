{
 "cells": [
  {
   "cell_type": "markdown",
   "id": "027d0af5",
   "metadata": {},
   "source": [
    "# 🛠️ Solution: Sensitivity"
   ]
  },
  {
   "cell_type": "markdown",
   "id": "1e4e1495",
   "metadata": {},
   "source": [
    "## Exercise: Compute Global Sensitivity for Counting Queries\n",
    "\n",
    "Global sensitivity measures the maximum impact of one record's addition or removal."
   ]
  },
  {
   "cell_type": "code",
   "execution_count": null,
   "id": "b9e0b4a2",
   "metadata": {},
   "outputs": [],
   "source": [
    "# Solution for counting query sensitivity\n",
    "def counting_query_sensitivity() -> int:\n",
    "    return 1"
   ]
  },
  {
   "cell_type": "code",
   "execution_count": null,
   "id": "f7037751",
   "metadata": {},
   "outputs": [],
   "source": [
    "# --- Auto-checker ---\n",
    "try:\n",
    "    assert counting_query_sensitivity() == 1\n",
    "    print(\"✅ Exercise Passed! Counting query sensitivity is 1.\")\n",
    "except Exception as e:\n",
    "    print(\n",
    "        \"❌ Test failed. Remember: adding or removing one record affects count by exactly 1.\"\n",
    "    )\n",
    "    raise"
   ]
  },
  {
   "cell_type": "markdown",
   "id": "68f64061",
   "metadata": {},
   "source": [
    "### 🧠 Key Takeaways\n",
    "- Simple counts have sensitivity 1.\n",
    "- More complex queries (e.g., sums, averages) may have different sensitivities."
   ]
  }
 ],
 "metadata": {
  "kernelspec": {
   "display_name": "Python 3",
   "language": "python",
   "name": "python3"
  },
  "language_info": {
   "name": "python",
   "version": "3.10"
  }
 },
 "nbformat": 4,
 "nbformat_minor": 5
}
