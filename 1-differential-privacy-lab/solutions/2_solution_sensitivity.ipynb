{
 "cells": [
  {
   "cell_type": "markdown",
   "id": "2313ab32",
   "metadata": {},
   "source": [
    "# 🛡️ Solutions — Sensitivity and Stability\n",
    "\n",
    "Built by **Stu** 🚀"
   ]
  },
  {
   "cell_type": "markdown",
   "id": "c64fb03b",
   "metadata": {},
   "source": [
    "## Solutions to Exercises 1–12"
   ]
  },
  {
   "cell_type": "code",
   "execution_count": 1,
   "id": "a0d7fada",
   "metadata": {},
   "outputs": [],
   "source": [
    "global_sensitivity_definition = \"The maximum change to the output of a function when a single individual’s data is changed.\""
   ]
  },
  {
   "cell_type": "code",
   "execution_count": 2,
   "id": "2fe34947",
   "metadata": {},
   "outputs": [],
   "source": [
    "sensitivity_sum = 1"
   ]
  },
  {
   "cell_type": "code",
   "execution_count": 3,
   "id": "257b3593",
   "metadata": {},
   "outputs": [],
   "source": [
    "sensitivity_max = 1"
   ]
  },
  {
   "cell_type": "code",
   "execution_count": 4,
   "id": "f22f8796",
   "metadata": {},
   "outputs": [],
   "source": [
    "sum_counts = [5, 7, 9]\n",
    "sensitivity_counts_sum = 9"
   ]
  },
  {
   "cell_type": "code",
   "execution_count": 5,
   "id": "b0ce5a44",
   "metadata": {},
   "outputs": [],
   "source": [
    "average_sensitivity_factors = \"The range of possible values and the size of the dataset influence sensitivity for averages.\""
   ]
  },
  {
   "cell_type": "code",
   "execution_count": 6,
   "id": "d4fea6c0",
   "metadata": {},
   "outputs": [],
   "source": [
    "sensitivity_min = 1"
   ]
  },
  {
   "cell_type": "code",
   "execution_count": 7,
   "id": "0d507d10",
   "metadata": {},
   "outputs": [],
   "source": [
    "histogram_sensitivity = 1"
   ]
  },
  {
   "cell_type": "code",
   "execution_count": 8,
   "id": "07481de9",
   "metadata": {},
   "outputs": [],
   "source": [
    "histogram_sparse_effect = \"Sparse histograms still have the same worst-case sensitivity.\""
   ]
  },
  {
   "cell_type": "code",
   "execution_count": 9,
   "id": "d3fc8c0b",
   "metadata": {},
   "outputs": [],
   "source": [
    "local_sensitivity_definition = \"Local sensitivity measures the maximum output change on neighboring datasets around a specific dataset.\""
   ]
  },
  {
   "cell_type": "code",
   "execution_count": 10,
   "id": "7d8e1da1",
   "metadata": {},
   "outputs": [],
   "source": [
    "local_vs_global_example = \"For a database where all values are identical, the local sensitivity for maximum is zero, while the global sensitivity could be large.\""
   ]
  },
  {
   "cell_type": "code",
   "execution_count": 11,
   "id": "5d6e5255",
   "metadata": {},
   "outputs": [],
   "source": [
    "local_sensitivity_sum = 1"
   ]
  },
  {
   "cell_type": "code",
   "execution_count": 12,
   "id": "b3a4236c",
   "metadata": {},
   "outputs": [],
   "source": [
    "local_sensitivity_outlier_effect = \"Local sensitivity may spike if an outlier greatly shifts the query output.\""
   ]
  },
  {
   "cell_type": "markdown",
   "id": "afe0766e",
   "metadata": {},
   "source": [
    "## Solutions to Exercises 13–23"
   ]
  },
  {
   "cell_type": "code",
   "execution_count": 13,
   "id": "658e6528",
   "metadata": {},
   "outputs": [],
   "source": [
    "laplace_scale_formula = \"Sensitivity divided by epsilon (Δf / ε).\""
   ]
  },
  {
   "cell_type": "code",
   "execution_count": 14,
   "id": "749b7876",
   "metadata": {},
   "outputs": [],
   "source": [
    "laplace_scale = 3 / 1.5"
   ]
  },
  {
   "cell_type": "code",
   "execution_count": 15,
   "id": "cc6d84de",
   "metadata": {},
   "outputs": [],
   "source": [
    "noise_change_comment = \"When sensitivity doubles, Laplace noise scale also doubles.\""
   ]
  },
  {
   "cell_type": "code",
   "execution_count": 16,
   "id": "0d05306b",
   "metadata": {},
   "outputs": [],
   "source": [
    "bounded_query_strategy = \"Clip or restrict salary inputs to a known range before querying.\""
   ]
  },
  {
   "cell_type": "code",
   "execution_count": 17,
   "id": "b513391c",
   "metadata": {},
   "outputs": [],
   "source": [
    "grouping_strategy = \"Grouping into bins reduces maximum impact of a single user's category.\""
   ]
  },
  {
   "cell_type": "code",
   "execution_count": 18,
   "id": "a1445c04",
   "metadata": {},
   "outputs": [],
   "source": [
    "pruning_strategy = \"Remove or bucket extremely rare outliers to control sensitivity.\""
   ]
  },
  {
   "cell_type": "code",
   "execution_count": 19,
   "id": "c2c127af",
   "metadata": {},
   "outputs": [],
   "source": [
    "dynamic_sensitivity_idea = \"Estimate local sensitivity dynamically by sampling neighboring datasets.\""
   ]
  },
  {
   "cell_type": "code",
   "execution_count": 20,
   "id": "7ae05aac",
   "metadata": {},
   "outputs": [],
   "source": [
    "multi_query_sensitivity_plan = \"Coordinate queries to reuse computation and minimize sensitivity growth.\""
   ]
  },
  {
   "cell_type": "code",
   "execution_count": 21,
   "id": "f4b2456d",
   "metadata": {},
   "outputs": [],
   "source": [
    "real_world_sensitivity_challenge = \"Census data release must carefully manage sensitivity in household size counts.\""
   ]
  },
  {
   "cell_type": "code",
   "execution_count": 22,
   "id": "699830c3",
   "metadata": {},
   "outputs": [],
   "source": [
    "local_vs_global_real_example = \"Predicting average income in a city may have low local sensitivity if data is uniform, but global sensitivity can be high due to rare billionaires.\""
   ]
  },
  {
   "cell_type": "code",
   "execution_count": 23,
   "id": "7eb8d546",
   "metadata": {},
   "outputs": [],
   "source": [
    "sensitivity_final_thoughts = \"Understanding sensitivity is critical because it directly impacts how much noise we must add to achieve privacy, balancing accuracy and protection.\""
   ]
  }
 ],
 "metadata": {
  "kernelspec": {
   "display_name": "Python 3",
   "language": "python",
   "name": "python3"
  },
  "language_info": {
   "codemirror_mode": {
    "name": "ipython",
    "version": 3
   },
   "file_extension": ".py",
   "mimetype": "text/x-python",
   "name": "python",
   "version": "3.10"
  }
 },
 "nbformat": 4,
 "nbformat_minor": 5
}
