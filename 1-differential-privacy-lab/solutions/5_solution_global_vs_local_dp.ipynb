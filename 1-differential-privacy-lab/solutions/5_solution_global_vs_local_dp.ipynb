{
 "cells": [
  {
   "cell_type": "markdown",
   "id": "dccb17f2",
   "metadata": {},
   "source": [
    "# 🛠️ Solution: Global vs Local DP"
   ]
  },
  {
   "cell_type": "markdown",
   "id": "21137794",
   "metadata": {},
   "source": [
    "## Exercise: Classify Scenarios\n",
    "\n",
    "Given a list of descriptions, label each as 'Global' or 'Local'."
   ]
  },
  {
   "cell_type": "code",
   "execution_count": null,
   "id": "f740c3ae",
   "metadata": {},
   "outputs": [],
   "source": [
    "def classify_scenarios(scenarios: list) -> list:\n",
    "    mapping = {\n",
    "        \"Census survey with trusted agency\": \"Global\",\n",
    "        \"Smartphone typing prediction telemetry\": \"Local\",\n",
    "        \"Medical research study with hospital data\": \"Global\",\n",
    "    }\n",
    "    return [mapping[scenario] for scenario in scenarios]"
   ]
  },
  {
   "cell_type": "code",
   "execution_count": null,
   "id": "b27b98d6",
   "metadata": {},
   "outputs": [],
   "source": [
    "# --- Auto-checker ---\n",
    "try:\n",
    "    test_scenarios = [\n",
    "        \"Census survey with trusted agency\",\n",
    "        \"Smartphone typing prediction telemetry\",\n",
    "        \"Medical research study with hospital data\",\n",
    "    ]\n",
    "    prediction = classify_scenarios(test_scenarios)\n",
    "    assert prediction == [\"Global\", \"Local\", \"Global\"]\n",
    "    print(\"✅ Exercise Passed! Scenario classification correct.\")\n",
    "except Exception as e:\n",
    "    print(\"❌ Test failed. Think carefully about trust assumptions!\")\n",
    "    raise"
   ]
  },
  {
   "cell_type": "markdown",
   "id": "75a9401b",
   "metadata": {},
   "source": [
    "### 🧠 Key Takeaways\n",
    "- Global DP = better accuracy but requires trust.\n",
    "- Local DP = stronger protection, weaker accuracy."
   ]
  }
 ],
 "metadata": {
  "kernelspec": {
   "display_name": "Python 3",
   "language": "python3",
   "name": "python3"
  },
  "language_info": {
   "name": "python",
   "version": "3.10"
  }
 },
 "nbformat": 4,
 "nbformat_minor": 5
}
