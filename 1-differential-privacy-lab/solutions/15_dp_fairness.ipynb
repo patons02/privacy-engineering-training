{
 "cells": [
  {
   "cell_type": "markdown",
   "metadata": {},
   "source": [
    "# 🛡️ Solutions — Fairness under Differential Privacy\n",
    "\n",
    "Built by **Stu** 🚀"
   ]
  },
  {
   "cell_type": "markdown",
   "metadata": {},
   "source": [
    "## Solutions to Exercises 1–13"
   ]
  },
  {
   "cell_type": "code",
   "execution_count": 1,
   "metadata": {},
   "outputs": [],
   "source": [
    "demographic_parity = \"Outcome independence from protected attribute (e.g., race, gender).\""
   ]
  },
  {
   "cell_type": "code",
   "execution_count": 2,
   "metadata": {},
   "outputs": [],
   "source": [
    "fairness_privacy_tension = \"DP adds noise which may distort fairness metrics; fairness requires precise group statistics.\""
   ]
  },
  {
   "cell_type": "code",
   "execution_count": 3,
   "metadata": {},
   "outputs": [],
   "source": [
    "np.random.seed(1)\n",
    "sensitive_attr = np.random.binomial(1, 0.5, size=500)\n",
    "labels = (sensitive_attr + np.random.binomial(1, 0.2, size=500)) % 2\n",
    "sensitive_attr[:5], labels[:5]"
   ]
  },
  {
   "cell_type": "code",
   "execution_count": 4,
   "metadata": {},
   "outputs": [],
   "source": [
    "gap = np.abs(np.mean(labels[sensitive_attr==0]) - np.mean(labels[sensitive_attr==1]))\n",
    "gap"
   ]
  },
  {
   "cell_type": "code",
   "execution_count": 5,
   "metadata": {},
   "outputs": [],
   "source": [
    "def noisy_mean(x, epsilon=1.0):\n",
    "    true_mean = np.mean(x)\n",
    "    noise = np.random.laplace(0, 1/(len(x)*epsilon))\n",
    "    return true_mean + noise\n",
    "\n",
    "noisy_group0 = noisy_mean(labels[sensitive_attr==0])\n",
    "noisy_group1 = noisy_mean(labels[sensitive_attr==1])\n",
    "noisy_gap = np.abs(noisy_group0 - noisy_group1)\n",
    "noisy_gap"
   ]
  },
  {
   "cell_type": "code",
   "execution_count": 6,
   "metadata": {},
   "outputs": [],
   "source": [
    "(gap, noisy_gap)"
   ]
  },
  {
   "cell_type": "code",
   "execution_count": 7,
   "metadata": {},
   "outputs": [],
   "source": [
    "epsilons = [0.1, 0.5, 1.0, 2.0]\n",
    "errors = []\n",
    "for eps in epsilons:\n",
    "    n0 = noisy_mean(labels[sensitive_attr==0], epsilon=eps)\n",
    "    n1 = noisy_mean(labels[sensitive_attr==1], epsilon=eps)\n",
    "    errors.append(np.abs(n0 - n1))\n",
    "\n",
    "plt.plot(epsilons, errors)\n",
    "plt.xlabel('ε')\n",
    "plt.ylabel('Fairness Gap Error')\n",
    "plt.title('Privacy vs Fairness Error')\n",
    "plt.show()"
   ]
  },
  {
   "cell_type": "code",
   "execution_count": 8,
   "metadata": {},
   "outputs": [],
   "source": [
    "audit_reflection = \"+ Protects individuals during audit\\n- Makes it harder to reliably detect fairness issues\""
   ]
  },
  {
   "cell_type": "code",
   "execution_count": 9,
   "metadata": {},
   "outputs": [],
   "source": [
    "improvement_sketch = \"Use larger groups for averaging to reduce noise impact; adaptive ε allocation to critical groups.\""
   ]
  },
  {
   "cell_type": "code",
   "execution_count": 10,
   "metadata": {},
   "outputs": [],
   "source": [
    "group_budgeting = \"Allocate distinct ε budgets to each demographic group for finer control over fairness guarantees.\""
   ]
  },
  {
   "cell_type": "code",
   "execution_count": 11,
   "metadata": {},
   "outputs": [],
   "source": [
    "group_size_reflection = \"Smaller groups are more vulnerable to noise, worsening fairness gaps under DP.\""
   ]
  },
  {
   "cell_type": "code",
   "execution_count": 12,
   "metadata": {},
   "outputs": [],
   "source": [
    "future_research_sketch = \"Adaptive multi-objective optimization trading off fairness and privacy dynamically.\""
   ]
  },
  {
   "cell_type": "code",
   "execution_count": 13,
   "metadata": {},
   "outputs": [],
   "source": [
    "takeaways = \"Balancing fairness and privacy is complex; careful design needed when auditing or building models under DP.\""
   ]
  }
 ],
 "metadata": {
  "kernelspec": {
   "display_name": "Python 3",
   "language": "python3"
  },
  "language_info": {
   "name": "python",
   "version": "3.10",
   "mimetype": "text/x-python",
   "file_extension": ".py",
   "codemirror_mode": {
    "name": "ipython",
    "version": 3
   }
  }
 },
 "nbformat": 4,
 "nbformat_minor": 5
}