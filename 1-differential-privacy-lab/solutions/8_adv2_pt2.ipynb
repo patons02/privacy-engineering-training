{
 "cells": [
  {
   "cell_type": "markdown",
   "metadata": {},
   "source": [
    "## Solutions to Exercises 11–21"
   ]
  },
  {
   "cell_type": "code",
   "execution_count": 11,
   "metadata": {},
   "outputs": [],
   "source": [
    "zcdp_definition = \"Zero-Concentrated DP (zCDP) provides a measure of privacy loss focused on the tail behavior (concentration) rather than worst-case events, often leading to tighter guarantees.\""
   ]
  },
  {
   "cell_type": "code",
   "execution_count": 12,
   "metadata": {},
   "outputs": [],
   "source": [
    "def gaussian_zcdp(sigma):\n",
    "    return 1 / (2 * sigma**2)"
   ]
  },
  {
   "cell_type": "code",
   "execution_count": 13,
   "metadata": {},
   "outputs": [],
   "source": [
    "sigmas = np.linspace(0.5, 3.0, 50)\n",
    "zcdp_losses = [gaussian_zcdp(s) for s in sigmas]\n",
    "import matplotlib.pyplot as plt\n",
    "plt.plot(sigmas, zcdp_losses)\n",
    "plt.xlabel('Noise Scale σ')\n",
    "plt.ylabel('Privacy Loss (zCDP)')\n",
    "plt.title('Privacy Loss vs Noise Scale')\n",
    "plt.show()"
   ]
  },
  {
   "cell_type": "code",
   "execution_count": 14,
   "metadata": {},
   "outputs": [],
   "source": [
    "zcdp_vs_rdp_comparison = \"Both RDP and zCDP measure privacy concentration rather than pure worst-case events, but zCDP is often tighter and simpler for Gaussian mechanisms.\""
   ]
  },
  {
   "cell_type": "code",
   "execution_count": 15,
   "metadata": {},
   "outputs": [],
   "source": [
    "moments_accountant_definition = \"The Moments Accountant tracks the logarithmic moments of privacy loss distributions, enabling very tight bounds over many compositions.\""
   ]
  },
  {
   "cell_type": "code",
   "execution_count": 16,
   "metadata": {},
   "outputs": [],
   "source": [
    "steps = np.arange(0, 501)\n",
    "basic_privacy_loss = 1.0 * steps\n",
    "moments_privacy_loss = np.sqrt(steps) * 1.5\n",
    "plt.plot(steps, basic_privacy_loss, label='Basic Composition')\n",
    "plt.plot(steps, moments_privacy_loss, label='Moments Accountant')\n",
    "plt.xlabel('Steps')\n",
    "plt.ylabel('Privacy Loss')\n",
    "plt.legend()\n",
    "plt.title('Privacy Loss: Basic vs Moments')\n",
    "plt.show()"
   ]
  },
  {
   "cell_type": "code",
   "execution_count": 17,
   "metadata": {},
   "outputs": [],
   "source": [
    "moments_accountant_benefit = \"Moments Accountant accumulates privacy loss sub-linearly compared to basic composition, preserving much more privacy over many operations.\""
   ]
  },
  {
   "cell_type": "code",
   "execution_count": 18,
   "metadata": {},
   "outputs": [],
   "source": [
    "delta_choices = [1e-5, 1e-6, 1e-7]\n",
    "delta_choices"
   ]
  },
  {
   "cell_type": "code",
   "execution_count": 19,
   "metadata": {},
   "outputs": [],
   "source": [
    "target_epsilon = 1.0\n",
    "def calibrate_sigma(target_epsilon, alpha=2):\n",
    "    return np.sqrt(alpha / (2 * target_epsilon))\n",
    "\n",
    "calibrate_sigma(target_epsilon)"
   ]
  },
  {
   "cell_type": "code",
   "execution_count": 20,
   "metadata": {},
   "outputs": [],
   "source": [
    "dynamic_noise_adjustment = \"Noise levels could be adapted dynamically based on current accumulated privacy loss and per-batch sensitivity, keeping total ε within a budget.\""
   ]
  },
  {
   "cell_type": "code",
   "execution_count": 21,
   "metadata": {},
   "outputs": [],
   "source": [
    "runtime_sensitivities = np.random.uniform(0.5, 1.5, 100)\n",
    "adaptive_sigmas = [adaptive_sigma(s) for s in runtime_sensitivities]\n",
    "plt.hist(adaptive_sigmas, bins=20)\n",
    "plt.xlabel('Adaptive σ')\n",
    "plt.ylabel('Count')\n",
    "plt.title('Adaptive σ Distribution at Runtime')\n",
    "plt.show()"
   ]
  }
 ],
 "metadata": {
  "kernelspec": {
   "display_name": "Python 3",
   "language": "python3"
  },
  "language_info": {
   "name": "python",
   "version": "3.10",
   "mimetype": "text/x-python",
   "file_extension": ".py",
   "codemirror_mode": {
    "name": "ipython",
    "version": 3
   }
  }
 },
 "nbformat": 4,
 "nbformat_minor": 5
}