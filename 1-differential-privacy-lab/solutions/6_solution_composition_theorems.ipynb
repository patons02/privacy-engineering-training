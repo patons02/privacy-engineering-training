{
 "cells": [
  {
   "cell_type": "markdown",
   "id": "b9569673",
   "metadata": {},
   "source": [
    "# 🛠️ Solution: Composition Theorems"
   ]
  },
  {
   "cell_type": "markdown",
   "id": "b0e5d742",
   "metadata": {},
   "source": [
    "## Exercise: Calculate Total Privacy Loss\n",
    "\n",
    "Sum the ε values across multiple queries."
   ]
  },
  {
   "cell_type": "code",
   "execution_count": null,
   "id": "bc221513",
   "metadata": {},
   "outputs": [],
   "source": [
    "def total_privacy_loss(epsilons: list) -> float:\n",
    "    return sum(epsilons)"
   ]
  },
  {
   "cell_type": "code",
   "execution_count": null,
   "id": "80c7bd7e",
   "metadata": {},
   "outputs": [],
   "source": [
    "# --- Auto-checker ---\n",
    "try:\n",
    "    test_epsilons = [0.5, 0.8, 1.2]\n",
    "    total = total_privacy_loss(test_epsilons)\n",
    "    assert abs(total - 2.5) < 0.01\n",
    "    print(\"✅ Exercise Passed! Total privacy loss correct.\")\n",
    "except Exception as e:\n",
    "    print(\"❌ Test failed. Make sure you are summing all epsilons correctly!\")\n",
    "    raise"
   ]
  },
  {
   "cell_type": "markdown",
   "id": "b7176824",
   "metadata": {},
   "source": [
    "### 🧠 Key Takeaways\n",
    "- Privacy budget adds linearly in simple composition.\n",
    "- Always track cumulative ε when running multiple queries."
   ]
  }
 ],
 "metadata": {
  "kernelspec": {
   "display_name": "Python 3",
   "language": "python3",
   "name": "python3"
  },
  "language_info": {
   "name": "python",
   "version": "3.10"
  }
 },
 "nbformat": 4,
 "nbformat_minor": 5
}
