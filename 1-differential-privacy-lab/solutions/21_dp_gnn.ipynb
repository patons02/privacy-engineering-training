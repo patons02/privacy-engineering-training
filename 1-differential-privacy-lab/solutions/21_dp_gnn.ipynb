{
 "cells": [
  {
   "cell_type": "markdown",
   "metadata": {},
   "source": [
    "# 📚 Private Graph Neural Networks (GNN)\n",
    "\n",
    "Built by **Stu** 🚀"
   ]
  },
  {
   "cell_type": "markdown",
   "metadata": {},
   "source": [
    "## Section 1: Basics of GNNs + Privacy"
   ]
  },
  {
   "cell_type": "markdown",
   "metadata": {},
   "source": [
    "### Exercise 1: Define GNN Components"
   ]
  },
  {
   "cell_type": "code",
   "execution_count": 1,
   "metadata": {},
   "outputs": [],
   "source": [
    "gnn_components = \"Nodes (entities), Edges (relationships), Message Passing (aggregate neighbor info).\""
   ]
  },
  {
   "cell_type": "markdown",
   "metadata": {},
   "source": [
    "### Exercise 2: Sketch Privacy Risks in GNNs"
   ]
  },
  {
   "cell_type": "code",
   "execution_count": 2,
   "metadata": {},
   "outputs": [],
   "source": [
    "gnn_privacy_risks = \"Node degrees, connectivity patterns, or node features could leak sensitive info if exposed.\""
   ]
  },
  {
   "cell_type": "markdown",
   "metadata": {},
   "source": [
    "## Section 2: Simulate Tiny Graph Data"
   ]
  },
  {
   "cell_type": "markdown",
   "metadata": {},
   "source": [
    "### Exercise 3: Build Tiny Citation Graph"
   ]
  },
  {
   "cell_type": "code",
   "execution_count": 3,
   "metadata": {},
   "outputs": [],
   "source": [
    "import networkx as nx\n",
    "G = nx.gnm_random_graph(20, 40, directed=True)\n",
    "nx.draw(G, with_labels=True)"
   ]
  },
  {
   "cell_type": "markdown",
   "metadata": {},
   "source": [
    "### Exercise 4: Assign Random Node Features"
   ]
  },
  {
   "cell_type": "code",
   "execution_count": 4,
   "metadata": {},
   "outputs": [],
   "source": [
    "import numpy as np\n",
    "np.random.seed(42)\n",
    "for node in G.nodes():\n",
    "    G.nodes[node]['feature'] = np.random.normal(0, 1)"
   ]
  },
  {
   "cell_type": "markdown",
   "metadata": {},
   "source": [
    "## Section 3: Private Aggregation"
   ]
  },
  {
   "cell_type": "markdown",
   "metadata": {},
   "source": [
    "### Exercise 5: Simulate Message Passing + Add Laplace Noise"
   ]
  },
  {
   "cell_type": "code",
   "execution_count": 5,
   "metadata": {},
   "outputs": [],
   "source": [
    "def private_message_aggregate(G, epsilon=1.0):\n",
    "    features = {}\n",
    "    for node in G.nodes():\n",
    "        neighbors = list(G.predecessors(node))\n",
    "        if neighbors:\n",
    "            agg = np.mean([G.nodes[n]['feature'] for n in neighbors])\n",
    "        else:\n",
    "            agg = 0.0\n",
    "        noise = np.random.laplace(0, 1/epsilon)\n",
    "        features[node] = agg + noise\n",
    "    return features\n",
    "\n",
    "noisy_features = private_message_aggregate(G)"
   ]
  },
  {
   "cell_type": "markdown",
   "metadata": {},
   "source": [
    "### Exercise 6: Visualize Noisy Features Distribution"
   ]
  },
  {
   "cell_type": "code",
   "execution_count": 6,
   "metadata": {},
   "outputs": [],
   "source": [
    "import matplotlib.pyplot as plt\n",
    "plt.hist(list(noisy_features.values()), bins=10)\n",
    "plt.title('Distribution of Noisy Aggregated Features')\n",
    "plt.show()"
   ]
  },
  {
   "cell_type": "markdown",
   "metadata": {},
   "source": [
    "## Section 4: Private Node Classification"
   ]
  },
  {
   "cell_type": "markdown",
   "metadata": {},
   "source": [
    "### Exercise 7: Create Random Binary Labels"
   ]
  },
  {
   "cell_type": "code",
   "execution_count": 7,
   "metadata": {},
   "outputs": [],
   "source": [
    "labels = {node: np.random.choice([0,1]) for node in G.nodes()}\n",
    "labels"
   ]
  },
  {
   "cell_type": "markdown",
   "metadata": {},
   "source": [
    "### Exercise 8: Build Noisy Logistic Classifier"
   ]
  },
  {
   "cell_type": "code",
   "execution_count": 8,
   "metadata": {},
   "outputs": [],
   "source": [
    "from sklearn.linear_model import LogisticRegression\n",
    "\n",
    "X = np.array(list(noisy_features.values())).reshape(-1,1)\n",
    "y = np.array(list(labels.values()))\n",
    "\n",
    "model = LogisticRegression()\n",
    "model.fit(X, y)\n",
    "model.score(X, y)"
   ]
  },
  {
   "cell_type": "markdown",
   "metadata": {},
   "source": [
    "### Exercise 9: Reflect on DP's Impact on Accuracy"
   ]
  },
  {
   "cell_type": "code",
   "execution_count": 9,
   "metadata": {},
   "outputs": [],
   "source": [
    "dp_accuracy_reflection = \"Noise in feature aggregation reduces classification accuracy, especially at low ε.\""
   ]
  },
  {
   "cell_type": "markdown",
   "metadata": {},
   "source": [
    "### Exercise 10: Sketch Real GNN + DP Applications"
   ]
  },
  {
   "cell_type": "code",
   "execution_count": 10,
   "metadata": {},
   "outputs": [],
   "source": [
    "real_world_gnn_dp = \"Private friend recommendation, private knowledge graph reasoning, private traffic prediction.\""
   ]
  },
  {
   "cell_type": "markdown",
   "metadata": {},
   "source": [
    "### Exercise 11: Vary ε and Plot Accuracy Curve"
   ]
  },
  {
   "cell_type": "code",
   "execution_count": 11,
   "metadata": {},
   "outputs": [],
   "source": [
    "epsilons = [0.1, 0.5, 1.0, 2.0]\n",
    "accuracies = []\n",
    "for eps in epsilons:\n",
    "    noisy_features = private_message_aggregate(G, epsilon=eps)\n",
    "    X = np.array(list(noisy_features.values())).reshape(-1,1)\n",
    "    model = LogisticRegression()\n",
    "    model.fit(X, y)\n",
    "    accuracies.append(model.score(X, y))\n",
    "\n",
    "plt.plot(epsilons, accuracies)\n",
    "plt.xlabel('ε')\n",
    "plt.ylabel('Accuracy')\n",
    "plt.title('Privacy vs Classification Accuracy')\n",
    "plt.show()"
   ]
  },
  {
   "cell_type": "markdown",
   "metadata": {},
   "source": [
    "### Exercise 12: Summarize Trade-offs"
   ]
  },
  {
   "cell_type": "code",
   "execution_count": 12,
   "metadata": {},
   "outputs": [],
   "source": [
    "gnn_tradeoffs_summary = \"Stronger privacy → more noise → worse message aggregation → lower model performance.\""
   ]
  }
 ],
 "metadata": {
  "kernelspec": {
   "display_name": "Python 3",
   "language": "python3"
  },
  "language_info": {
   "name": "python",
   "version": "3.10",
   "mimetype": "text/x-python",
   "file_extension": ".py",
   "codemirror_mode": {
    "name": "ipython",
    "version": 3
   }
  }
 },
 "nbformat": 4,
 "nbformat_minor": 5
}