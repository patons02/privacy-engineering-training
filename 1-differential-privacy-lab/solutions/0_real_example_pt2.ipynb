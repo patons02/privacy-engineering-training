{
 "cells": [
  {
   "cell_type": "markdown",
   "metadata": {},
   "source": [
    "## Solutions to Exercises 7–11"
   ]
  },
  {
   "cell_type": "code",
   "execution_count": 7,
   "metadata": {},
   "outputs": [],
   "source": [
    "check_l_diversity(df, ['AgeBucket', 'ZipPrefix'], 'TripPurpose', 2)"
   ]
  },
  {
   "cell_type": "code",
   "execution_count": 8,
   "metadata": {},
   "outputs": [],
   "source": [
    "df['BookingPrice'].hist(bins=20)\n",
    "import matplotlib.pyplot as plt\n",
    "plt.xlabel('Booking Price ($)')\n",
    "plt.ylabel('Frequency')\n",
    "plt.title('Booking Price Distribution')\n",
    "plt.show()"
   ]
  },
  {
   "cell_type": "code",
   "execution_count": 9,
   "metadata": {},
   "outputs": [],
   "source": [
    "def linkage_attack(df, known_fields):\n",
    "    linkage = df.groupby(known_fields).size()\n",
    "    return linkage[linkage == 1].count() / len(df) * 100\n",
    "\n",
    "linkage_attack(df, ['ZipPrefix', 'DestinationCity'])"
   ]
  },
  {
   "cell_type": "code",
   "execution_count": 10,
   "metadata": {},
   "outputs": [],
   "source": [
    "df['PrivacyRiskScore'].hist(bins=20)\n",
    "plt.xlabel('Privacy Risk Score')\n",
    "plt.ylabel('Frequency')\n",
    "plt.title('Privacy Risk Score Distribution')\n",
    "plt.show()"
   ]
  },
  {
   "cell_type": "code",
   "execution_count": 11,
   "metadata": {},
   "outputs": [],
   "source": [
    "df.nlargest(10, 'PrivacyRiskScore')"
   ]
  }
 ],
 "metadata": {
  "kernelspec": {
   "display_name": "Python 3",
   "language": "python3",
   "name": "python3"
  },
  "language_info": {
   "name": "python",
   "version": "3.10",
   "mimetype": "text/x-python",
   "file_extension": ".py",
   "codemirror_mode": {
    "name": "ipython",
    "version": 3
   }
  }
 },
 "nbformat": 4,
 "nbformat_minor": 5
}