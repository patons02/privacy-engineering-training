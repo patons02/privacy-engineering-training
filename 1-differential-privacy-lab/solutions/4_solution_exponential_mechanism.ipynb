{
 "cells": [
  {
   "cell_type": "markdown",
   "id": "eb087315",
   "metadata": {},
   "source": [
    "# 🛠️ Solution: Exponential Mechanism"
   ]
  },
  {
   "cell_type": "markdown",
   "id": "9c246cf4",
   "metadata": {},
   "source": [
    "## Exercise: Implement the Exponential Mechanism Sampling\n",
    "\n",
    "We now implement a function that samples based on scores and ε."
   ]
  },
  {
   "cell_type": "code",
   "execution_count": null,
   "id": "ed0b94c5",
   "metadata": {},
   "outputs": [],
   "source": [
    "import numpy as np\n",
    "\n",
    "\n",
    "def exponential_mechanism(\n",
    "    candidates: list, scores: list, epsilon: float, sensitivity: float\n",
    ") -> str:\n",
    "    scaled_scores = [np.exp((epsilon * score) / (2 * sensitivity)) for score in scores]\n",
    "    probabilities = scaled_scores / np.sum(scaled_scores)\n",
    "    return np.random.choice(candidates, p=probabilities)"
   ]
  },
  {
   "cell_type": "code",
   "execution_count": null,
   "id": "7e16a897",
   "metadata": {},
   "outputs": [],
   "source": [
    "# --- Auto-checker ---\n",
    "try:\n",
    "    candidates = [\"apple\", \"banana\", \"cherry\"]\n",
    "    scores = [3, 1, 2]\n",
    "    selection = exponential_mechanism(candidates, scores, epsilon=1.0, sensitivity=1.0)\n",
    "    assert selection in candidates\n",
    "    print(\"✅ Exercise Passed! Exponential mechanism works.\")\n",
    "except Exception as e:\n",
    "    print(\n",
    "        \"❌ Test failed. Make sure you sample proportionally to exp(epsilon * score / (2 * sensitivity)).\"\n",
    "    )\n",
    "    raise"
   ]
  },
  {
   "cell_type": "markdown",
   "id": "23275611",
   "metadata": {},
   "source": [
    "### 🧠 Key Takeaways\n",
    "- Higher score → higher selection probability.\n",
    "- Higher ε → more deterministic; lower ε → more random."
   ]
  }
 ],
 "metadata": {
  "kernelspec": {
   "display_name": "Python 3",
   "language": "python3",
   "name": "python3"
  },
  "language_info": {
   "name": "python",
   "version": "3.10"
  }
 },
 "nbformat": 4,
 "nbformat_minor": 5
}
