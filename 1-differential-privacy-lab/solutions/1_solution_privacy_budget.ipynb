{
 "cells": [
  {
   "cell_type": "markdown",
   "id": "444ea632",
   "metadata": {},
   "source": [
    "# 🛡️ Solutions — Privacy Budget and Global vs Local Models\n",
    "\n",
    "Built by **Stu** 🚀"
   ]
  },
  {
   "cell_type": "markdown",
   "id": "b09218f4",
   "metadata": {},
   "source": [
    "## Solutions to Exercises 1–8"
   ]
  },
  {
   "cell_type": "markdown",
   "id": "2638790c",
   "metadata": {},
   "source": [
    "### Solution 1: What is Differential Privacy?"
   ]
  },
  {
   "cell_type": "code",
   "execution_count": null,
   "id": "0f42e271",
   "metadata": {},
   "outputs": [],
   "source": [
    "your_answer = \"Differential Privacy ensures that the removal or addition of a single database item does not significantly affect the output of any analysis, providing strong privacy guarantees.\""
   ]
  },
  {
   "cell_type": "markdown",
   "id": "380dc865",
   "metadata": {},
   "source": [
    "### Solution 2: Example of Neighboring Databases"
   ]
  },
  {
   "cell_type": "code",
   "execution_count": null,
   "id": "3dd7fb15",
   "metadata": {},
   "outputs": [],
   "source": [
    "dataset_A = [1, 2, 3]\n",
    "dataset_B = [1, 2]"
   ]
  },
  {
   "cell_type": "markdown",
   "id": "345ada3d",
   "metadata": {},
   "source": [
    "### Solution 3: Calculate Privacy Loss"
   ]
  },
  {
   "cell_type": "code",
   "execution_count": null,
   "id": "02deee52",
   "metadata": {},
   "outputs": [],
   "source": [
    "import numpy as np\n",
    "p1 = 0.6\n",
    "p2 = 0.4\n",
    "privacy_loss = np.log(p1/p2)"
   ]
  },
  {
   "cell_type": "markdown",
   "id": "9dd539f3",
   "metadata": {},
   "source": [
    "### Solution 4: Intuitive Explanation for Epsilon"
   ]
  },
  {
   "cell_type": "code",
   "execution_count": null,
   "id": "2de1b115",
   "metadata": {},
   "outputs": [],
   "source": [
    "epsilon_explanation = \"Epsilon measures how much more likely an output is when one individual’s data is included versus when it is not. Smaller epsilon means greater privacy.\""
   ]
  },
  {
   "cell_type": "markdown",
   "id": "859a167d",
   "metadata": {},
   "source": [
    "### Solution 5: Real-World ε — Apple Example"
   ]
  },
  {
   "cell_type": "code",
   "execution_count": null,
   "id": "cd04e2f4",
   "metadata": {},
   "outputs": [],
   "source": [
    "apple_epsilon_commentary = \"An epsilon of around 1 implies moderate privacy protection: each data contribution changes results slightly, but not dramatically.\""
   ]
  },
  {
   "cell_type": "markdown",
   "id": "207b798f",
   "metadata": {},
   "source": [
    "### Solution 6: ε Impact on Privacy"
   ]
  },
  {
   "cell_type": "code",
   "execution_count": null,
   "id": "3707e7e0",
   "metadata": {},
   "outputs": [],
   "source": [
    "privacy_ranking = [0.1, 1, 5]"
   ]
  },
  {
   "cell_type": "markdown",
   "id": "98425f62",
   "metadata": {},
   "source": [
    "### Solution 7: Plot Risk vs Epsilon"
   ]
  },
  {
   "cell_type": "code",
   "execution_count": null,
   "id": "8e8a0835",
   "metadata": {},
   "outputs": [],
   "source": [
    "import matplotlib.pyplot as plt\n",
    "epsilons = [0.1, 0.5, 1, 2, 5]\n",
    "risks = [np.exp(e) for e in epsilons]\n",
    "\n",
    "plt.plot(epsilons, risks)\n",
    "plt.xlabel('Epsilon')\n",
    "plt.ylabel('Relative Risk')\n",
    "plt.title('Risk vs Epsilon')\n",
    "plt.grid(True)\n",
    "plt.show()"
   ]
  },
  {
   "cell_type": "markdown",
   "id": "a2af78e3",
   "metadata": {},
   "source": [
    "### Solution 8: What are Neighboring Databases?"
   ]
  },
  {
   "cell_type": "code",
   "execution_count": null,
   "id": "ff6f3518",
   "metadata": {},
   "outputs": [],
   "source": [
    "neighboring_explanation = \"Neighboring databases differ by exactly one individual's data record.\""
   ]
  },
  {
   "cell_type": "markdown",
   "id": "48ba2e6c",
   "metadata": {},
   "source": [
    "## Solutions to Exercises 9–15"
   ]
  },
  {
   "cell_type": "markdown",
   "id": "080c8231",
   "metadata": {},
   "source": [
    "### Solution 9: Global Model Example"
   ]
  },
  {
   "cell_type": "code",
   "execution_count": null,
   "id": "a6446acb",
   "metadata": {},
   "outputs": [],
   "source": [
    "global_dp_example = \"A hospital collecting sensitive health records in a centralized database and applying differential privacy before publishing statistics.\""
   ]
  },
  {
   "cell_type": "markdown",
   "id": "4bd04377",
   "metadata": {},
   "source": [
    "### Solution 10: Local Model Example"
   ]
  },
  {
   "cell_type": "code",
   "execution_count": null,
   "id": "544623b4",
   "metadata": {},
   "outputs": [],
   "source": [
    "local_dp_example = \"A mobile keyboard app where each user's typing behavior is randomized on the device before any data is sent to the server.\""
   ]
  },
  {
   "cell_type": "markdown",
   "id": "878edec8",
   "metadata": {},
   "source": [
    "### Solution 11: Why is Local DP More Noisy?"
   ]
  },
  {
   "cell_type": "code",
   "execution_count": null,
   "id": "ea59c3b6",
   "metadata": {},
   "outputs": [],
   "source": [
    "local_noise_reason = \"Because each individual adds noise before sharing, the aggregated data contains higher uncertainty compared to trusted aggregation.\""
   ]
  },
  {
   "cell_type": "markdown",
   "id": "2958af9f",
   "metadata": {},
   "source": [
    "### Solution 12: Composition of Privacy Budgets"
   ]
  },
  {
   "cell_type": "code",
   "execution_count": null,
   "id": "57079b0b",
   "metadata": {},
   "outputs": [],
   "source": [
    "composition_explanation = \"When answering multiple queries, privacy losses add up linearly under basic composition theorems.\""
   ]
  },
  {
   "cell_type": "markdown",
   "id": "05594be0",
   "metadata": {},
   "source": [
    "### Solution 13: Summing Epsilons"
   ]
  },
  {
   "cell_type": "code",
   "execution_count": null,
   "id": "8a0a2da5",
   "metadata": {},
   "outputs": [],
   "source": [
    "total_epsilon = 0.5 * 4"
   ]
  },
  {
   "cell_type": "markdown",
   "id": "d4641955",
   "metadata": {},
   "source": [
    "### Solution 14: Privacy Amplification by Subsampling"
   ]
  },
  {
   "cell_type": "code",
   "execution_count": null,
   "id": "1db6d047",
   "metadata": {},
   "outputs": [],
   "source": [
    "amplification_explanation = \"Sampling a small subset reduces effective epsilon, offering stronger privacy for the whole population.\""
   ]
  },
  {
   "cell_type": "markdown",
   "id": "9174d8e0",
   "metadata": {},
   "source": [
    "### Solution 15: Bonus Challenge - Budget Management"
   ]
  },
  {
   "cell_type": "code",
   "execution_count": null,
   "id": "4c382250",
   "metadata": {},
   "outputs": [],
   "source": [
    "budget_split = {\n",
    "    \"weekly\": 1.5,\n",
    "    \"monthly\": 1.5,\n",
    "    \"year_end\": 2.0\n",
    "}"
   ]
  }
 ],
 "metadata": {
  "kernelspec": {
   "display_name": "Python 3",
   "language": "python",
   "name": "python3"
  },
  "language_info": {
   "name": "python",
   "version": "3.10"
  }
 },
 "nbformat": 4,
 "nbformat_minor": 5
}
