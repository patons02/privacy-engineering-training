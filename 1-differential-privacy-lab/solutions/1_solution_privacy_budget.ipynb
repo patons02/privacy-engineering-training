{
 "cells": [
  {
   "cell_type": "markdown",
   "id": "ae0466d5",
   "metadata": {},
   "source": [
    "# 🛠️ Solution: Privacy Budget (ε)"
   ]
  },
  {
   "cell_type": "markdown",
   "id": "48b463bb",
   "metadata": {},
   "source": [
    "## Exercise: Compute Privacy Loss\n",
    "\n",
    "We now implement the privacy loss formula:\n",
    "\n",
    "$$\n",
    "\\epsilon = \\log\\left(\\frac{p1}{p2}\\right)\n",
    "$$"
   ]
  },
  {
   "cell_type": "code",
   "execution_count": null,
   "id": "a6543223",
   "metadata": {},
   "outputs": [],
   "source": [
    "import math\n",
    "\n",
    "\n",
    "def privacy_loss(p1: float, p2: float) -> float:\n",
    "    return math.log(p1 / p2)"
   ]
  },
  {
   "cell_type": "code",
   "execution_count": null,
   "id": "0a26b1d3",
   "metadata": {},
   "outputs": [],
   "source": [
    "# --- Auto-checker ---\n",
    "try:\n",
    "    assert abs(privacy_loss(0.6, 0.5) - 0.182) < 0.01\n",
    "    assert abs(privacy_loss(0.8, 0.5) - 0.47) < 0.01\n",
    "    print(\"✅ Exercise Passed! Great job.\")\n",
    "except Exception as e:\n",
    "    print(\"❌ Test failed. Double-check your formula for ε = log(p1 / p2).\")\n",
    "    raise"
   ]
  },
  {
   "cell_type": "markdown",
   "id": "8f46e76a",
   "metadata": {},
   "source": [
    "### 🧠 Key Takeaways\n",
    "- Smaller difference between p1 and p2 → smaller ε → stronger privacy.\n",
    "- Larger difference → larger ε → weaker privacy."
   ]
  }
 ],
 "metadata": {
  "kernelspec": {
   "display_name": "Python 3",
   "language": "python",
   "name": "python3"
  },
  "language_info": {
   "name": "python",
   "version": "3.10"
  }
 },
 "nbformat": 4,
 "nbformat_minor": 5
}
