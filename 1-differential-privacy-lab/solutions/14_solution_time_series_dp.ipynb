{
 "cells": [
  {
   "cell_type": "markdown",
   "metadata": {},
   "source": [
    "# 🛡️ Solutions — Differential Privacy for Time Series\n",
    "\n",
    "Built by **Stu** 🚀"
   ]
  },
  {
   "cell_type": "markdown",
   "metadata": {},
   "source": [
    "## Solutions to Exercises 1–12"
   ]
  },
  {
   "cell_type": "code",
   "execution_count": 1,
   "metadata": {},
   "outputs": [],
   "source": [
    "time_series_dp_goal = \"Protect per-time-unit aggregates while allowing useful temporal trends to emerge.\""
   ]
  },
  {
   "cell_type": "code",
   "execution_count": 2,
   "metadata": {},
   "outputs": [],
   "source": [
    "np.random.seed(0)\n",
    "true_counts = np.random.poisson(lam=5, size=100)\n",
    "true_counts[:10]"
   ]
  },
  {
   "cell_type": "code",
   "execution_count": 3,
   "metadata": {},
   "outputs": [],
   "source": [
    "epsilon = 1.0\n",
    "noisy_counts = true_counts + np.random.laplace(0, 1/epsilon, size=100)\n",
    "noisy_counts[:10]"
   ]
  },
  {
   "cell_type": "code",
   "execution_count": 4,
   "metadata": {},
   "outputs": [],
   "source": [
    "plt.plot(true_counts, label='True Counts')\n",
    "plt.plot(noisy_counts, label='Noisy Counts')\n",
    "plt.legend()\n",
    "plt.title('True vs Noisy Event Counts Over Time')\n",
    "plt.show()"
   ]
  },
  {
   "cell_type": "code",
   "execution_count": 5,
   "metadata": {},
   "outputs": [],
   "source": [
    "mae = np.mean(np.abs(true_counts - noisy_counts))\n",
    "mae"
   ]
  },
  {
   "cell_type": "code",
   "execution_count": 6,
   "metadata": {},
   "outputs": [],
   "source": [
    "window_size = 10\n",
    "rolling_sum = np.convolve(true_counts, np.ones(window_size), 'valid')\n",
    "rolling_sum[:5]"
   ]
  },
  {
   "cell_type": "code",
   "execution_count": 7,
   "metadata": {},
   "outputs": [],
   "source": [
    "noisy_rolling_sum = rolling_sum + np.random.laplace(0, window_size/epsilon, size=len(rolling_sum))\n",
    "noisy_rolling_sum[:5]"
   ]
  },
  {
   "cell_type": "code",
   "execution_count": 8,
   "metadata": {},
   "outputs": [],
   "source": [
    "plt.plot(rolling_sum, label='True Rolling Sum')\n",
    "plt.plot(noisy_rolling_sum, label='Noisy Rolling Sum')\n",
    "plt.legend()\n",
    "plt.title('Rolling Window Aggregates')\n",
    "plt.show()"
   ]
  },
  {
   "cell_type": "code",
   "execution_count": 9,
   "metadata": {},
   "outputs": [],
   "source": [
    "epsilons = [0.1, 0.5, 1.0, 2.0]\n",
    "errors = []\n",
    "for eps in epsilons:\n",
    "    noisy = true_counts + np.random.laplace(0, 1/eps, size=100)\n",
    "    errors.append(np.mean(np.abs(noisy - true_counts)))\n",
    "\n",
    "plt.plot(epsilons, errors)\n",
    "plt.xlabel('ε')\n",
    "plt.ylabel('Mean Absolute Error')\n",
    "plt.title('Utility vs Privacy')\n",
    "plt.show()"
   ]
  },
  {
   "cell_type": "code",
   "execution_count": 10,
   "metadata": {},
   "outputs": [],
   "source": [
    "epsilon_reflection = \"Higher ε gives better accuracy but less privacy. Lower ε gives stronger privacy but worse accuracy.\""
   ]
  },
  {
   "cell_type": "code",
   "execution_count": 11,
   "metadata": {},
   "outputs": [],
   "source": [
    "dynamic_sensitivity_sketch = \"Adjust sensitivity based on volume or variability in time bins (e.g., heavier noise on busy days).\""
   ]
  },
  {
   "cell_type": "code",
   "execution_count": 12,
   "metadata": {},
   "outputs": [],
   "source": [
    "real_world_application_sketch = \"Apply DP to telemetry logs, IoT sensor readings, health monitoring time series.\""
   ]
  }
 ],
 "metadata": {
  "kernelspec": {
   "display_name": "Python 3",
   "language": "python3"
  },
  "language_info": {
   "name": "python",
   "version": "3.10",
   "mimetype": "text/x-python",
   "file_extension": ".py",
   "codemirror_mode": {
    "name": "ipython",
    "version": 3
   }
  }
 },
 "nbformat": 4,
 "nbformat_minor": 5
}