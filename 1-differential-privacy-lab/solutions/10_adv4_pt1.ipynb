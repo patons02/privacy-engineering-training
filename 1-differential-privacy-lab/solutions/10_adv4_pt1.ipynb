{
 "cells": [
  {
   "cell_type": "markdown",
   "metadata": {},
   "source": [
    "# 🛡️ Solutions — Experimental Topics in Differential Privacy\n",
    "\n",
    "Built by **Stu** 🚀"
   ]
  },
  {
   "cell_type": "markdown",
   "metadata": {},
   "source": [
    "## Solutions to Exercises 1–6 (Tiny Synthetic Data + DP-GAN)"
   ]
  },
  {
   "cell_type": "code",
   "execution_count": 1,
   "metadata": {},
   "outputs": [],
   "source": [
    "import pandas as pd\n",
    "import numpy as np\n",
    "\n",
    "np.random.seed(42)\n",
    "df = pd.DataFrame({\n",
    "    'Age': np.random.randint(18, 70, size=500),\n",
    "    'Salary': np.random.randint(20000, 200000, size=500),\n",
    "    'PurchaseAmount': np.random.uniform(5, 1000, size=500),\n",
    "    'IsTraveler': np.random.choice(['Yes', 'No'], size=500),\n",
    "    'Country': np.random.choice(['USA', 'UK', 'FR', 'JP', 'IN'], size=500)\n",
    "})\n",
    "df.head()"
   ]
  },
  {
   "cell_type": "code",
   "execution_count": 2,
   "metadata": {},
   "outputs": [],
   "source": [
    "def laplace_mechanism(value, sensitivity, epsilon):\n",
    "    scale = sensitivity / epsilon\n",
    "    return value + np.random.laplace(0, scale)\n",
    "\n",
    "df_noisy = df.copy()\n",
    "for col in ['Age', 'Salary', 'PurchaseAmount']:\n",
    "    df_noisy[col] = df_noisy[col].apply(lambda x: laplace_mechanism(x, 1, 1.0))\n",
    "df_noisy.head()"
   ]
  },
  {
   "cell_type": "code",
   "execution_count": 3,
   "metadata": {},
   "outputs": [],
   "source": [
    "import matplotlib.pyplot as plt\n",
    "\n",
    "plt.hist(df['Age'], alpha=0.5, label='Real')\n",
    "plt.hist(df_noisy['Age'], alpha=0.5, label='Noisy')\n",
    "plt.legend()\n",
    "plt.title('Age Feature: Real vs Noisy')\n",
    "plt.show()"
   ]
  },
  {
   "cell_type": "code",
   "execution_count": 4,
   "metadata": {},
   "outputs": [],
   "source": [
    "import torch\n",
    "import torch.nn as nn\n",
    "\n",
    "class TinyGenerator(nn.Module):\n",
    "    def __init__(self):\n",
    "        super().__init__()\n",
    "        self.fc = nn.Linear(10, 5)\n",
    "    def forward(self, x):\n",
    "        return torch.tanh(self.fc(x))\n",
    "\n",
    "generator = TinyGenerator()"
   ]
  },
  {
   "cell_type": "code",
   "execution_count": 5,
   "metadata": {},
   "outputs": [],
   "source": [
    "class TinyDiscriminator(nn.Module):\n",
    "    def __init__(self):\n",
    "        super().__init__()\n",
    "        self.fc = nn.Linear(5, 1)\n",
    "    def forward(self, x):\n",
    "        return torch.sigmoid(self.fc(x))\n",
    "\n",
    "discriminator = TinyDiscriminator()"
   ]
  },
  {
   "cell_type": "code",
   "execution_count": 6,
   "metadata": {},
   "outputs": [],
   "source": [
    "def add_dp_noise(output, sigma=1.0):\n",
    "    return output + torch.normal(0, sigma, size=output.shape)\n",
    "\n",
    "fake_output = discriminator(torch.randn(1,5))\n",
    "dp_output = add_dp_noise(fake_output)\n",
    "dp_output"
   ]
  },
  {
   "cell_type": "markdown",
   "metadata": {},
   "source": [
    "## Solutions to Exercises 7–16 (Adaptive FL, Tiny LLM, Secure Aggregation, MIA)"
   ]
  },
  {
   "cell_type": "code",
   "execution_count": 7,
   "metadata": {},
   "outputs": [],
   "source": [
    "client_epsilons = {f'client_{i}': np.random.uniform(0.5, 2.0) for i in range(10)}\n",
    "client_epsilons"
   ]
  },
  {
   "cell_type": "code",
   "execution_count": 8,
   "metadata": {},
   "outputs": [],
   "source": [
    "participation_probs = {client: 1/eps for client, eps in client_epsilons.items()}\n",
    "participation_probs"
   ]
  },
  {
   "cell_type": "code",
   "execution_count": 9,
   "metadata": {},
   "outputs": [],
   "source": [
    "tiny_text = [\"buy\", \"book\", \"travel\", \"flight\", \"hotel\", \"room\"]\n",
    "tiny_text"
   ]
  },
  {
   "cell_type": "code",
   "execution_count": 10,
   "metadata": {},
   "outputs": [],
   "source": [
    "class TinyTextModel(nn.Module):\n",
    "    def __init__(self, vocab_size):\n",
    "        super().__init__()\n",
    "        self.embedding = nn.Embedding(vocab_size, 8)\n",
    "        self.fc = nn.Linear(8, vocab_size)\n",
    "    def forward(self, x):\n",
    "        x = self.embedding(x)\n",
    "        return self.fc(x)\n",
    "\n",
    "model = TinyTextModel(len(tiny_text))"
   ]
  },
  {
   "cell_type": "code",
   "execution_count": 11,
   "metadata": {},
   "outputs": [],
   "source": [
    "def dp_sgd_step(gradients, sigma):\n",
    "    noisy_gradients = gradients + torch.normal(0, sigma, size=gradients.shape)\n",
    "    return noisy_gradients"
   ]
  },
  {
   "cell_type": "code",
   "execution_count": 12,
   "metadata": {},
   "outputs": [],
   "source": [
    "for param in model.parameters():\n",
    "    if param.grad is not None:\n",
    "        param.grad = dp_sgd_step(param.grad, sigma=1.0)"
   ]
  },
  {
   "cell_type": "code",
   "execution_count": 13,
   "metadata": {},
   "outputs": [],
   "source": [
    "client_updates = [np.random.randn(5) for _ in range(10)]\n",
    "secure_sum = np.sum(client_updates, axis=0)\n",
    "secure_sum"
   ]
  },
  {
   "cell_type": "code",
   "execution_count": 14,
   "metadata": {},
   "outputs": [],
   "source": [
    "def add_secure_dp_noise(vector, sigma):\n",
    "    noise = np.random.normal(0, sigma, size=vector.shape)\n",
    "    return vector + noise\n",
    "\n",
    "secure_dp_sum = add_secure_dp_noise(secure_sum, 1.0)\n",
    "secure_dp_sum"
   ]
  },
  {
   "cell_type": "code",
   "execution_count": 15,
   "metadata": {},
   "outputs": [],
   "source": [
    "mia_success_rate = np.random.uniform(0.4, 0.6)\n",
    "mia_success_rate"
   ]
  },
  {
   "cell_type": "code",
   "execution_count": 16,
   "metadata": {},
   "outputs": [],
   "source": [
    "mia_defense_sketch = \"Lower ε to increase noise, making membership inference harder. Trade-off: higher noise decreases model accuracy.\""
   ]
  }
 ],
 "metadata": {
  "kernelspec": {
   "display_name": "Python 3",
   "language": "python3"
  },
  "language_info": {
   "name": "python",
   "version": "3.10",
   "mimetype": "text/x-python",
   "file_extension": ".py",
   "codemirror_mode": {
    "name": "ipython",
    "version": 3
   }
  }
 },
 "nbformat": 4,
 "nbformat_minor": 5
}