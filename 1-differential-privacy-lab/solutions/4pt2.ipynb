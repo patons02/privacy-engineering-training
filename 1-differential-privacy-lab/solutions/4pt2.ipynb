{
 "cells": [
  {
   "cell_type": "markdown",
   "metadata": {},
   "source": [
    "## Solutions to Exercises 9–16"
   ]
  },
  {
   "cell_type": "code",
   "execution_count": 9,
   "metadata": {},
   "outputs": [],
   "source": [
    "epsilon_effect_explanation = \"Increasing ε sharpens the selection probability toward the highest-scoring candidates, making the mechanism more deterministic.\""
   ]
  },
  {
   "cell_type": "code",
   "execution_count": 10,
   "metadata": {},
   "outputs": [],
   "source": [
    "samples_low = [sample_candidate(candidates, scores, 0.1, 3) for _ in range(1000)]\n",
    "samples_high = [sample_candidate(candidates, scores, 2.0, 3) for _ in range(1000)]\n",
    "\n",
    "import matplotlib.pyplot as plt\n",
    "fig, axs = plt.subplots(1, 2, figsize=(12,5))\n",
    "axs[0].hist(samples_low, bins=np.arange(len(candidates)+1)-0.5, rwidth=0.8)\n",
    "axs[0].set_title('ε=0.1')\n",
    "axs[1].hist(samples_high, bins=np.arange(len(candidates)+1)-0.5, rwidth=0.8)\n",
    "axs[1].set_title('ε=2.0')\n",
    "plt.show()"
   ]
  },
  {
   "cell_type": "code",
   "execution_count": 11,
   "metadata": {},
   "outputs": [],
   "source": [
    "restaurants = [\"Pizza Place\", \"Burger Joint\", \"Sushi Bar\"]\n",
    "restaurant_scores = [4.0, 3.5, 4.5]\n",
    "chosen_restaurant = sample_candidate(restaurants, restaurant_scores, epsilon=1.0, sensitivity=1)\n",
    "chosen_restaurant"
   ]
  },
  {
   "cell_type": "code",
   "execution_count": 12,
   "metadata": {},
   "outputs": [],
   "source": [
    "samples_restaurants = [sample_candidate(restaurants, restaurant_scores, 1.0, 1) for _ in range(1000)]\n",
    "plt.hist(samples_restaurants, bins=np.arange(len(restaurants)+1)-0.5, rwidth=0.8)\n",
    "plt.xticks(range(len(restaurants)), restaurants)\n",
    "plt.title('Restaurant Sampling with Exponential Mechanism')\n",
    "plt.show()"
   ]
  },
  {
   "cell_type": "code",
   "execution_count": 13,
   "metadata": {},
   "outputs": [],
   "source": [
    "candidates = [\"Cand_A\", \"Cand_B\", \"Cand_C\", \"Cand_D\"]\n",
    "job_scores = [92, 85, 88, 90]\n",
    "chosen_candidate = sample_candidate(candidates, job_scores, epsilon=0.5, sensitivity=10)\n",
    "chosen_candidate"
   ]
  },
  {
   "cell_type": "code",
   "execution_count": 14,
   "metadata": {},
   "outputs": [],
   "source": [
    "strategy_to_improve = \"Increase ε slightly to sharpen probabilities toward the highest-scoring candidate without totally sacrificing privacy.\""
   ]
  },
  {
   "cell_type": "code",
   "execution_count": 15,
   "metadata": {},
   "outputs": [],
   "source": [
    "exponential_limitations = \"Requires a well-defined score function; sensitive to score range scaling; computational cost for large output spaces.\""
   ]
  },
  {
   "cell_type": "code",
   "execution_count": 16,
   "metadata": {},
   "outputs": [],
   "source": [
    "importance_reflection = \"The Exponential Mechanism enables privacy-preserving selection of non-numeric outputs, like best product, best location, or best candidate.\""
   ]
  }
 ],
 "metadata": {
  "kernelspec": {
   "display_name": "Python 3",
   "language": "python",
   "name": "python3"
  },
  "language_info": {
   "name": "python",
   "version": "3.10",
   "mimetype": "text/x-python",
   "file_extension": ".py",
   "codemirror_mode": {
    "name": "ipython",
    "version": 3
   }
  }
 },
 "nbformat": 4,
 "nbformat_minor": 5
}