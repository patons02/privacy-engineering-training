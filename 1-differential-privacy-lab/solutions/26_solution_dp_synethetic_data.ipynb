{
 "cells": [
  {
   "cell_type": "markdown",
   "metadata": {},
   "source": [
    "# 🛡️ Solutions — Private Synthetic Data Generation\n",
    "\n",
    "Built by **Stu** 🚀"
   ]
  },
  {
   "cell_type": "markdown",
   "metadata": {},
   "source": [
    "## Solutions to Exercises 1–8"
   ]
  },
  {
   "cell_type": "code",
   "execution_count": 1,
   "metadata": {},
   "outputs": [],
   "source": [
    "synthetic_data_definition = \"Data generated artificially based on patterns learned from real datasets.\""
   ]
  },
  {
   "cell_type": "code",
   "execution_count": 2,
   "metadata": {},
   "outputs": [],
   "source": [
    "synthetic_privacy_risks = \"Poorly generated synthetic data could still leak sensitive attributes if overfit to real examples.\""
   ]
  },
  {
   "cell_type": "code",
   "execution_count": 3,
   "metadata": {},
   "outputs": [],
   "source": [
    "import numpy as np\n",
    "import pandas as pd\n",
    "np.random.seed(42)\n",
    "n_samples = 300\n",
    "prices = np.random.uniform(10, 500, n_samples)\n",
    "bought = (prices < 250).astype(int)\n",
    "real_data = pd.DataFrame({'Price': prices, 'Bought': bought})\n",
    "real_data.head()"
   ]
  },
  {
   "cell_type": "code",
   "execution_count": 4,
   "metadata": {},
   "outputs": [],
   "source": [
    "def add_noise_to_data(df, epsilon=1.0):\n",
    "    noisy_df = df.copy()\n",
    "    for col in df.columns:\n",
    "        noisy_df[col] += np.random.laplace(0, 1/epsilon, size=df.shape[0])\n",
    "    return noisy_df\n",
    "\n",
    "noisy_data = add_noise_to_data(real_data, epsilon=0.5)\n",
    "noisy_data.head()"
   ]
  },
  {
   "cell_type": "code",
   "execution_count": 5,
   "metadata": {},
   "outputs": [],
   "source": [
    "from sklearn.linear_model import LogisticRegression\n",
    "X = noisy_data[['Price']]\n",
    "y = (noisy_data['Bought'] > 0.5).astype(int)\n",
    "model = LogisticRegression()\n",
    "model.fit(X, y)\n",
    "model.score(X, y)"
   ]
  },
  {
   "cell_type": "code",
   "execution_count": 6,
   "metadata": {},
   "outputs": [],
   "source": [
    "synthetic_prices = np.random.uniform(10, 500, n_samples)\n",
    "synthetic_probs = model.predict_proba(synthetic_prices.reshape(-1,1))[:,1]\n",
    "synthetic_bought = (synthetic_probs > 0.5).astype(int)\n",
    "synthetic_data = pd.DataFrame({'Price': synthetic_prices, 'Bought': synthetic_bought})\n",
    "synthetic_data.head()"
   ]
  },
  {
   "cell_type": "code",
   "execution_count": 7,
   "metadata": {},
   "outputs": [],
   "source": [
    "synthetic_quality_reflection = \"Synthetic data roughly matches trends, but noise makes it less sharp. Still useful for safe analytics.\""
   ]
  },
  {
   "cell_type": "code",
   "execution_count": 8,
   "metadata": {},
   "outputs": [],
   "source": [
    "synthetic_summary = \"DP-protected synthetic data reduces reidentification risk but at the cost of slightly less realism.\""
   ]
  }
 ],
 "metadata": {
  "kernelspec": {
   "display_name": "Python 3",
   "language": "python3"
  },
  "language_info": {
   "name": "python",
   "version": "3.10",
   "mimetype": "text/x-python",
   "file_extension": ".py",
   "codemirror_mode": {
    "name": "ipython",
    "version": 3
   }
  }
 },
 "nbformat": 4,
 "nbformat_minor": 5
}