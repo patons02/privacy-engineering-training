{
 "cells": [
  {
   "cell_type": "markdown",
   "metadata": {},
   "source": [
    "# 📚 Differential Privacy — Composition Theorems\n",
    "\n",
    "Built by **Stu** 🚀"
   ]
  },
  {
   "cell_type": "markdown",
   "metadata": {},
   "source": [
    "## Introduction to Composition\n",
    "\n",
    "Understanding how privacy degrades when we run multiple differentially private algorithms."
   ]
  },
  {
   "cell_type": "markdown",
   "metadata": {},
   "source": [
    "### Exercise 1: What is Privacy Composition?\n",
    "\n",
    "Explain the basic idea of composition in Differential Privacy."
   ]
  },
  {
   "cell_type": "code",
   "execution_count": 1,
   "metadata": {},
   "outputs": [],
   "source": [
    "composition_definition = \"\""
   ]
  },
  {
   "cell_type": "markdown",
   "metadata": {},
   "source": [
    "### Exercise 2: Simple Composition Scenario\n",
    "\n",
    "Suppose you run two ε=1 differentially private queries. What is the total privacy loss?"
   ]
  },
  {
   "cell_type": "code",
   "execution_count": 2,
   "metadata": {},
   "outputs": [],
   "source": [
    "total_privacy_loss_simple = 2"
   ]
  },
  {
   "cell_type": "markdown",
   "metadata": {},
   "source": [
    "## Basic Composition Theorem\n"
   ]
  },
  {
   "cell_type": "markdown",
   "metadata": {},
   "source": [
    "### Exercise 3: Basic Composition Math\n",
    "\n",
    "State the basic composition theorem formally."
   ]
  },
  {
   "cell_type": "code",
   "execution_count": 3,
   "metadata": {},
   "outputs": [],
   "source": [
    "basic_composition_formula = \"The sum of the ε of all mechanisms.\""
   ]
  },
  {
   "cell_type": "markdown",
   "metadata": {},
   "source": [
    "### Exercise 4: Cumulative ε for 5 Queries\n",
    "\n",
    "If each query uses ε=0.5, what is the total after 5 queries?"
   ]
  },
  {
   "cell_type": "code",
   "execution_count": 4,
   "metadata": {},
   "outputs": [],
   "source": [
    "cumulative_privacy_loss = 0.5 * 5"
   ]
  },
  {
   "cell_type": "markdown",
   "metadata": {},
   "source": [
    "### Exercise 5: Write a Privacy Tracker\n",
    "\n",
    "Code a function that tracks total ε after each query."
   ]
  },
  {
   "cell_type": "code",
   "execution_count": 5,
   "metadata": {},
   "outputs": [],
   "source": [
    "def track_privacy(epsilon, queries):\n",
    "    return epsilon * queries"
   ]
  },
  {
   "cell_type": "markdown",
   "metadata": {},
   "source": [
    "### Exercise 6: Plot Privacy Loss vs Queries\n",
    "\n",
    "Plot how total ε grows as you run more queries."
   ]
  },
  {
   "cell_type": "code",
   "execution_count": 6,
   "metadata": {},
   "outputs": [],
   "source": [
    "import matplotlib.pyplot as plt\n",
    "queries = list(range(0, 101))\n",
    "total_epsilon = [track_privacy(0.1, q) for q in queries]\n",
    "plt.plot(queries, total_epsilon)\n",
    "plt.xlabel('Number of Queries')\n",
    "plt.ylabel('Total Privacy Loss (ε)')\n",
    "plt.title('Privacy Loss Over Queries')\n",
    "plt.show()"
   ]
  },
  {
   "cell_type": "markdown",
   "metadata": {},
   "source": [
    "### Exercise 7: Privacy Budget Exhaustion\n",
    "\n",
    "Suppose your budget is ε=5. How many ε=0.5 queries can you run before exhausting the budget?"
   ]
  },
  {
   "cell_type": "code",
   "execution_count": 7,
   "metadata": {},
   "outputs": [],
   "source": [
    "budget = 5\n",
    "epsilon_per_query = 0.5\n",
    "max_queries = budget / epsilon_per_query\n",
    "max_queries"
   ]
  }
 ],
 "metadata": {
  "kernelspec": {
   "display_name": "Python 3",
   "language": "python",
   "name": "python3"
  },
  "language_info": {
   "name": "python",
   "version": "3.10",
   "mimetype": "text/x-python",
   "file_extension": ".py",
   "codemirror_mode": {
    "name": "ipython",
    "version": 3
   }
  }
 },
 "nbformat": 4,
 "nbformat_minor": 5
}