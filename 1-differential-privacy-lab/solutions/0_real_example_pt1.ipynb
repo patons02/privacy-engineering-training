{
 "cells": [
  {
   "cell_type": "markdown",
   "metadata": {},
   "source": [
    "# 🛡️ Solutions — Realistic Travel Dataset Anonymization\n",
    "\n",
    "Built by **Stu** 🚀"
   ]
  },
  {
   "cell_type": "markdown",
   "metadata": {},
   "source": [
    "## Solutions to Exercises 1–6"
   ]
  },
  {
   "cell_type": "code",
   "execution_count": 1,
   "metadata": {},
   "outputs": [],
   "source": [
    "field_descriptions = \"\"\"\\n- Age: Customer's age in years\\n- ZipCode: Home zip code\\n- Gender: Gender identity\\n- DestinationCity: Booked travel city\\n- TripPurpose: Reason for travel (Leisure, Business, etc.)\\n- BookingPrice: Total cost of booking in USD\\n- LoyaltyStatus: Customer loyalty tier\\n- PrivacyRiskScore: Normalized risk based on uniqueness\\n\"\"\""
   ]
  },
  {
   "cell_type": "code",
   "execution_count": 2,
   "metadata": {},
   "outputs": [],
   "source": [
    "quasi_identifiers = ['Age', 'ZipPrefix', 'Gender']"
   ]
  },
  {
   "cell_type": "code",
   "execution_count": 3,
   "metadata": {},
   "outputs": [],
   "source": [
    "check_k_anonymity(df, ['Age', 'ZipPrefix'], 5)"
   ]
  },
  {
   "cell_type": "code",
   "execution_count": 4,
   "metadata": {},
   "outputs": [],
   "source": [
    "bins = [18, 29, 39, 49, 59, 69, 79]\n",
    "labels = ['18-29', '30-39', '40-49', '50-59', '60-69', '70-79']\n",
    "df['AgeBucket'] = pd.cut(df['Age'], bins=bins, labels=labels, right=True)\n",
    "df.head()"
   ]
  },
  {
   "cell_type": "code",
   "execution_count": 5,
   "metadata": {},
   "outputs": [],
   "source": [
    "check_k_anonymity(df, ['AgeBucket', 'ZipPrefix'], 5)"
   ]
  },
  {
   "cell_type": "code",
   "execution_count": 6,
   "metadata": {},
   "outputs": [],
   "source": [
    "l_diversity_definition = \"An equivalence class satisfies l-diversity if there are at least l distinct sensitive attribute values among the records.\""
   ]
  }
 ],
 "metadata": {
  "kernelspec": {
   "display_name": "Python 3",
   "language": "python3",
   "name": "python3"
  },
  "language_info": {
   "name": "python",
   "version": "3.10",
   "mimetype": "text/x-python",
   "file_extension": ".py",
   "codemirror_mode": {
    "name": "ipython",
    "version": 3
   }
  }
 },
 "nbformat": 4,
 "nbformat_minor": 5
}