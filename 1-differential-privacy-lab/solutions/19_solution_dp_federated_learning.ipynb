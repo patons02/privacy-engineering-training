{
 "cells": [
  {
   "cell_type": "markdown",
   "metadata": {},
   "source": [
    "# 🛡️ Solutions — Differential Privacy in Federated Learning\n",
    "\n",
    "Built by **Stu** 🚀"
   ]
  },
  {
   "cell_type": "markdown",
   "metadata": {},
   "source": [
    "## Solutions to Exercises 1–10"
   ]
  },
  {
   "cell_type": "code",
   "execution_count": 1,
   "metadata": {},
   "outputs": [],
   "source": [
    "federated_learning_definition = \"Training machine learning models across multiple decentralized devices while keeping data local.\""
   ]
  },
  {
   "cell_type": "code",
   "execution_count": 2,
   "metadata": {},
   "outputs": [],
   "source": [
    "dp_in_fl_sketch = \"Even without raw data upload, model updates can leak sensitive information; DP guards against this.\""
   ]
  },
  {
   "cell_type": "code",
   "execution_count": 3,
   "metadata": {},
   "outputs": [],
   "source": [
    "import numpy as np\n",
    "np.random.seed(42)\n",
    "client_gradients = np.random.normal(0, 1, size=(100, 5))\n",
    "client_gradients[:5]"
   ]
  },
  {
   "cell_type": "code",
   "execution_count": 4,
   "metadata": {},
   "outputs": [],
   "source": [
    "def clip_gradients(gradients, clip_norm=1.0):\n",
    "    norms = np.linalg.norm(gradients, axis=1, keepdims=True)\n",
    "    factors = np.minimum(1, clip_norm / (norms + 1e-6))\n",
    "    return gradients * factors\n",
    "\n",
    "clipped_gradients = clip_gradients(client_gradients)\n",
    "clipped_gradients[:5]"
   ]
  },
  {
   "cell_type": "code",
   "execution_count": 5,
   "metadata": {},
   "outputs": [],
   "source": [
    "def add_noise(gradients, noise_multiplier=1.0, clip_norm=1.0):\n",
    "    noise = np.random.normal(0, noise_multiplier * clip_norm, size=gradients.shape)\n",
    "    return gradients + noise\n",
    "\n",
    "noisy_gradients = add_noise(clipped_gradients)\n",
    "noisy_gradients[:5]"
   ]
  },
  {
   "cell_type": "code",
   "execution_count": 6,
   "metadata": {},
   "outputs": [],
   "source": [
    "global_update = np.mean(noisy_gradients, axis=0)\n",
    "global_update"
   ]
  },
  {
   "cell_type": "code",
   "execution_count": 7,
   "metadata": {},
   "outputs": [],
   "source": [
    "noise_levels = [0.1, 0.5, 1.0, 2.0]\n",
    "update_norms = []\n",
    "for noise in noise_levels:\n",
    "    noisy = add_noise(clipped_gradients, noise_multiplier=noise)\n",
    "    update = np.mean(noisy, axis=0)\n",
    "    update_norms.append(np.linalg.norm(update))\n",
    "\n",
    "import matplotlib.pyplot as plt\n",
    "plt.plot(noise_levels, update_norms)\n",
    "plt.xlabel('Noise Multiplier')\n",
    "plt.ylabel('Norm of Aggregated Update')\n",
    "plt.title('Noise vs Update Norm')\n",
    "plt.show()"
   ]
  },
  {
   "cell_type": "code",
   "execution_count": 8,
   "metadata": {},
   "outputs": [],
   "source": [
    "fl_privacy_accuracy_reflection = \"More noise → more privacy but slower or worse model convergence.\""
   ]
  },
  {
   "cell_type": "code",
   "execution_count": 9,
   "metadata": {},
   "outputs": [],
   "source": [
    "real_world_fl_apps = \"Next-word prediction (Gboard), on-device personalization (recommendations), health data models.\""
   ]
  },
  {
   "cell_type": "code",
   "execution_count": 10,
   "metadata": {},
   "outputs": [],
   "source": [
    "future_fl_research = \"Adaptive clipping, secure aggregation, DP accounting improvements for long training sessions.\""
   ]
  }
 ],
 "metadata": {
  "kernelspec": {
   "display_name": "Python 3",
   "language": "python3"
  },
  "language_info": {
   "name": "python",
   "version": "3.10",
   "mimetype": "text/x-python",
   "file_extension": ".py",
   "codemirror_mode": {
    "name": "ipython",
    "version": 3
   }
  }
 },
 "nbformat": 4,
 "nbformat_minor": 5
}