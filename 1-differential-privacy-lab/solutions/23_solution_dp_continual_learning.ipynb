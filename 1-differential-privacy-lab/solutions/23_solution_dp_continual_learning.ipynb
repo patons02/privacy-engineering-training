{
 "cells": [
  {
   "cell_type": "markdown",
   "metadata": {},
   "source": [
    "# 🛡️ Solutions — Differential Privacy in Continual Learning\n",
    "\n",
    "Built by **Stu** 🚀"
   ]
  },
  {
   "cell_type": "markdown",
   "metadata": {},
   "source": [
    "## Solutions to Exercises 1–9"
   ]
  },
  {
   "cell_type": "code",
   "execution_count": 1,
   "metadata": {},
   "outputs": [],
   "source": [
    "continual_learning_definition = \"Training a model sequentially on tasks without forgetting previous knowledge.\""
   ]
  },
  {
   "cell_type": "code",
   "execution_count": 2,
   "metadata": {},
   "outputs": [],
   "source": [
    "continual_privacy_risks = \"Later model updates may leak information about earlier tasks or forgotten examples.\""
   ]
  },
  {
   "cell_type": "code",
   "execution_count": 3,
   "metadata": {},
   "outputs": [],
   "source": [
    "import numpy as np\n",
    "np.random.seed(42)\n",
    "initial_params = np.random.normal(0, 1, size=10)\n",
    "initial_params"
   ]
  },
  {
   "cell_type": "code",
   "execution_count": 4,
   "metadata": {},
   "outputs": [],
   "source": [
    "updates = [np.random.normal(0, 0.1, size=10) for _ in range(5)]\n",
    "params_over_time = [initial_params.copy()]\n",
    "for update in updates:\n",
    "    params_over_time.append(params_over_time[-1] + update)\n",
    "params_over_time[-1]"
   ]
  },
  {
   "cell_type": "code",
   "execution_count": 5,
   "metadata": {},
   "outputs": [],
   "source": [
    "def private_update(params, update, epsilon=1.0):\n",
    "    noise = np.random.laplace(0, 1/epsilon, size=params.shape)\n",
    "    return params + update + noise\n",
    "\n",
    "private_params_over_time = [initial_params.copy()]\n",
    "for update in updates:\n",
    "    new_params = private_update(private_params_over_time[-1], update, epsilon=1.0)\n",
    "    private_params_over_time.append(new_params)\n",
    "private_params_over_time[-1]"
   ]
  },
  {
   "cell_type": "code",
   "execution_count": 6,
   "metadata": {},
   "outputs": [],
   "source": [
    "import matplotlib.pyplot as plt\n",
    "norms = [np.linalg.norm(p) for p in private_params_over_time]\n",
    "plt.plot(range(len(norms)), norms)\n",
    "plt.xlabel('Learning Step')\n",
    "plt.ylabel('Parameter Norm')\n",
    "plt.title('Norm Drift Over Time (Private)')\n",
    "plt.show()"
   ]
  },
  {
   "cell_type": "code",
   "execution_count": 7,
   "metadata": {},
   "outputs": [],
   "source": [
    "continual_reflection = \"DP noise over sequential updates accumulates, making catastrophic forgetting or drift worse.\""
   ]
  },
  {
   "cell_type": "code",
   "execution_count": 8,
   "metadata": {},
   "outputs": [],
   "source": [
    "continual_real_apps = \"On-device continual learning for personalization (e.g., keyboards, recommendations) with privacy.\""
   ]
  },
  {
   "cell_type": "code",
   "execution_count": 9,
   "metadata": {},
   "outputs": [],
   "source": [
    "continual_learning_summary = \"Stronger privacy → more noise → more instability across tasks; new methods needed to control drift.\""
   ]
  }
 ],
 "metadata": {
  "kernelspec": {
   "display_name": "Python 3",
   "language": "python3"
  },
  "language_info": {
   "name": "python",
   "version": "3.10",
   "mimetype": "text/x-python",
   "file_extension": ".py",
   "codemirror_mode": {
    "name": "ipython",
    "version": 3
   }
  }
 },
 "nbformat": 4,
 "nbformat_minor": 5
}