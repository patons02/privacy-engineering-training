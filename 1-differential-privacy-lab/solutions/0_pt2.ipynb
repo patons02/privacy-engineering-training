{
 "cells": [
  {
   "cell_type": "markdown",
   "metadata": {},
   "source": [
    "## Solutions to Exercises 8–13"
   ]
  },
  {
   "cell_type": "code",
   "execution_count": 8,
   "metadata": {},
   "outputs": [],
   "source": [
    "t_closeness_definition = \"An equivalence class satisfies t-closeness if the distribution of a sensitive attribute in the group is close (within t) to the overall distribution.\""
   ]
  },
  {
   "cell_type": "code",
   "execution_count": 9,
   "metadata": {},
   "outputs": [],
   "source": [
    "toy_data['BookingPrice'].hist(bins=10)\n",
    "import matplotlib.pyplot as plt\n",
    "plt.xlabel('Booking Price ($)')\n",
    "plt.ylabel('Frequency')\n",
    "plt.title('Overall Booking Price Distribution')\n",
    "plt.show()"
   ]
  },
  {
   "cell_type": "code",
   "execution_count": 10,
   "metadata": {},
   "outputs": [],
   "source": [
    "simulate_linkage_attack(toy_data, ['Age', 'ZipCode_Generalized'])"
   ]
  },
  {
   "cell_type": "code",
   "execution_count": 11,
   "metadata": {},
   "outputs": [],
   "source": [
    "linkage_results = simulate_linkage_attack(toy_data, ['Age', 'ZipCode_Generalized'])\n",
    "(linkage_results == 1).mean() * 100"
   ]
  },
  {
   "cell_type": "code",
   "execution_count": 12,
   "metadata": {},
   "outputs": [],
   "source": [
    "defense_strategies = \"Use generalization (e.g., wider ZipCode or Age buckets) or suppression (remove risky rows) to reduce identifiability.\""
   ]
  },
  {
   "cell_type": "code",
   "execution_count": 13,
   "metadata": {},
   "outputs": [],
   "source": [
    "group_sizes = toy_data.groupby(['Age', 'ZipCode_Generalized', 'Gender']).size()\n",
    "safe_indices = group_sizes[group_sizes >= 3].index\n",
    "safe_data = toy_data.set_index(['Age', 'ZipCode_Generalized', 'Gender']).loc[safe_indices].reset_index()\n",
    "len(safe_data)"
   ]
  }
 ],
 "metadata": {
  "kernelspec": {
   "display_name": "Python 3",
   "language": "python",
   "name": "python3"
  },
  "language_info": {
   "name": "python",
   "version": "3.10",
   "mimetype": "text/x-python",
   "file_extension": ".py",
   "codemirror_mode": {
    "name": "ipython",
    "version": 3
   }
  }
 },
 "nbformat": 4,
 "nbformat_minor": 5
}