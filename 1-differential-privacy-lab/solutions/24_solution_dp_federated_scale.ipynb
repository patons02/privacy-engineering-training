{
 "cells": [
  {
   "cell_type": "markdown",
   "metadata": {},
   "source": [
    "# 🛡️ Solutions — Differential Privacy in Federated Learning at Scale\n",
    "\n",
    "Built by **Stu** 🚀"
   ]
  },
  {
   "cell_type": "markdown",
   "metadata": {},
   "source": [
    "## Solutions to Exercises 1–10"
   ]
  },
  {
   "cell_type": "code",
   "execution_count": 1,
   "metadata": {},
   "outputs": [],
   "source": [
    "federated_scale_definition = \"Training models across hundreds or thousands of clients, aggregating updates securely and privately.\""
   ]
  },
  {
   "cell_type": "code",
   "execution_count": 2,
   "metadata": {},
   "outputs": [],
   "source": [
    "scaling_challenges = \"Client heterogeneity, unreliable clients, communication bottlenecks, privacy budget management.\""
   ]
  },
  {
   "cell_type": "code",
   "execution_count": 3,
   "metadata": {},
   "outputs": [],
   "source": [
    "import numpy as np\n",
    "np.random.seed(42)\n",
    "client_updates = np.random.normal(0, 1, size=(100, 5))\n",
    "client_updates[:5]"
   ]
  },
  {
   "cell_type": "code",
   "execution_count": 4,
   "metadata": {},
   "outputs": [],
   "source": [
    "def clip_by_norm(gradients, clip_norm=1.0):\n",
    "    norms = np.linalg.norm(gradients, axis=1, keepdims=True)\n",
    "    scale = np.minimum(1, clip_norm / (norms + 1e-6))\n",
    "    return gradients * scale\n",
    "\n",
    "clipped_updates = clip_by_norm(client_updates)\n",
    "clipped_updates[:5]"
   ]
  },
  {
   "cell_type": "code",
   "execution_count": 5,
   "metadata": {},
   "outputs": [],
   "source": [
    "def add_aggregate_noise(aggregated, noise_multiplier=1.0, clip_norm=1.0):\n",
    "    noise = np.random.normal(0, noise_multiplier * clip_norm, size=aggregated.shape)\n",
    "    return aggregated + noise\n",
    "\n",
    "aggregated_update = np.mean(clipped_updates, axis=0)\n",
    "noisy_aggregated_update = add_aggregate_noise(aggregated_update, noise_multiplier=1.0)\n",
    "noisy_aggregated_update"
   ]
  },
  {
   "cell_type": "code",
   "execution_count": 6,
   "metadata": {},
   "outputs": [],
   "source": [
    "client_sizes = [10, 50, 100, 200]\n",
    "norms = []\n",
    "for size in client_sizes:\n",
    "    clients = np.random.normal(0, 1, size=(size, 5))\n",
    "    clipped = clip_by_norm(clients)\n",
    "    aggregated = np.mean(clipped, axis=0)\n",
    "    noisy = add_aggregate_noise(aggregated)\n",
    "    norms.append(np.linalg.norm(noisy))\n",
    "\n",
    "import matplotlib.pyplot as plt\n",
    "plt.plot(client_sizes, norms)\n",
    "plt.xlabel('Number of Clients')\n",
    "plt.ylabel('Norm of Noisy Aggregated Update')\n",
    "plt.title('Clients vs Noisy Update Norm')\n",
    "plt.show()"
   ]
  },
  {
   "cell_type": "code",
   "execution_count": 7,
   "metadata": {},
   "outputs": [],
   "source": [
    "scaling_reflection = \"More clients → each individual contribution becomes smaller → effectively improves privacy guarantees.\""
   ]
  },
  {
   "cell_type": "code",
   "execution_count": 8,
   "metadata": {},
   "outputs": [],
   "source": [
    "large_fl_apps = \"Keyboard next-word prediction, photo categorization, fitness app personalization across millions of users.\""
   ]
  },
  {
   "cell_type": "code",
   "execution_count": 9,
   "metadata": {},
   "outputs": [],
   "source": [
    "def adaptive_noise(aggregated, n_clients, clip_norm=1.0):\n",
    "    effective_epsilon = np.sqrt(n_clients)\n",
    "    noise = np.random.normal(0, clip_norm / effective_epsilon, size=aggregated.shape)\n",
    "    return aggregated + noise\n",
    "\n",
    "adaptive_noisy_update = adaptive_noise(aggregated_update, n_clients=100)\n",
    "adaptive_noisy_update"
   ]
  },
  {
   "cell_type": "code",
   "execution_count": 10,
   "metadata": {},
   "outputs": [],
   "source": [
    "scaling_summary = \"More clients help amplify privacy, but communication and computation costs grow; adaptive techniques balance it.\""
   ]
  }
 ],
 "metadata": {
  "kernelspec": {
   "display_name": "Python 3",
   "language": "python3"
  },
  "language_info": {
   "name": "python",
   "version": "3.10",
   "mimetype": "text/x-python",
   "file_extension": ".py",
   "codemirror_mode": {
    "name": "ipython",
    "version": 3
   }
  }
 },
 "nbformat": 4,
 "nbformat_minor": 5
}