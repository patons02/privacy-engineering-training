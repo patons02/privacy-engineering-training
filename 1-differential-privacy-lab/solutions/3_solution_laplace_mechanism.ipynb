{
 "cells": [
  {
   "cell_type": "markdown",
   "id": "5747ec92",
   "metadata": {},
   "source": [
    "# 🛠️ Solution: Laplace Mechanism"
   ]
  },
  {
   "cell_type": "markdown",
   "id": "dfa38e36",
   "metadata": {},
   "source": [
    "## Exercise: Add Laplace Noise to a Query Result\n",
    "\n",
    "We now implement the function to add noise based on sensitivity and ε (epsilon)."
   ]
  },
  {
   "cell_type": "code",
   "execution_count": null,
   "id": "7cce239c",
   "metadata": {},
   "outputs": [],
   "source": [
    "import numpy as np\n",
    "\n",
    "\n",
    "def add_laplace_noise(value: float, sensitivity: float, epsilon: float) -> float:\n",
    "    scale = sensitivity / epsilon\n",
    "    noise = np.random.laplace(0, scale)\n",
    "    return value + noise"
   ]
  },
  {
   "cell_type": "code",
   "execution_count": null,
   "id": "8073f612",
   "metadata": {},
   "outputs": [],
   "source": [
    "# --- Auto-checker ---\n",
    "try:\n",
    "    noisy_result = add_laplace_noise(10.0, 1.0, 0.5)\n",
    "    assert isinstance(noisy_result, float)\n",
    "    print(\"✅ Exercise Passed! Laplace noise function works.\")\n",
    "except Exception as e:\n",
    "    print(\"❌ Test failed. Double-check your Laplace noise implementation.\")\n",
    "    raise"
   ]
  },
  {
   "cell_type": "markdown",
   "id": "9f33a3c8",
   "metadata": {},
   "source": [
    "### 🧠 Key Takeaways\n",
    "- Smaller ε → larger noise → stronger privacy.\n",
    "- Larger ε → smaller noise → better accuracy."
   ]
  }
 ],
 "metadata": {
  "kernelspec": {
   "display_name": "Python 3",
   "language": "python",
   "name": "python3"
  },
  "language_info": {
   "name": "python",
   "version": "3.10"
  }
 },
 "nbformat": 4,
 "nbformat_minor": 5
}
