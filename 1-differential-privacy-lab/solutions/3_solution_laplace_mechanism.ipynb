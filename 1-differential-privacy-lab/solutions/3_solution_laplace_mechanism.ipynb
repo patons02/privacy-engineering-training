{
 "cells": [
  {
   "cell_type": "markdown",
   "id": "ad293201",
   "metadata": {},
   "source": [
    "# 🛡️ Solutions — Laplace Mechanism\n",
    "\n",
    "Built by **Stu** 🚀"
   ]
  },
  {
   "cell_type": "markdown",
   "id": "d6e9db2f",
   "metadata": {},
   "source": [
    "## Solutions to Exercises 1–8"
   ]
  },
  {
   "cell_type": "code",
   "execution_count": 1,
   "id": "6a045357",
   "metadata": {},
   "outputs": [],
   "source": [
    "laplace_noise_definition = \"Laplace noise refers to random noise drawn from a Laplace distribution, used to mask the output of a query in differential privacy.\""
   ]
  },
  {
   "cell_type": "code",
   "execution_count": 2,
   "id": "344b64ee",
   "metadata": {},
   "outputs": [],
   "source": [
    "laplace_properties = [\"Zero-centered (mean 0)\", \"Heavy-tailed compared to Gaussian\"]"
   ]
  },
  {
   "cell_type": "code",
   "execution_count": 3,
   "id": "c1a11d98",
   "metadata": {},
   "outputs": [],
   "source": [
    "import numpy as np\n",
    "samples = np.random.laplace(0, 1, 5)\n",
    "samples"
   ]
  },
  {
   "cell_type": "code",
   "execution_count": 4,
   "id": "c92226a4",
   "metadata": {},
   "outputs": [],
   "source": [
    "import matplotlib.pyplot as plt\n",
    "samples = np.random.laplace(0, 1, 1000)\n",
    "plt.hist(samples, bins=50)\n",
    "plt.title('Laplace Noise Samples')\n",
    "plt.show()"
   ]
  },
  {
   "cell_type": "code",
   "execution_count": 5,
   "id": "2e71d6bc",
   "metadata": {},
   "outputs": [],
   "source": [
    "laplace_scale_formula = \"Scale = Sensitivity / Epsilon\""
   ]
  },
  {
   "cell_type": "code",
   "execution_count": 6,
   "id": "984b70c7",
   "metadata": {},
   "outputs": [],
   "source": [
    "laplace_scale_value = 4.0"
   ]
  },
  {
   "cell_type": "code",
   "execution_count": 7,
   "id": "c48d63d8",
   "metadata": {},
   "outputs": [],
   "source": [
    "true_answer = 50\n",
    "noise = np.random.laplace(0, laplace_scale_value)\n",
    "noisy_result = true_answer + noise\n",
    "noisy_result"
   ]
  },
  {
   "cell_type": "code",
   "execution_count": 8,
   "id": "f491141e",
   "metadata": {},
   "outputs": [],
   "source": [
    "noisy_answers = true_answer + np.random.laplace(0, laplace_scale_value, 1000)\n",
    "plt.hist(noisy_answers, bins=50)\n",
    "plt.title('Noisy Answers Histogram')\n",
    "plt.show()"
   ]
  },
  {
   "cell_type": "markdown",
   "id": "f77f6ce0",
   "metadata": {},
   "source": [
    "## Solutions to Exercises 9–16"
   ]
  },
  {
   "cell_type": "code",
   "execution_count": 9,
   "id": "913304bb",
   "metadata": {},
   "outputs": [],
   "source": [
    "noise_vs_epsilon_explanation = \"As epsilon increases, the scale of Laplace noise decreases, making outputs less noisy and privacy weaker.\""
   ]
  },
  {
   "cell_type": "code",
   "execution_count": 10,
   "id": "e37f2502",
   "metadata": {},
   "outputs": [],
   "source": [
    "scale_low = 1 / 0.1\n",
    "scale_high = 1 / 1\n",
    "samples_low = np.random.laplace(0, scale_low, 1000)\n",
    "samples_high = np.random.laplace(0, scale_high, 1000)\n",
    "import matplotlib.pyplot as plt\n",
    "plt.hist(samples_low, bins=50, alpha=0.5, label='ε=0.1')\n",
    "plt.hist(samples_high, bins=50, alpha=0.5, label='ε=1')\n",
    "plt.legend()\n",
    "plt.title('Comparison of Laplace Noise')\n",
    "plt.show()"
   ]
  },
  {
   "cell_type": "code",
   "execution_count": 11,
   "id": "99021c2f",
   "metadata": {},
   "outputs": [],
   "source": [
    "dataset_A = [1, 2, 3]\n",
    "dataset_B = [1, 2]\n",
    "sum_A = sum(dataset_A)\n",
    "sum_B = sum(dataset_B)\n",
    "sum_A, sum_B"
   ]
  },
  {
   "cell_type": "code",
   "execution_count": 12,
   "id": "54fd7f8e",
   "metadata": {},
   "outputs": [],
   "source": [
    "noisy_A = sum_A + np.random.laplace(0, 1, 1000)\n",
    "noisy_B = sum_B + np.random.laplace(0, 1, 1000)\n",
    "plt.hist(noisy_A, bins=50, alpha=0.5, label='Dataset A')\n",
    "plt.hist(noisy_B, bins=50, alpha=0.5, label='Dataset B')\n",
    "plt.legend()\n",
    "plt.title('Neighboring Noisy Outputs')\n",
    "plt.show()"
   ]
  },
  {
   "cell_type": "code",
   "execution_count": 13,
   "id": "c4644ea0",
   "metadata": {},
   "outputs": [],
   "source": [
    "gaussian_samples = np.random.normal(0, 1, 1000)\n",
    "plt.hist(gaussian_samples, bins=50)\n",
    "plt.title('Gaussian Noise Samples')\n",
    "plt.show()"
   ]
  },
  {
   "cell_type": "code",
   "execution_count": 14,
   "id": "c68199b4",
   "metadata": {},
   "outputs": [],
   "source": [
    "laplace_samples = np.random.laplace(0, 1, 1000)\n",
    "plt.hist(gaussian_samples, bins=50, alpha=0.5, label='Gaussian')\n",
    "plt.hist(laplace_samples, bins=50, alpha=0.5, label='Laplace')\n",
    "plt.legend()\n",
    "plt.title('Laplace vs Gaussian')\n",
    "plt.show()"
   ]
  },
  {
   "cell_type": "code",
   "execution_count": 15,
   "id": "4b8533c8",
   "metadata": {},
   "outputs": [],
   "source": [
    "privacy_risk_explanation = \"Larger ε implies less noise, making outputs more accurate but reducing privacy protection.\""
   ]
  },
  {
   "cell_type": "code",
   "execution_count": 16,
   "id": "b533f198",
   "metadata": {},
   "outputs": [],
   "source": [
    "real_world_laplace_application = \"Apple's differential privacy implementation on iOS uses Laplace noise for telemetry collection.\""
   ]
  }
 ],
 "metadata": {
  "kernelspec": {
   "display_name": "Python 3",
   "language": "python",
   "name": "python3"
  },
  "language_info": {
   "codemirror_mode": {
    "name": "ipython",
    "version": 3
   },
   "file_extension": ".py",
   "mimetype": "text/x-python",
   "name": "python",
   "version": "3.10"
  }
 },
 "nbformat": 4,
 "nbformat_minor": 5
}
