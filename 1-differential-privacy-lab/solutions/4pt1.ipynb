{
 "cells": [
  {
   "cell_type": "markdown",
   "metadata": {},
   "source": [
    "# 🛡️ Solutions — Exponential Mechanism\n",
    "\n",
    "Built by **Stu** 🚀"
   ]
  },
  {
   "cell_type": "markdown",
   "metadata": {},
   "source": [
    "## Solutions to Exercises 1–8"
   ]
  },
  {
   "cell_type": "code",
   "execution_count": 1,
   "metadata": {},
   "outputs": [],
   "source": [
    "why_noise_fails = \"Adding random noise to non-numeric outputs doesn't make sense because categories can't be perturbed meaningfully like numbers.\""
   ]
  },
  {
   "cell_type": "code",
   "execution_count": 2,
   "metadata": {},
   "outputs": [],
   "source": [
    "score_function_definition = \"A function that assigns a real number score to each possible output, measuring its quality for the dataset.\""
   ]
  },
  {
   "cell_type": "code",
   "execution_count": 3,
   "metadata": {},
   "outputs": [],
   "source": [
    "candidates = [\"Alice\", \"Bob\", \"Charlie\"]\n",
    "scores = [8, 5, 7]"
   ]
  },
  {
   "cell_type": "code",
   "execution_count": 4,
   "metadata": {},
   "outputs": [],
   "source": [
    "score_sensitivity_definition = \"The maximum possible difference in the score function when changing a single record in the database.\""
   ]
  },
  {
   "cell_type": "code",
   "execution_count": 5,
   "metadata": {},
   "outputs": [],
   "source": [
    "estimated_sensitivity = 3"
   ]
  },
  {
   "cell_type": "code",
   "execution_count": 6,
   "metadata": {},
   "outputs": [],
   "source": [
    "probability_formula = \"exp(ε * score(r) / (2 * Δu)) divided by the sum over all candidates of exp(ε * score(r') / (2 * Δu))\""
   ]
  },
  {
   "cell_type": "code",
   "execution_count": 7,
   "metadata": {},
   "outputs": [],
   "source": [
    "import numpy as np\n",
    "def sample_candidate(candidates, scores, epsilon, sensitivity):\n",
    "    exps = np.exp((epsilon * np.array(scores)) / (2 * sensitivity))\n",
    "    probs = exps / np.sum(exps)\n",
    "    return np.random.choice(candidates, p=probs)\n",
    "\n",
    "# Example sample\n",
    "sample_candidate(candidates, scores, 1.0, 3)"
   ]
  },
  {
   "cell_type": "code",
   "execution_count": 8,
   "metadata": {},
   "outputs": [],
   "source": [
    "samples = [sample_candidate(candidates, scores, 1.0, 3) for _ in range(1000)]\n",
    "import matplotlib.pyplot as plt\n",
    "plt.hist(samples, bins=np.arange(len(candidates)+1)-0.5, rwidth=0.8)\n",
    "plt.xticks(range(len(candidates)), candidates)\n",
    "plt.title('Sampled Candidates')\n",
    "plt.show()"
   ]
  }
 ],
 "metadata": {
  "kernelspec": {
   "display_name": "Python 3",
   "language": "python",
   "name": "python3"
  },
  "language_info": {
   "name": "python",
   "version": "3.10",
   "mimetype": "text/x-python",
   "file_extension": ".py",
   "codemirror_mode": {
    "name": "ipython",
    "version": 3
   }
  }
 },
 "nbformat": 4,
 "nbformat_minor": 5
}