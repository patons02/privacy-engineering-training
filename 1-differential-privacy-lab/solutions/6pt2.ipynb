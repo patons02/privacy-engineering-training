{
 "cells": [
  {
   "cell_type": "markdown",
   "metadata": {},
   "source": [
    "## Solutions to Exercises 8–16"
   ]
  },
  {
   "cell_type": "code",
   "execution_count": 8,
   "metadata": {},
   "outputs": [],
   "source": [
    "advanced_composition_idea = \"Advanced Composition shows that cumulative privacy loss grows slower (sublinear) when many queries are made, rather than linearly.\""
   ]
  },
  {
   "cell_type": "code",
   "execution_count": 9,
   "metadata": {},
   "outputs": [],
   "source": [
    "advanced_composition_formula = \"√(2k log(1/δ)) ε + kε(e^ε - 1)\""
   ]
  },
  {
   "cell_type": "code",
   "execution_count": 10,
   "metadata": {},
   "outputs": [],
   "source": [
    "import numpy as np\n",
    "epsilon = 0.5\n",
    "k = 50\n",
    "delta = 1e-5\n",
    "basic_total = epsilon * k\n",
    "advanced_total = np.sqrt(2 * k * np.log(1/delta)) * epsilon + k * epsilon * (np.exp(epsilon) - 1)\n",
    "basic_total, advanced_total"
   ]
  },
  {
   "cell_type": "code",
   "execution_count": 11,
   "metadata": {},
   "outputs": [],
   "source": [
    "queries = np.arange(1, 101)\n",
    "basic_totals = epsilon * queries\n",
    "advanced_totals = np.sqrt(2 * queries * np.log(1/delta)) * epsilon + queries * epsilon * (np.exp(epsilon) - 1)\n",
    "\n",
    "import matplotlib.pyplot as plt\n",
    "plt.plot(queries, basic_totals, label='Basic')\n",
    "plt.plot(queries, advanced_totals, label='Advanced')\n",
    "plt.xlabel('Number of Queries')\n",
    "plt.ylabel('Total Privacy Loss (ε)')\n",
    "plt.title('Basic vs Advanced Composition')\n",
    "plt.legend()\n",
    "plt.show()"
   ]
  },
  {
   "cell_type": "code",
   "execution_count": 12,
   "metadata": {},
   "outputs": [],
   "source": [
    "group_privacy_definition = \"When multiple users are grouped, privacy loss scales linearly with group size.\""
   ]
  },
  {
   "cell_type": "code",
   "execution_count": 13,
   "metadata": {},
   "outputs": [],
   "source": [
    "group_epsilon = 5"
   ]
  },
  {
   "cell_type": "code",
   "execution_count": 14,
   "metadata": {},
   "outputs": [],
   "source": [
    "group_size = 5\n",
    "queries = np.arange(1, 101)\n",
    "group_totals = group_size * epsilon * queries\n",
    "\n",
    "plt.plot(queries, group_totals)\n",
    "plt.xlabel('Number of Queries')\n",
    "plt.ylabel('Total Privacy Loss (Group)')\n",
    "plt.title('Group Privacy Loss Over Queries')\n",
    "plt.show()"
   ]
  },
  {
   "cell_type": "code",
   "execution_count": 15,
   "metadata": {},
   "outputs": [],
   "source": [
    "group_privacy_strategy = \"Limit the number of queries involving the same group; adjust ε downward when queries affect multiple users.\""
   ]
  },
  {
   "cell_type": "code",
   "execution_count": 16,
   "metadata": {},
   "outputs": [],
   "source": [
    "composition_importance = \"Because each new query consumes privacy budget, careful accounting ensures the system stays private after many interactions.\""
   ]
  }
 ],
 "metadata": {
  "kernelspec": {
   "display_name": "Python 3",
   "language": "python",
   "name": "python3"
  },
  "language_info": {
   "name": "python",
   "version": "3.10",
   "mimetype": "text/x-python",
   "file_extension": ".py",
   "codemirror_mode": {
    "name": "ipython",
    "version": 3
   }
  }
 },
 "nbformat": 4,
 "nbformat_minor": 5
}