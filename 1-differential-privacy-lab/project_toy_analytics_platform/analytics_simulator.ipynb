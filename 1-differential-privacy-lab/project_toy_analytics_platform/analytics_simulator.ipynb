{
 "cells": [
  {
   "cell_type": "markdown",
   "metadata": {},
   "source": [
    "# 📊 Toy Analytics Platform: Local Differential Privacy Simulation\n",
    "\n",
    "Built by **Stu**\n",
    "\n",
    "This notebook demonstrates:\n",
    "- User event simulation\n",
    "- Applying Local Differential Privacy (Randomized Response)\n",
    "- Aggregating noisy data\n",
    "- Estimating true counts\n",
    "- Studying the impact of ε (epsilon)"
   ]
  },
  {
   "cell_type": "markdown",
   "metadata": {},
   "source": [
    "## 🏗️ Setup\n",
    "Let's import libraries and helper functions."
   ]
  },
  {
   "cell_type": "code",
   "metadata": {},
   "source": [
    "import numpy as np\n",
    "import matplotlib.pyplot as plt\n",
    "\n",
    "from lib.user_simulation import simulate_user_events\n",
    "from lib.local_dp_utils import apply_randomized_response_array\n",
    "from lib.aggregator import aggregate_noised_data, estimate_true_counts"
   ]
  },
  {
   "cell_type": "markdown",
   "metadata": {},
   "source": [
    "## 👥 Simulate Users\n",
    "We simulate 500 users generating clicks, page views, and keystrokes."
   ]
  },
  {
   "cell_type": "code",
   "metadata": {},
   "source": [
    "# Simulate events\n",
    "num_users = 500\n",
    "events = simulate_user_events(num_users)\n",
    "\n",
    "# Show a sample\n",
    "{k: v[:10] for k, v in events.items()}"
   ]
  },
  {
   "cell_type": "markdown",
   "metadata": {},
   "source": [
    "## 🛡️ Apply Local Differential Privacy\n",
    "Each user's event is noised **before** being sent to the server.\n",
    "\n",
    "We use ε (epsilon) = 1.0 for this simulation."
   ]
  },
  {
   "cell_type": "code",
   "metadata": {},
   "source": [
    "# Apply Randomized Response\n",
    "epsilon = 1.0\n",
    "\n",
    "noised_events = {\n",
    "    event: apply_randomized_response_array(values, epsilon)\n",
    "    for event, values in events.items()\n",
    "}\n",
    "\n",
    "# Show a sample\n",
    "{k: v[:10] for k, v in noised_events.items()}"
   ]
  },
  {
   "cell_type": "markdown",
   "metadata": {},
   "source": [
    "## 🧮 Aggregate Noised Data\n",
    "The server aggregates noisy events and tries to estimate true counts."
   ]
  },
  {
   "cell_type": "code",
   "metadata": {},
   "source": [
    "# Aggregate noised events\n",
    "aggregated_noised = aggregate_noised_data(noised_events)\n",
    "aggregated_noised"
   ]
  },
  {
   "cell_type": "code",
   "metadata": {},
   "source": [
    "# Estimate true counts\n",
    "estimated_counts = estimate_true_counts(aggregated_noised, num_users, epsilon)\n",
    "estimated_counts"
   ]
  },
  {
   "cell_type": "markdown",
   "metadata": {},
   "source": [
    "## 📊 Compare Estimates to Ground Truth\n",
    "Let's plot the true vs estimated event counts."
   ]
  },
  {
   "cell_type": "code",
   "metadata": {},
   "source": [
    "# Compute true counts\n",
    "true_counts = {event: np.sum(values) for event, values in events.items()}\n",
    "\n",
    "# Plot\n",
    "events_list = list(true_counts.keys())\n",
    "true_values = [true_counts[event] for event in events_list]\n",
    "estimated_values = [estimated_counts[event] for event in events_list]\n",
    "\n",
    "x = np.arange(len(events_list))\n",
    "width = 0.35\n",
    "\n",
    "fig, ax = plt.subplots()\n",
    "rects1 = ax.bar(x - width / 2, true_values, width, label=\"True\")\n",
    "rects2 = ax.bar(x + width / 2, estimated_values, width, label=\"Estimated\")\n",
    "\n",
    "ax.set_ylabel(\"Counts\")\n",
    "ax.set_title(\"True vs Estimated Counts\")\n",
    "ax.set_xticks(x)\n",
    "ax.set_xticklabels(events_list)\n",
    "ax.legend()\n",
    "\n",
    "plt.grid(True)\n",
    "plt.show()"
   ]
  },
  {
   "cell_type": "markdown",
   "metadata": {},
   "source": [
    "## 🧪 Try Changing Epsilon\n",
    "Experiment:\n",
    "- Set ε to 0.1 (strong privacy, more noise)\n",
    "- Set ε to 3.0 (weaker privacy, less noise)\n",
    "- Observe accuracy vs privacy tradeoff!"
   ]
  }
 ],
 "metadata": {
  "kernelspec": {
   "display_name": "Python 3",
   "language": "python",
   "name": "python3"
  },
  "language_info": {
   "name": "python",
   "version": "3.10"
  }
 },
 "nbformat": 4,
 "nbformat_minor": 5
}
