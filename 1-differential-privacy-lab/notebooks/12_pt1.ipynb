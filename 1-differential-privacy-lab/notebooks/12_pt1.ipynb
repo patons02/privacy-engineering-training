{
 "cells": [
  {
   "cell_type": "markdown",
   "metadata": {},
   "source": [
    "# 📚 Advanced DP Accounting — Phase 1\n",
    "\n",
    "Built by **Stu** 🚀"
   ]
  },
  {
   "cell_type": "markdown",
   "metadata": {},
   "source": [
    "## Section 1: Rényi Differential Privacy (RDP) Basics"
   ]
  },
  {
   "cell_type": "markdown",
   "metadata": {},
   "source": [
    "### Exercise 1: Define Rényi Differential Privacy"
   ]
  },
  {
   "cell_type": "code",
   "execution_count": 1,
   "metadata": {},
   "outputs": [],
   "source": [
    "rdp_definition = \"A mechanism satisfies (α, ε)-RDP if the Rényi divergence of order α between its outputs on adjacent datasets is at most ε.\""
   ]
  },
  {
   "cell_type": "markdown",
   "metadata": {},
   "source": [
    "### Exercise 2: Sketch Moment Accountant Idea"
   ]
  },
  {
   "cell_type": "code",
   "execution_count": 2,
   "metadata": {},
   "outputs": [],
   "source": [
    "moment_accountant_sketch = \"Tracks privacy loss across multiple mechanisms by maintaining moment-generating functions of loss distributions.\""
   ]
  },
  {
   "cell_type": "markdown",
   "metadata": {},
   "source": [
    "### Exercise 3: Compute ε for Given α in Gaussian Mechanism"
   ]
  },
  {
   "cell_type": "code",
   "execution_count": 3,
   "metadata": {},
   "outputs": [],
   "source": [
    "def compute_rdp_gaussian(alpha, sigma):\n",
    "    return alpha / (2 * sigma**2)\n",
    "\n",
    "compute_rdp_gaussian(alpha=10, sigma=1.5)"
   ]
  },
  {
   "cell_type": "markdown",
   "metadata": {},
   "source": [
    "### Exercise 4: Plot ε(α) Curve for Laplace Mechanism"
   ]
  },
  {
   "cell_type": "code",
   "execution_count": 4,
   "metadata": {},
   "outputs": [],
   "source": [
    "alphas = np.linspace(1.01, 10, 100)\n",
    "epsilons = [alpha / (1.0**2) for alpha in alphas]\n",
    "\n",
    "import matplotlib.pyplot as plt\n",
    "plt.plot(alphas, epsilons)\n",
    "plt.xlabel('α (Renyi Order)')\n",
    "plt.ylabel('ε')\n",
    "plt.title('ε(α) for Laplace Mechanism')\n",
    "plt.show()"
   ]
  },
  {
   "cell_type": "markdown",
   "metadata": {},
   "source": [
    "### Exercise 5: Reflect on Advantages of RDP"
   ]
  },
  {
   "cell_type": "code",
   "execution_count": 5,
   "metadata": {},
   "outputs": [],
   "source": [
    "advantages_rdp = \"Easier composition, tighter bounds under repeated mechanisms, smooth privacy tracking.\""
   ]
  },
  {
   "cell_type": "markdown",
   "metadata": {},
   "source": [
    "## Section 2: RDP to (ε, δ)-DP Conversion"
   ]
  },
  {
   "cell_type": "markdown",
   "metadata": {},
   "source": [
    "### Exercise 6: Sketch RDP to (ε, δ) Conversion Formula"
   ]
  },
  {
   "cell_type": "code",
   "execution_count": 6,
   "metadata": {},
   "outputs": [],
   "source": [
    "conversion_formula = \"ε ≈ (ε_RDP - log(δ)) / (α - 1)\""
   ]
  },
  {
   "cell_type": "markdown",
   "metadata": {},
   "source": [
    "### Exercise 7: Compute Approximate ε Given α, ε_RDP, δ"
   ]
  },
  {
   "cell_type": "code",
   "execution_count": 7,
   "metadata": {},
   "outputs": [],
   "source": [
    "def convert_rdp_to_dp(eps_rdp, alpha, delta):\n",
    "    return eps_rdp - np.log(delta) / (alpha - 1)\n",
    "\n",
    "convert_rdp_to_dp(eps_rdp=2.0, alpha=10, delta=1e-5)"
   ]
  },
  {
   "cell_type": "markdown",
   "metadata": {},
   "source": [
    "### Exercise 8: Discuss Importance of Choosing α Carefully"
   ]
  },
  {
   "cell_type": "code",
   "execution_count": 8,
   "metadata": {},
   "outputs": [],
   "source": [
    "choice_alpha_reflection = \"Choosing α too low or too high can result in loose DP bounds — needs to be tuned for tightest guarantees.\""
   ]
  },
  {
   "cell_type": "markdown",
   "metadata": {},
   "source": [
    "## Section 3: Zero-Concentrated DP (zCDP)"
   ]
  },
  {
   "cell_type": "markdown",
   "metadata": {},
   "source": [
    "### Exercise 9: Define Zero-Concentrated Differential Privacy"
   ]
  },
  {
   "cell_type": "code",
   "execution_count": 9,
   "metadata": {},
   "outputs": [],
   "source": [
    "zcdp_definition = \"A mechanism satisfies ρ-zCDP if for all α > 1, its Rényi divergence is at most ρ(α - 1).\""
   ]
  },
  {
   "cell_type": "markdown",
   "metadata": {},
   "source": [
    "### Exercise 10: Gaussian Mechanism ρ-zCDP Calculation"
   ]
  },
  {
   "cell_type": "code",
   "execution_count": 10,
   "metadata": {},
   "outputs": [],
   "source": [
    "def gaussian_zcdp(sigma):\n",
    "    return 1.0 / (2 * sigma**2)\n",
    "\n",
    "gaussian_zcdp(sigma=1.5)"
   ]
  },
  {
   "cell_type": "markdown",
   "metadata": {},
   "source": [
    "### Exercise 11: Plot Privacy Loss over Composed Mechanisms (zCDP)"
   ]
  },
  {
   "cell_type": "code",
   "execution_count": 11,
   "metadata": {},
   "outputs": [],
   "source": [
    "compositions = np.arange(1, 51)\n",
    "privacy_loss = compositions * gaussian_zcdp(1.5)\n",
    "plt.plot(compositions, privacy_loss)\n",
    "plt.xlabel('Compositions')\n",
    "plt.ylabel('ρ')\n",
    "plt.title('Privacy Loss under zCDP')\n",
    "plt.show()"
   ]
  },
  {
   "cell_type": "markdown",
   "metadata": {},
   "source": [
    "### Exercise 12: Sketch Advantage of zCDP Over RDP"
   ]
  },
  {
   "cell_type": "code",
   "execution_count": 12,
   "metadata": {},
   "outputs": [],
   "source": [
    "zcdp_advantage = \"zCDP simplifies composition even further — privacy loss adds linearly without the need to optimize α.\""
   ]
  },
  {
   "cell_type": "markdown",
   "metadata": {},
   "source": [
    "### Exercise 13: Discuss When to Prefer zCDP"
   ]
  },
  {
   "cell_type": "code",
   "execution_count": 13,
   "metadata": {},
   "outputs": [],
   "source": [
    "prefer_zcdp_scenario = \"Use zCDP for large compositions of Gaussian noise mechanisms where privacy loss needs to be tightly additive.\""
   ]
  },
  {
   "cell_type": "markdown",
   "metadata": {},
   "source": [
    "### Exercise 14: Sketch Potential Limitations of zCDP"
   ]
  },
  {
   "cell_type": "code",
   "execution_count": 14,
   "metadata": {},
   "outputs": [],
   "source": [
    "zcdp_limitation = \"zCDP is slightly harder to interpret directly compared to (ε, δ)-DP in simple settings.\""
   ]
  },
  {
   "cell_type": "markdown",
   "metadata": {},
   "source": [
    "### Exercise 15: Visualize Differences Between RDP and zCDP"
   ]
  },
  {
   "cell_type": "code",
   "execution_count": 15,
   "metadata": {},
   "outputs": [],
   "source": [
    "alphas = np.linspace(1.01, 10, 100)\n",
    "rdp_eps = alphas * 0.1\n",
    "zcdp_eps = 0.5 * (alphas - 1)\n",
    "\n",
    "plt.plot(alphas, rdp_eps, label='RDP')\n",
    "plt.plot(alphas, zcdp_eps, label='zCDP')\n",
    "plt.xlabel('α (Renyi Order)')\n",
    "plt.ylabel('ε or ρ')\n",
    "plt.legend()\n",
    "plt.title('RDP vs zCDP Scaling')\n",
    "plt.show()"
   ]
  }
 ],
 "metadata": {
  "kernelspec": {
   "display_name": "Python 3",
   "language": "python3"
  },
  "language_info": {
   "name": "python",
   "version": "3.10",
   "mimetype": "text/x-python",
   "file_extension": ".py",
   "codemirror_mode": {
    "name": "ipython",
    "version": 3
   }
  }
 },
 "nbformat": 4,
 "nbformat_minor": 5
}