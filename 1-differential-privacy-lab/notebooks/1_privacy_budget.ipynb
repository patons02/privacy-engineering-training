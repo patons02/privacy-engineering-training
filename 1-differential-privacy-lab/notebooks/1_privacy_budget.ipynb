{
 "cells": [
  {
   "cell_type": "markdown",
   "id": "aa5e8252",
   "metadata": {},
   "source": [
    "# 📚 Differential Privacy — Privacy Budget and Global vs Local Models\n",
    "\n",
    "Built by **Stu** 🚀"
   ]
  },
  {
   "cell_type": "markdown",
   "id": "81ac626f",
   "metadata": {},
   "source": [
    "## Introduction to Differential Privacy\n",
    "\n",
    "Let's explore why privacy matters and what differential privacy means."
   ]
  },
  {
   "cell_type": "markdown",
   "id": "327d45e6",
   "metadata": {},
   "source": [
    "### Exercise 1: What is Differential Privacy?\n",
    "\n",
    "Explain the goal of Differential Privacy (DP) in one or two sentences."
   ]
  },
  {
   "cell_type": "code",
   "execution_count": null,
   "id": "6106bac0",
   "metadata": {},
   "outputs": [],
   "source": [
    "# Write your answer as a Python string below\n",
    "your_answer = \"\""
   ]
  },
  {
   "cell_type": "code",
   "execution_count": null,
   "id": "277a5df9",
   "metadata": {},
   "outputs": [],
   "source": [
    "# --- Auto-checker ---\n",
    "assert isinstance(your_answer, str), \"Answer must be a string.\"\n",
    "assert len(your_answer) > 20, \"Expand your answer a little more.\"\n",
    "print(\"✅ Exercise 1 Passed!\")"
   ]
  },
  {
   "cell_type": "markdown",
   "id": "af3dcb53",
   "metadata": {},
   "source": [
    "### Exercise 2: Example of Neighboring Databases\n",
    "\n",
    "Write two tiny examples of neighboring datasets that differ by one individual."
   ]
  },
  {
   "cell_type": "code",
   "execution_count": null,
   "id": "b2e35ca2",
   "metadata": {},
   "outputs": [],
   "source": [
    "# Represent them as two Python lists\n",
    "dataset_A = []  # Example: [1,2,3]\n",
    "dataset_B = []  # Example: [1,2]"
   ]
  },
  {
   "cell_type": "code",
   "execution_count": null,
   "id": "5d7d296b",
   "metadata": {},
   "outputs": [],
   "source": [
    "# --- Auto-checker ---\n",
    "assert isinstance(dataset_A, list) and isinstance(dataset_B, list), \"Datasets must be lists.\"\n",
    "assert abs(len(dataset_A) - len(dataset_B)) <= 1, \"Datasets should differ by one record.\"\n",
    "print(\"✅ Exercise 2 Passed!\")"
   ]
  },
  {
   "cell_type": "markdown",
   "id": "956bd578",
   "metadata": {},
   "source": [
    "### Exercise 3: Calculate Privacy Loss\n",
    "\n",
    "Suppose the probability of outputting a result with one dataset is 0.6, and with a neighboring dataset is 0.4. Compute the privacy loss."
   ]
  },
  {
   "cell_type": "code",
   "execution_count": null,
   "id": "5123333b",
   "metadata": {},
   "outputs": [],
   "source": [
    "# Compute the log ratio\n",
    "p1 = 0.6\n",
    "p2 = 0.4\n",
    "privacy_loss = None  # Use natural log"
   ]
  },
  {
   "cell_type": "code",
   "execution_count": null,
   "id": "cea54c57",
   "metadata": {},
   "outputs": [],
   "source": [
    "# --- Auto-checker ---\n",
    "import numpy as np\n",
    "assert np.isclose(np.exp(privacy_loss), p1/p2, rtol=0.1), \"Incorrect privacy loss calculation.\"\n",
    "print(\"✅ Exercise 3 Passed!\")"
   ]
  },
  {
   "cell_type": "markdown",
   "id": "e8cbec87",
   "metadata": {},
   "source": [
    "## Understanding Epsilon (ε)\n",
    "\n",
    "ε controls how much privacy is lost when a query is answered."
   ]
  },
  {
   "cell_type": "markdown",
   "id": "7020ea57",
   "metadata": {},
   "source": [
    "### Exercise 4: Write an Intuitive Explanation for Epsilon\n",
    "\n",
    "Explain ε in 2-3 sentences, intuitively."
   ]
  },
  {
   "cell_type": "code",
   "execution_count": 7,
   "id": "900bb42e",
   "metadata": {
    "execution": {
     "iopub.execute_input": "2025-04-27T22:24:16.017500Z",
     "iopub.status.busy": "2025-04-27T22:24:16.017196Z",
     "iopub.status.idle": "2025-04-27T22:24:16.021246Z",
     "shell.execute_reply": "2025-04-27T22:24:16.020600Z"
    }
   },
   "outputs": [],
   "source": [
    "# Write your answer below as a string\n",
    "epsilon_explanation = \"\""
   ]
  },
  {
   "cell_type": "code",
   "execution_count": 8,
   "id": "8f34a245",
   "metadata": {},
   "outputs": [],
   "source": [
    "# --- Auto-checker ---\n",
    "assert isinstance(epsilon_explanation, str), \"Must be a string.\"\n",
    "assert len(epsilon_explanation) > 30, \"Please explain epsilon a bit more.\"\n",
    "print(\"✅ Exercise 4 Passed!\")"
   ]
  },
  {
   "cell_type": "markdown",
   "id": "5ce60f77",
   "metadata": {},
   "source": [
    "### Exercise 5: Real-World ε — Apple Example\n",
    "\n",
    "Apple reportedly uses ε ≈ 1 for some systems.\n",
    "What does this mean for users? Write your thoughts."
   ]
  },
  {
   "cell_type": "code",
   "execution_count": 9,
   "id": "04944dff",
   "metadata": {
    "execution": {
     "iopub.execute_input": "2025-04-27T22:24:16.046549Z",
     "iopub.status.busy": "2025-04-27T22:24:16.046277Z",
     "iopub.status.idle": "2025-04-27T22:24:16.049418Z",
     "shell.execute_reply": "2025-04-27T22:24:16.048814Z"
    }
   },
   "outputs": [],
   "source": [
    "# Your thoughts here\n",
    "apple_epsilon_commentary = \"\""
   ]
  },
  {
   "cell_type": "code",
   "execution_count": 10,
   "id": "850eeae9",
   "metadata": {
    "execution": {
     "iopub.execute_input": "2025-04-27T22:24:16.052347Z",
     "iopub.status.busy": "2025-04-27T22:24:16.052062Z",
     "iopub.status.idle": "2025-04-27T22:24:16.055950Z",
     "shell.execute_reply": "2025-04-27T22:24:16.055256Z"
    }
   },
   "outputs": [
    {
     "name": "stdout",
     "output_type": "stream",
     "text": [
      "✅ Exercise 5 Passed!\n"
     ]
    }
   ],
   "source": [
    "# --- Auto-checker ---\n",
    "assert isinstance(apple_epsilon_commentary, str), \"Answer must be a string.\"\n",
    "print(\"✅ Exercise 5 Passed!\")"
   ]
  },
  {
   "cell_type": "markdown",
   "id": "36d89e77",
   "metadata": {},
   "source": [
    "### Exercise 6: ε Impact on Privacy\n",
    "\n",
    "Suppose ε = 0.1, ε = 1, and ε = 5.\n",
    "Rank them from strongest to weakest privacy."
   ]
  },
  {
   "cell_type": "code",
   "execution_count": null,
   "id": "67cb47b4",
   "metadata": {},
   "outputs": [],
   "source": [
    "# Write your ranking as a Python list from strongest to weakest privacy\n",
    "privacy_ranking = []  # Example: [0.1, 1, 5]"
   ]
  },
  {
   "cell_type": "code",
   "execution_count": null,
   "id": "af7c4532",
   "metadata": {},
   "outputs": [],
   "source": [
    "# --- Auto-checker ---\n",
    "assert privacy_ranking == sorted(privacy_ranking), \"Remember: smaller epsilon = stronger privacy!\"\n",
    "print(\"✅ Exercise 6 Passed!\")"
   ]
  },
  {
   "cell_type": "markdown",
   "id": "bb5f9a9a",
   "metadata": {},
   "source": [
    "### Exercise 7: Plot Risk vs Epsilon\n",
    "\n",
    "Create a simple plot showing how risk increases with epsilon."
   ]
  },
  {
   "cell_type": "code",
   "execution_count": null,
   "id": "49a5b184",
   "metadata": {},
   "outputs": [],
   "source": [
    "import matplotlib.pyplot as plt\n",
    "epsilons = [0.1, 0.5, 1, 2, 5]\n",
    "risks = []  # Risk could be modeled as exp(epsilon)\n",
    "\n",
    "# Fill risks and plot below\n",
    "plt.plot(epsilons, risks)\n",
    "plt.xlabel('Epsilon')\n",
    "plt.ylabel('Relative Risk')\n",
    "plt.title('Risk vs Epsilon')\n",
    "plt.grid(True)\n",
    "plt.show()"
   ]
  },
  {
   "cell_type": "markdown",
   "id": "80d1d18b",
   "metadata": {},
   "source": [
    "### Exercise 8: What are Neighboring Databases?\n",
    "\n",
    "Define \"neighboring databases\" formally."
   ]
  },
  {
   "cell_type": "code",
   "execution_count": null,
   "id": "744495d0",
   "metadata": {},
   "outputs": [],
   "source": [
    "# Your explanation as string\n",
    "neighboring_explanation = \"\""
   ]
  },
  {
   "cell_type": "code",
   "execution_count": null,
   "id": "0a596ef3",
   "metadata": {},
   "outputs": [],
   "source": [
    "# --- Auto-checker ---\n",
    "assert isinstance(neighboring_explanation, str)\n",
    "print(\"✅ Exercise 8 Passed!\")"
   ]
  },
  {
   "cell_type": "markdown",
   "id": "29ce6931",
   "metadata": {},
   "source": [
    "### Exercise 9: Global Model Example\n",
    "\n",
    "Give an example scenario where Global Differential Privacy is appropriate."
   ]
  },
  {
   "cell_type": "code",
   "execution_count": null,
   "id": "1b4a388d",
   "metadata": {},
   "outputs": [],
   "source": [
    "global_dp_example = \"\""
   ]
  },
  {
   "cell_type": "code",
   "execution_count": null,
   "id": "a31fc748",
   "metadata": {},
   "outputs": [],
   "source": [
    "# --- Auto-checker ---\n",
    "assert isinstance(global_dp_example, str)\n",
    "print(\"✅ Exercise 9 Passed!\")"
   ]
  },
  {
   "cell_type": "markdown",
   "id": "35d909e5",
   "metadata": {},
   "source": [
    "### Exercise 10: Local Model Example\n",
    "\n",
    "Give an example where Local Differential Privacy is better."
   ]
  },
  {
   "cell_type": "code",
   "execution_count": null,
   "id": "c855a91a",
   "metadata": {},
   "outputs": [],
   "source": [
    "local_dp_example = \"\""
   ]
  },
  {
   "cell_type": "code",
   "execution_count": null,
   "id": "fbbb2cfd",
   "metadata": {},
   "outputs": [],
   "source": [
    "# --- Auto-checker ---\n",
    "assert isinstance(local_dp_example, str)\n",
    "print(\"✅ Exercise 10 Passed!\")"
   ]
  },
  {
   "cell_type": "markdown",
   "id": "7aac57c1",
   "metadata": {},
   "source": [
    "### Exercise 11: Why is Local DP More Noisy?\n",
    "\n",
    "Write 1-2 reasons why Local DP usually has worse accuracy."
   ]
  },
  {
   "cell_type": "code",
   "execution_count": null,
   "id": "f39db5c9",
   "metadata": {},
   "outputs": [],
   "source": [
    "local_noise_reason = \"\""
   ]
  },
  {
   "cell_type": "code",
   "execution_count": null,
   "id": "63f28fd0",
   "metadata": {},
   "outputs": [],
   "source": [
    "# --- Auto-checker ---\n",
    "assert isinstance(local_noise_reason, str)\n",
    "print(\"✅ Exercise 11 Passed!\")"
   ]
  },
  {
   "cell_type": "markdown",
   "id": "df31c090",
   "metadata": {},
   "source": [
    "### Exercise 12: Composition of Privacy Budgets\n",
    "\n",
    "What happens to your total ε when you answer 10 queries?"
   ]
  },
  {
   "cell_type": "code",
   "execution_count": null,
   "id": "acef8807",
   "metadata": {},
   "outputs": [],
   "source": [
    "composition_explanation = \"\""
   ]
  },
  {
   "cell_type": "code",
   "execution_count": null,
   "id": "71f033aa",
   "metadata": {},
   "outputs": [],
   "source": [
    "# --- Auto-checker ---\n",
    "assert isinstance(composition_explanation, str)\n",
    "print(\"✅ Exercise 12 Passed!\")"
   ]
  },
  {
   "cell_type": "markdown",
   "id": "89ec1277",
   "metadata": {},
   "source": [
    "### Exercise 13: Summing Epsilons\n",
    "\n",
    "If each query costs ε=0.5, what is total ε for 4 queries?"
   ]
  },
  {
   "cell_type": "code",
   "execution_count": null,
   "id": "05e74077",
   "metadata": {},
   "outputs": [],
   "source": [
    "total_epsilon = None"
   ]
  },
  {
   "cell_type": "code",
   "execution_count": null,
   "id": "48004975",
   "metadata": {},
   "outputs": [],
   "source": [
    "# --- Auto-checker ---\n",
    "assert np.isclose(total_epsilon, 2.0), \"Check your multiplication.\"\n",
    "print(\"✅ Exercise 13 Passed!\")"
   ]
  },
  {
   "cell_type": "markdown",
   "id": "7677dcd5",
   "metadata": {},
   "source": [
    "### Exercise 14: Privacy Amplification by Subsampling\n",
    "\n",
    "If only 20% of users are sampled for a survey, what happens to ε?"
   ]
  },
  {
   "cell_type": "code",
   "execution_count": null,
   "id": "0d7c56ee",
   "metadata": {},
   "outputs": [],
   "source": [
    "amplification_explanation = \"\""
   ]
  },
  {
   "cell_type": "code",
   "execution_count": null,
   "id": "42748154",
   "metadata": {},
   "outputs": [],
   "source": [
    "# --- Auto-checker ---\n",
    "assert isinstance(amplification_explanation, str)\n",
    "print(\"✅ Exercise 14 Passed!\")"
   ]
  },
  {
   "cell_type": "markdown",
   "id": "33452fda",
   "metadata": {},
   "source": [
    "### Exercise 15: Bonus Challenge - Budget Management\n",
    "\n",
    "Design a plan for splitting a privacy budget of 5.0 across:\n",
    "- Weekly Reports\n",
    "- Monthly Summaries\n",
    "- Year-End Analytics"
   ]
  },
  {
   "cell_type": "code",
   "execution_count": null,
   "id": "7659ba9b",
   "metadata": {},
   "outputs": [],
   "source": [
    "# Your answer as a dictionary\n",
    "budget_split = {}  # Example: {\"weekly\":1.0, \"monthly\":2.0, \"year_end\":2.0}"
   ]
  },
  {
   "cell_type": "code",
   "execution_count": null,
   "id": "f3322ad7",
   "metadata": {},
   "outputs": [],
   "source": [
    "# --- Auto-checker ---\n",
    "assert isinstance(budget_split, dict)\n",
    "assert abs(sum(budget_split.values()) - 5.0) < 0.01, \"Your total budget must sum to 5.0!\"\n",
    "print(\"✅ Exercise 15 Passed!\")"
   ]
  }
 ],
 "metadata": {
  "kernelspec": {
   "display_name": "Python 3",
   "language": "python",
   "name": "python3"
  },
  "language_info": {
   "codemirror_mode": {
    "name": "ipython",
    "version": 3
   },
   "file_extension": ".py",
   "mimetype": "text/x-python",
   "name": "python",
   "nbconvert_exporter": "python",
   "pygments_lexer": "ipython3",
   "version": "3.9.12"
  }
 },
 "nbformat": 4,
 "nbformat_minor": 5
}
