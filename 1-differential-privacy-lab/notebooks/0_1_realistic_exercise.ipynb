{
 "cells": [
  {
   "cell_type": "markdown",
   "id": "452f531b",
   "metadata": {},
   "source": [
    "# 📚 Realistic Travel Dataset — K-Anonymity, L-Diversity, T-Closeness\n",
    "\n",
    "Built by **Stu** 🚀\n",
    "\n",
    "_Context: Travel E-commerce Booking Platform — Privacy Risks_"
   ]
  },
  {
   "cell_type": "markdown",
   "id": "8d484822",
   "metadata": {},
   "source": [
    "## Introduction\n",
    "\n",
    "Working with a realistic 400-customer travel booking dataset."
   ]
  },
  {
   "cell_type": "markdown",
   "id": "322e4d63",
   "metadata": {},
   "source": [
    "## Load Dataset"
   ]
  },
  {
   "cell_type": "code",
   "execution_count": 1,
   "id": "c517b2b5",
   "metadata": {},
   "outputs": [],
   "source": [
    "import pandas as pd\n",
    "import numpy as np\n",
    "import matplotlib.pyplot as plt\n",
    "\n",
    "# Simulated load (already prebuilt)\n",
    "np.random.seed(42)\n",
    "ages = np.random.randint(18, 75, size=400)\n",
    "zipcodes = np.random.choice(['02138', '02139', '94016', '10001', '60614', '94102'], size=400)\n",
    "genders = np.random.choice(['Male', 'Female', 'Nonbinary'], size=400)\n",
    "cities = np.random.choice(['Paris', 'London', 'Tokyo', 'New York', 'Rome', 'Sydney', 'Dubai'], size=400)\n",
    "purposes = np.random.choice(['Leisure', 'Business', 'Medical', 'Education'], size=400)\n",
    "prices = np.random.choice([200, 500, 1000, 1500, 2500, 3500, 4500], size=400)\n",
    "loyalty = np.random.choice(['Gold', 'Silver', 'Platinum', 'None'], size=400)\n",
    "\n",
    "df = pd.DataFrame({\n",
    "    'Age': ages,\n",
    "    'ZipCode': zipcodes,\n",
    "    'Gender': genders,\n",
    "    'DestinationCity': cities,\n",
    "    'TripPurpose': purposes,\n",
    "    'BookingPrice': prices,\n",
    "    'LoyaltyStatus': loyalty\n",
    "})\n",
    "\n",
    "# Risk Score calculation\n",
    "df['ZipPrefix'] = df['ZipCode'].str[:3]\n",
    "risk_freq = df.groupby(['Age', 'ZipPrefix', 'DestinationCity']).size()\n",
    "df['PrivacyRiskScore'] = df.apply(lambda row: 1 / (risk_freq.get((row['Age'], row['ZipPrefix'], row['DestinationCity']), 1)), axis=1)\n",
    "df['PrivacyRiskScore'] = (df['PrivacyRiskScore'] - df['PrivacyRiskScore'].min()) / (df['PrivacyRiskScore'].max() - df['PrivacyRiskScore'].min())\n",
    "\n",
    "df.head()"
   ]
  },
  {
   "cell_type": "markdown",
   "id": "96914059",
   "metadata": {},
   "source": [
    "## Exercise 1: Describe Dataset Fields\n",
    "\n",
    "Summarize the meaning of each column."
   ]
  },
  {
   "cell_type": "code",
   "execution_count": 2,
   "id": "25e20f04",
   "metadata": {},
   "outputs": [],
   "source": [
    "field_descriptions = \"\""
   ]
  },
  {
   "cell_type": "markdown",
   "id": "2efe3e03",
   "metadata": {},
   "source": [
    "## Exercise 2: Identify Quasi-Identifiers\n",
    "\n",
    "Which fields are quasi-identifiers?"
   ]
  },
  {
   "cell_type": "code",
   "execution_count": 3,
   "id": "0ef4f533",
   "metadata": {},
   "outputs": [],
   "source": [
    "quasi_identifiers = []  # e.g., Age, ZipPrefix, Gender"
   ]
  },
  {
   "cell_type": "markdown",
   "id": "8b7790ac",
   "metadata": {},
   "source": [
    "## Exercise 3: Basic k-Anonymity Check\n",
    "\n",
    "Does the dataset satisfy 5-anonymity on Age + ZipPrefix?"
   ]
  },
  {
   "cell_type": "code",
   "execution_count": 4,
   "id": "29c46a48",
   "metadata": {},
   "outputs": [],
   "source": [
    "def check_k_anonymity(df, fields, k):\n",
    "    groups = df.groupby(fields).size()\n",
    "    return (groups >= k).all()\n",
    "\n",
    "check_k_anonymity(df, ['Age', 'ZipPrefix'], 5)"
   ]
  },
  {
   "cell_type": "markdown",
   "id": "12fac80f",
   "metadata": {},
   "source": [
    "## Exercise 4: Generalize Age into Buckets\n",
    "\n",
    "Bucket Age into 18–29, 30–39, etc."
   ]
  },
  {
   "cell_type": "code",
   "execution_count": 5,
   "id": "1db769a9",
   "metadata": {},
   "outputs": [],
   "source": [
    "bins = [18, 29, 39, 49, 59, 69, 79]\n",
    "labels = ['18-29', '30-39', '40-49', '50-59', '60-69', '70-79']\n",
    "df['AgeBucket'] = pd.cut(df['Age'], bins=bins, labels=labels, right=True)\n",
    "df.head()"
   ]
  },
  {
   "cell_type": "markdown",
   "id": "d18be706",
   "metadata": {},
   "source": [
    "## Exercise 5: Check 5-Anonymity with Age Buckets\n",
    "\n",
    "Does AgeBucket + ZipPrefix achieve 5-anonymity?"
   ]
  },
  {
   "cell_type": "code",
   "execution_count": 6,
   "id": "71dac5d7",
   "metadata": {},
   "outputs": [],
   "source": [
    "check_k_anonymity(df, ['AgeBucket', 'ZipPrefix'], 5)"
   ]
  },
  {
   "cell_type": "markdown",
   "id": "4dd00979",
   "metadata": {},
   "source": [
    "## Exercise 6: Define l-Diversity\n",
    "\n",
    "What is l-diversity?"
   ]
  },
  {
   "cell_type": "code",
   "execution_count": 7,
   "id": "ec7af896",
   "metadata": {},
   "outputs": [],
   "source": [
    "l_diversity_definition = \"\""
   ]
  },
  {
   "cell_type": "markdown",
   "id": "a6da5956",
   "metadata": {},
   "source": [
    "## Exercise 7: Check 2-Diversity for TripPurpose\n",
    "\n",
    "Does each equivalence class (AgeBucket + ZipPrefix) have 2 distinct TripPurposes?"
   ]
  },
  {
   "cell_type": "code",
   "execution_count": 8,
   "id": "56fe15bb",
   "metadata": {},
   "outputs": [],
   "source": [
    "def check_l_diversity(df, group_fields, sensitive_field, l):\n",
    "    diversity = df.groupby(group_fields)[sensitive_field].nunique()\n",
    "    return (diversity >= l).all()\n",
    "\n",
    "check_l_diversity(df, ['AgeBucket', 'ZipPrefix'], 'TripPurpose', 2)"
   ]
  },
  {
   "cell_type": "markdown",
   "id": "ac44b90c",
   "metadata": {},
   "source": [
    "## Exercise 8: Visualize Booking Price Distribution\n",
    "\n",
    "Plot the histogram of Booking Prices."
   ]
  },
  {
   "cell_type": "code",
   "execution_count": 9,
   "id": "4cc2bb0f",
   "metadata": {},
   "outputs": [],
   "source": [
    "df['BookingPrice'].hist(bins=20)\n",
    "plt.xlabel('Booking Price ($)')\n",
    "plt.ylabel('Frequency')\n",
    "plt.title('Booking Price Distribution')\n",
    "plt.show()"
   ]
  },
  {
   "cell_type": "markdown",
   "id": "c0a27f13",
   "metadata": {},
   "source": [
    "## Exercise 9: Linkage Attack Simulation\n",
    "\n",
    "Use ZipPrefix + DestinationCity to attempt re-identification."
   ]
  },
  {
   "cell_type": "code",
   "execution_count": 10,
   "id": "9b098d15",
   "metadata": {},
   "outputs": [],
   "source": [
    "def linkage_attack(df, known_fields):\n",
    "    linkage = df.groupby(known_fields).size()\n",
    "    return linkage[linkage == 1].count() / len(df) * 100\n",
    "\n",
    "linkage_attack(df, ['ZipPrefix', 'DestinationCity'])"
   ]
  },
  {
   "cell_type": "markdown",
   "id": "399e05a7",
   "metadata": {},
   "source": [
    "## Exercise 10: Calculate Privacy Risk Score\n",
    "\n",
    "Show a quick distribution of PrivacyRiskScore."
   ]
  },
  {
   "cell_type": "code",
   "execution_count": 11,
   "id": "bc8bea06",
   "metadata": {},
   "outputs": [],
   "source": [
    "df['PrivacyRiskScore'].hist(bins=20)\n",
    "plt.xlabel('Privacy Risk Score')\n",
    "plt.ylabel('Frequency')\n",
    "plt.title('Privacy Risk Score Distribution')\n",
    "plt.show()"
   ]
  },
  {
   "cell_type": "markdown",
   "id": "c4db9469",
   "metadata": {},
   "source": [
    "## Exercise 11: Top 10 Highest Risk Travelers\n",
    "\n",
    "Find top 10 travelers by PrivacyRiskScore."
   ]
  },
  {
   "cell_type": "code",
   "execution_count": 12,
   "id": "b8fc6e2d",
   "metadata": {},
   "outputs": [],
   "source": [
    "df.nlargest(10, 'PrivacyRiskScore')"
   ]
  }
 ],
 "metadata": {
  "kernelspec": {
   "display_name": "Python 3",
   "language": "python3",
   "name": "python3"
  },
  "language_info": {
   "codemirror_mode": {
    "name": "ipython",
    "version": 3
   },
   "file_extension": ".py",
   "mimetype": "text/x-python",
   "name": "python",
   "version": "3.10"
  }
 },
 "nbformat": 4,
 "nbformat_minor": 5
}
