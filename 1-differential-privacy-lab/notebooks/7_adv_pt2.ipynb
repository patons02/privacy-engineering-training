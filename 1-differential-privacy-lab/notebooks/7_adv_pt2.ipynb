{
 "cells": [
  {
   "cell_type": "markdown",
   "metadata": {},
   "source": [
    "## Section 3: DP-SGD (Differentially Private Stochastic Gradient Descent)"
   ]
  },
  {
   "cell_type": "markdown",
   "metadata": {},
   "source": [
    "### Exercise 10: Sketch How DP-SGD Works\n",
    "\n",
    "Describe how DP-SGD modifies standard SGD."
   ]
  },
  {
   "cell_type": "code",
   "execution_count": 10,
   "metadata": {},
   "outputs": [],
   "source": [
    "dp_sgd_explanation = \"\""
   ]
  },
  {
   "cell_type": "markdown",
   "metadata": {},
   "source": [
    "### Exercise 11: Add Gaussian Noise to Gradients\n",
    "\n",
    "Write a function that adds Gaussian noise to gradients."
   ]
  },
  {
   "cell_type": "code",
   "execution_count": 11,
   "metadata": {},
   "outputs": [],
   "source": [
    "def add_noise_to_gradients(gradients, sigma):\n",
    "    noise = np.random.normal(0, sigma, size=gradients.shape)\n",
    "    return gradients + noise"
   ]
  },
  {
   "cell_type": "markdown",
   "metadata": {},
   "source": [
    "### Exercise 12: Build a Toy MLP (PyTorch)"
   ]
  },
  {
   "cell_type": "code",
   "execution_count": 12,
   "metadata": {},
   "outputs": [],
   "source": [
    "import torch\n",
    "import torch.nn as nn\n",
    "\n",
    "class ToyMLP(nn.Module):\n",
    "    def __init__(self):\n",
    "        super(ToyMLP, self).__init__()\n",
    "        self.fc1 = nn.Linear(2, 16)\n",
    "        self.fc2 = nn.Linear(16, 2)\n",
    "    \n",
    "    def forward(self, x):\n",
    "        x = torch.relu(self.fc1(x))\n",
    "        x = self.fc2(x)\n",
    "        return x\n",
    "\n",
    "model = ToyMLP()\n",
    "model"
   ]
  },
  {
   "cell_type": "markdown",
   "metadata": {},
   "source": [
    "### Exercise 13: Minibatch Sampling\n",
    "\n",
    "Write code to sample minibatches from the dataset."
   ]
  },
  {
   "cell_type": "code",
   "execution_count": 13,
   "metadata": {},
   "outputs": [],
   "source": [
    "def sample_minibatch(X, y, batch_size):\n",
    "    indices = np.random.choice(len(X), batch_size, replace=False)\n",
    "    return X[indices], y[indices]"
   ]
  },
  {
   "cell_type": "markdown",
   "metadata": {},
   "source": [
    "### Exercise 14: Apply Noise After Backward Pass\n",
    "\n",
    "Add Gaussian noise to gradients after `.backward()`."
   ]
  },
  {
   "cell_type": "code",
   "execution_count": 14,
   "metadata": {},
   "outputs": [],
   "source": [
    "def apply_noise_to_model(model, sigma):\n",
    "    for param in model.parameters():\n",
    "        if param.grad is not None:\n",
    "            noise = torch.normal(0, sigma, size=param.grad.shape)\n",
    "            param.grad += noise"
   ]
  },
  {
   "cell_type": "markdown",
   "metadata": {},
   "source": [
    "### Exercise 15: Train with Noisy Gradients\n",
    "\n",
    "Train the toy model with DP-SGD."
   ]
  },
  {
   "cell_type": "code",
   "execution_count": 15,
   "metadata": {},
   "outputs": [],
   "source": [
    "# Pseudocode: this will be run in a real setup\n",
    "# for epoch in range(epochs):\n",
    "#     X_batch, y_batch = sample_minibatch(X_train, y_train, batch_size)\n",
    "#     optimizer.zero_grad()\n",
    "#     outputs = model(X_batch)\n",
    "#     loss = criterion(outputs, y_batch)\n",
    "#     loss.backward()\n",
    "#     apply_noise_to_model(model, sigma=1.0)\n",
    "#     optimizer.step()"
   ]
  },
  {
   "cell_type": "markdown",
   "metadata": {},
   "source": [
    "### Exercise 16: Plot Privacy vs Accuracy\n",
    "\n",
    "Plot epsilon vs model accuracy over training."
   ]
  },
  {
   "cell_type": "code",
   "execution_count": 16,
   "metadata": {},
   "outputs": [],
   "source": [
    "# Pseudocode (depends on training loop)\n",
    "# plt.plot(epsilons, accuracies)\n",
    "# plt.xlabel('Privacy Loss ε')\n",
    "# plt.ylabel('Model Accuracy')\n",
    "# plt.title('Privacy vs Accuracy')\n",
    "# plt.show()"
   ]
  }
 ],
 "metadata": {
  "kernelspec": {
   "display_name": "Python 3",
   "language": "python3",
   "name": "python3"
  },
  "language_info": {
   "name": "python",
   "version": "3.10",
   "mimetype": "text/x-python",
   "file_extension": ".py",
   "codemirror_mode": {
    "name": "ipython",
    "version": 3
   }
  }
 },
 "nbformat": 4,
 "nbformat_minor": 5
}