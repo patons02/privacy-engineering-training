{
 "cells": [
  {
   "cell_type": "markdown",
   "metadata": {},
   "source": [
    "## Exercise 5: Check 3-Anonymity After Generalization\n",
    "\n",
    "Does the dataset now satisfy 3-anonymity using Age + generalized ZipCode + Gender?"
   ]
  },
  {
   "cell_type": "code",
   "execution_count": 6,
   "metadata": {},
   "outputs": [],
   "source": [
    "check_k_anonymity(toy_data, ['Age', 'ZipCode_Generalized', 'Gender'], 3)"
   ]
  },
  {
   "cell_type": "markdown",
   "metadata": {},
   "source": [
    "## Exercise 6: What is l-Diversity?\n",
    "\n",
    "Define l-diversity and why it was introduced."
   ]
  },
  {
   "cell_type": "code",
   "execution_count": 7,
   "metadata": {},
   "outputs": [],
   "source": [
    "l_diversity_definition = \"\""
   ]
  },
  {
   "cell_type": "markdown",
   "metadata": {},
   "source": [
    "## Exercise 7: Check l-Diversity for TripPurpose\n",
    "\n",
    "Does each 3-anonymous group have at least 2 diverse Trip Purposes?"
   ]
  },
  {
   "cell_type": "code",
   "execution_count": 8,
   "metadata": {},
   "outputs": [],
   "source": [
    "def check_l_diversity(df, group_fields, sensitive_field, l):\n",
    "    grouped = df.groupby(group_fields)[sensitive_field].nunique()\n",
    "    return (grouped >= l).all()\n",
    "\n",
    "check_l_diversity(toy_data, ['Age', 'ZipCode_Generalized', 'Gender'], 'TripPurpose', 2)"
   ]
  },
  {
   "cell_type": "markdown",
   "metadata": {},
   "source": [
    "## Exercise 8: What is t-Closeness?\n",
    "\n",
    "Define t-closeness and its advantage over l-diversity."
   ]
  },
  {
   "cell_type": "code",
   "execution_count": 9,
   "metadata": {},
   "outputs": [],
   "source": [
    "t_closeness_definition = \"\""
   ]
  },
  {
   "cell_type": "markdown",
   "metadata": {},
   "source": [
    "## Exercise 9: Booking Price Distribution\n",
    "\n",
    "Plot the histogram of Booking Prices for all users."
   ]
  },
  {
   "cell_type": "code",
   "execution_count": 10,
   "metadata": {},
   "outputs": [],
   "source": [
    "import matplotlib.pyplot as plt\n",
    "toy_data['BookingPrice'].hist(bins=10)\n",
    "plt.xlabel('Booking Price ($)')\n",
    "plt.ylabel('Frequency')\n",
    "plt.title('Overall Booking Price Distribution')\n",
    "plt.show()"
   ]
  },
  {
   "cell_type": "markdown",
   "metadata": {},
   "source": [
    "## Exercise 10: Simulate Linkage Attack\n",
    "\n",
    "Assume attacker knows Age and ZipCode prefix. Try to identify DestinationCity."
   ]
  },
  {
   "cell_type": "code",
   "execution_count": 11,
   "metadata": {},
   "outputs": [],
   "source": [
    "def simulate_linkage_attack(df, known_fields):\n",
    "    results = df.groupby(known_fields)['DestinationCity'].nunique()\n",
    "    return results\n",
    "\n",
    "simulate_linkage_attack(toy_data, ['Age', 'ZipCode_Generalized'])"
   ]
  },
  {
   "cell_type": "markdown",
   "metadata": {},
   "source": [
    "## Exercise 11: Linkage Attack Risk\n",
    "\n",
    "What percentage of groups have only 1 unique DestinationCity (perfect attack)?"
   ]
  },
  {
   "cell_type": "code",
   "execution_count": 12,
   "metadata": {},
   "outputs": [],
   "source": [
    "linkage_results = simulate_linkage_attack(toy_data, ['Age', 'ZipCode_Generalized'])\n",
    "(linkage_results == 1).mean() * 100"
   ]
  },
  {
   "cell_type": "markdown",
   "metadata": {},
   "source": [
    "## Exercise 12: Suggest Defense Strategies\n",
    "\n",
    "Suggest how to defend against linkage attacks using generalization or suppression."
   ]
  },
  {
   "cell_type": "code",
   "execution_count": 13,
   "metadata": {},
   "outputs": [],
   "source": [
    "defense_strategies = \"\""
   ]
  },
  {
   "cell_type": "markdown",
   "metadata": {},
   "source": [
    "## Exercise 13: Suppress Unique Records\n",
    "\n",
    "Suppose we suppress records that are unique based on quasi-identifiers. Show how many records remain."
   ]
  },
  {
   "cell_type": "code",
   "execution_count": 14,
   "metadata": {},
   "outputs": [],
   "source": [
    "group_sizes = toy_data.groupby(['Age', 'ZipCode_Generalized', 'Gender']).size()\n",
    "safe_indices = group_sizes[group_sizes >= 3].index\n",
    "safe_data = toy_data.set_index(['Age', 'ZipCode_Generalized', 'Gender']).loc[safe_indices].reset_index()\n",
    "len(safe_data)"
   ]
  }
 ],
 "metadata": {
  "kernelspec": {
   "display_name": "Python 3",
   "language": "python",
   "name": "python3"
  },
  "language_info": {
   "name": "python",
   "version": "3.10",
   "mimetype": "text/x-python",
   "file_extension": ".py",
   "codemirror_mode": {
    "name": "ipython",
    "version": 3
   }
  }
 },
 "nbformat": 4,
 "nbformat_minor": 5
}