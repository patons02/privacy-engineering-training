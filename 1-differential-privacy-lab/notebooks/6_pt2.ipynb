{
 "cells": [
  {
   "cell_type": "markdown",
   "metadata": {},
   "source": [
    "## Advanced Composition\n",
    "\n",
    "Tighter bounds for privacy loss when many queries are run."
   ]
  },
  {
   "cell_type": "markdown",
   "metadata": {},
   "source": [
    "### Exercise 8: Advanced Composition Idea\n",
    "\n",
    "Summarize the intuition behind Advanced Composition Theorem."
   ]
  },
  {
   "cell_type": "code",
   "execution_count": 8,
   "metadata": {},
   "outputs": [],
   "source": [
    "advanced_composition_idea = \"\""
   ]
  },
  {
   "cell_type": "markdown",
   "metadata": {},
   "source": [
    "### Exercise 9: Formula for Advanced Composition\n",
    "\n",
    "Write the formula (with δ) for advanced privacy loss over k queries."
   ]
  },
  {
   "cell_type": "code",
   "execution_count": 9,
   "metadata": {},
   "outputs": [],
   "source": [
    "advanced_composition_formula = \"√(2k log(1/δ)) ε + kε(e^ε - 1)\""
   ]
  },
  {
   "cell_type": "markdown",
   "metadata": {},
   "source": [
    "### Exercise 10: Compare Basic vs Advanced\n",
    "\n",
    "Suppose ε=0.5, k=50. Compare total ε using basic and advanced."
   ]
  },
  {
   "cell_type": "code",
   "execution_count": 10,
   "metadata": {},
   "outputs": [],
   "source": [
    "import numpy as np\n",
    "epsilon = 0.5\n",
    "k = 50\n",
    "delta = 1e-5\n",
    "basic_total = epsilon * k\n",
    "advanced_total = np.sqrt(2 * k * np.log(1/delta)) * epsilon + k * epsilon * (np.exp(epsilon) - 1)\n",
    "basic_total, advanced_total"
   ]
  },
  {
   "cell_type": "markdown",
   "metadata": {},
   "source": [
    "### Exercise 11: Plot Basic vs Advanced\n",
    "\n",
    "Plot basic and advanced ε total for 1–100 queries."
   ]
  },
  {
   "cell_type": "code",
   "execution_count": 11,
   "metadata": {},
   "outputs": [],
   "source": [
    "queries = np.arange(1, 101)\n",
    "basic_totals = epsilon * queries\n",
    "advanced_totals = np.sqrt(2 * queries * np.log(1/delta)) * epsilon + queries * epsilon * (np.exp(epsilon) - 1)\n",
    "\n",
    "plt.plot(queries, basic_totals, label='Basic')\n",
    "plt.plot(queries, advanced_totals, label='Advanced')\n",
    "plt.xlabel('Number of Queries')\n",
    "plt.ylabel('Total Privacy Loss (ε)')\n",
    "plt.title('Basic vs Advanced Composition')\n",
    "plt.legend()\n",
    "plt.show()"
   ]
  },
  {
   "cell_type": "markdown",
   "metadata": {},
   "source": [
    "## Group Privacy\n"
   ]
  },
  {
   "cell_type": "markdown",
   "metadata": {},
   "source": [
    "### Exercise 12: What is Group Privacy?\n",
    "\n",
    "Explain group privacy in simple terms."
   ]
  },
  {
   "cell_type": "code",
   "execution_count": 12,
   "metadata": {},
   "outputs": [],
   "source": [
    "group_privacy_definition = \"\""
   ]
  },
  {
   "cell_type": "markdown",
   "metadata": {},
   "source": [
    "### Exercise 13: Group ε Calculation\n",
    "\n",
    "If one user has ε=1, what is ε for a group of 5 users?"
   ]
  },
  {
   "cell_type": "code",
   "execution_count": 13,
   "metadata": {},
   "outputs": [],
   "source": [
    "group_epsilon = 1 * 5"
   ]
  },
  {
   "cell_type": "markdown",
   "metadata": {},
   "source": [
    "### Exercise 14: Simulate Group Budget\n",
    "\n",
    "Simulate privacy loss for groups over 100 queries."
   ]
  },
  {
   "cell_type": "code",
   "execution_count": 14,
   "metadata": {},
   "outputs": [],
   "source": [
    "group_size = 5\n",
    "queries = np.arange(1, 101)\n",
    "group_totals = group_size * epsilon * queries\n",
    "\n",
    "plt.plot(queries, group_totals)\n",
    "plt.xlabel('Number of Queries')\n",
    "plt.ylabel('Total Privacy Loss (Group)')\n",
    "plt.title('Group Privacy Loss Over Queries')\n",
    "plt.show()"
   ]
  },
  {
   "cell_type": "markdown",
   "metadata": {},
   "source": [
    "### Exercise 15: Optimize for Group Privacy\n",
    "\n",
    "Suggest a strategy to preserve group privacy while allowing queries."
   ]
  },
  {
   "cell_type": "code",
   "execution_count": 15,
   "metadata": {},
   "outputs": [],
   "source": [
    "group_privacy_strategy = \"\""
   ]
  },
  {
   "cell_type": "markdown",
   "metadata": {},
   "source": [
    "### Exercise 16: Final Reflection\n",
    "\n",
    "Why is composition critical when designing real DP systems?"
   ]
  },
  {
   "cell_type": "code",
   "execution_count": 16,
   "metadata": {},
   "outputs": [],
   "source": [
    "composition_importance = \"\""
   ]
  }
 ],
 "metadata": {
  "kernelspec": {
   "display_name": "Python 3",
   "language": "python",
   "name": "python3"
  },
  "language_info": {
   "name": "python",
   "version": "3.10",
   "mimetype": "text/x-python",
   "file_extension": ".py",
   "codemirror_mode": {
    "name": "ipython",
    "version": 3
   }
  }
 },
 "nbformat": 4,
 "nbformat_minor": 5
}