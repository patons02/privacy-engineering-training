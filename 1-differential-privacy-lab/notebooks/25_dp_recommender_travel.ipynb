{
 "cells": [
  {
   "cell_type": "markdown",
   "metadata": {},
   "source": [
    "# 📚 Differential Privacy in Travel Recommender Systems\n",
    "\n",
    "Built by **Stu** 🚀"
   ]
  },
  {
   "cell_type": "markdown",
   "metadata": {},
   "source": [
    "## Section 1: Basics of Private Recommender Systems"
   ]
  },
  {
   "cell_type": "markdown",
   "metadata": {},
   "source": [
    "### Exercise 1: Define Recommender System"
   ]
  },
  {
   "cell_type": "code",
   "execution_count": 1,
   "metadata": {},
   "outputs": [],
   "source": [
    "recommender_definition = \"A system that suggests items (hotels, flights) based on user preferences or behavior.\""
   ]
  },
  {
   "cell_type": "markdown",
   "metadata": {},
   "source": [
    "### Exercise 2: Sketch Privacy Risks in Travel Data"
   ]
  },
  {
   "cell_type": "code",
   "execution_count": 2,
   "metadata": {},
   "outputs": [],
   "source": [
    "travel_privacy_risks = \"User clicks/bookings reveal sensitive travel intent, locations, spending habits.\""
   ]
  },
  {
   "cell_type": "markdown",
   "metadata": {},
   "source": [
    "## Section 2: Simulate Toy Travel Booking Data"
   ]
  },
  {
   "cell_type": "markdown",
   "metadata": {},
   "source": [
    "### Exercise 3: Create Tiny Booking Dataset"
   ]
  },
  {
   "cell_type": "code",
   "execution_count": 3,
   "metadata": {},
   "outputs": [],
   "source": [
    "import numpy as np\n",
    "import pandas as pd\n",
    "np.random.seed(42)\n",
    "n_samples = 500\n",
    "destinations = np.random.choice(['Paris', 'Tokyo', 'New York', 'London'], size=n_samples)\n",
    "prices = np.random.normal(500, 100, size=n_samples)\n",
    "clicked = (prices < 550).astype(int)  # Users more likely to click cheaper offers\n",
    "booking_data = pd.DataFrame({'Destination': destinations, 'Price': prices, 'Clicked': clicked})\n",
    "booking_data.head()"
   ]
  },
  {
   "cell_type": "markdown",
   "metadata": {},
   "source": [
    "## Section 3: Build Simple Private CTR Model"
   ]
  },
  {
   "cell_type": "markdown",
   "metadata": {},
   "source": [
    "### Exercise 4: Encode Destination as Features"
   ]
  },
  {
   "cell_type": "code",
   "execution_count": 4,
   "metadata": {},
   "outputs": [],
   "source": [
    "booking_data = pd.get_dummies(booking_data, columns=['Destination'])\n",
    "booking_data.head()"
   ]
  },
  {
   "cell_type": "markdown",
   "metadata": {},
   "source": [
    "### Exercise 5: Train Logistic Regression (No Privacy Yet)"
   ]
  },
  {
   "cell_type": "code",
   "execution_count": 5,
   "metadata": {},
   "outputs": [],
   "source": [
    "from sklearn.linear_model import LogisticRegression\n",
    "\n",
    "X = booking_data.drop('Clicked', axis=1)\n",
    "y = booking_data['Clicked']\n",
    "\n",
    "model = LogisticRegression(max_iter=1000)\n",
    "model.fit(X, y)\n",
    "model.score(X, y)"
   ]
  },
  {
   "cell_type": "markdown",
   "metadata": {},
   "source": [
    "### Exercise 6: Add Laplace Noise to Model Coefficients"
   ]
  },
  {
   "cell_type": "code",
   "execution_count": 6,
   "metadata": {},
   "outputs": [],
   "source": [
    "def add_noise_to_coefficients(coefs, epsilon=1.0):\n",
    "    noise = np.random.laplace(0, 1/epsilon, size=coefs.shape)\n",
    "    return coefs + noise\n",
    "\n",
    "noisy_coefs = add_noise_to_coefficients(model.coef_, epsilon=0.5)\n",
    "noisy_intercept = add_noise_to_coefficients(model.intercept_, epsilon=0.5)\n",
    "\n",
    "noisy_model = LogisticRegression()\n",
    "noisy_model.coef_ = noisy_coefs\n",
    "noisy_model.intercept_ = noisy_intercept\n",
    "noisy_model.classes_ = np.array([0,1])\n",
    "noisy_model.score(X, y)"
   ]
  },
  {
   "cell_type": "markdown",
   "metadata": {},
   "source": [
    "## Section 4: Privacy vs Accuracy"
   ]
  },
  {
   "cell_type": "markdown",
   "metadata": {},
   "source": [
    "### Exercise 7: Vary Epsilon and Plot Accuracy"
   ]
  },
  {
   "cell_type": "code",
   "execution_count": 7,
   "metadata": {},
   "outputs": [],
   "source": [
    "epsilons = [0.1, 0.5, 1.0, 2.0]\n",
    "accuracies = []\n",
    "for eps in epsilons:\n",
    "    noisy_coefs = add_noise_to_coefficients(model.coef_, epsilon=eps)\n",
    "    noisy_intercept = add_noise_to_coefficients(model.intercept_, epsilon=eps)\n",
    "    model_temp = LogisticRegression()\n",
    "    model_temp.coef_ = noisy_coefs\n",
    "    model_temp.intercept_ = noisy_intercept\n",
    "    model_temp.classes_ = np.array([0,1])\n",
    "    accuracies.append(model_temp.score(X, y))\n",
    "\n",
    "import matplotlib.pyplot as plt\n",
    "plt.plot(epsilons, accuracies)\n",
    "plt.xlabel('ε')\n",
    "plt.ylabel('Accuracy')\n",
    "plt.title('Privacy vs CTR Model Accuracy')\n",
    "plt.show()"
   ]
  },
  {
   "cell_type": "markdown",
   "metadata": {},
   "source": [
    "### Exercise 8: Reflect on Privacy-Accuracy Trade-off"
   ]
  },
  {
   "cell_type": "code",
   "execution_count": 8,
   "metadata": {},
   "outputs": [],
   "source": [
    "privacy_accuracy_reflection = \"Stronger privacy (lower ε) introduces more noise, reducing model predictive performance.\""
   ]
  },
  {
   "cell_type": "markdown",
   "metadata": {},
   "source": [
    "### Exercise 9: Real-world Application Sketch"
   ]
  },
  {
   "cell_type": "code",
   "execution_count": 9,
   "metadata": {},
   "outputs": [],
   "source": [
    "recommender_real_apps = \"Private travel recommendations on user devices; personalized offers without leaking travel plans.\""
   ]
  }
 ],
 "metadata": {
  "kernelspec": {
   "display_name": "Python 3",
   "language": "python3"
  },
  "language_info": {
   "name": "python",
   "version": "3.10",
   "mimetype": "text/x-python",
   "file_extension": ".py",
   "codemirror_mode": {
    "name": "ipython",
    "version": 3
   }
  }
 },
 "nbformat": 4,
 "nbformat_minor": 5
}