{
 "cells": [
  {
   "cell_type": "markdown",
   "metadata": {},
   "source": [
    "# 📚 Private Bayesian Inference\n",
    "\n",
    "Built by **Stu** 🚀"
   ]
  },
  {
   "cell_type": "markdown",
   "metadata": {},
   "source": [
    "## Section 1: Bayesian Basics with Privacy"
   ]
  },
  {
   "cell_type": "markdown",
   "metadata": {},
   "source": [
    "### Exercise 1: Define Bayesian Posterior Update Formula"
   ]
  },
  {
   "cell_type": "code",
   "execution_count": 1,
   "metadata": {},
   "outputs": [],
   "source": [
    "posterior_update = \"Posterior ∝ Likelihood × Prior\""
   ]
  },
  {
   "cell_type": "markdown",
   "metadata": {},
   "source": [
    "### Exercise 2: Generate Bernoulli Observations"
   ]
  },
  {
   "cell_type": "code",
   "execution_count": 2,
   "metadata": {},
   "outputs": [],
   "source": [
    "np.random.seed(42)\n",
    "observations = np.random.binomial(1, 0.7, size=10)\n",
    "observations"
   ]
  },
  {
   "cell_type": "markdown",
   "metadata": {},
   "source": [
    "### Exercise 3: Compute Beta Posterior Parameters"
   ]
  },
  {
   "cell_type": "code",
   "execution_count": 3,
   "metadata": {},
   "outputs": [],
   "source": [
    "prior_alpha = 2\n",
    "prior_beta = 2\n",
    "posterior_alpha = prior_alpha + np.sum(observations)\n",
    "posterior_beta = prior_beta + len(observations) - np.sum(observations)\n",
    "(posterior_alpha, posterior_beta)"
   ]
  },
  {
   "cell_type": "markdown",
   "metadata": {},
   "source": [
    "### Exercise 4: Inject Laplace Noise into Posterior Parameters"
   ]
  },
  {
   "cell_type": "code",
   "execution_count": 4,
   "metadata": {},
   "outputs": [],
   "source": [
    "def add_laplace_noise(value, sensitivity=1.0, epsilon=1.0):\n",
    "    scale = sensitivity / epsilon\n",
    "    return value + np.random.laplace(0, scale)\n",
    "\n",
    "noisy_alpha = add_laplace_noise(posterior_alpha)\n",
    "noisy_beta = add_laplace_noise(posterior_beta)\n",
    "(noisy_alpha, noisy_beta)"
   ]
  },
  {
   "cell_type": "markdown",
   "metadata": {},
   "source": [
    "### Exercise 5: Sample from Noisy Posterior"
   ]
  },
  {
   "cell_type": "code",
   "execution_count": 5,
   "metadata": {},
   "outputs": [],
   "source": [
    "from scipy.stats import beta\n",
    "\n",
    "sample = beta.rvs(noisy_alpha, noisy_beta, size=1000)\n",
    "sample[:5]"
   ]
  },
  {
   "cell_type": "markdown",
   "metadata": {},
   "source": [
    "### Exercise 6: Plot True vs Noisy Posterior"
   ]
  },
  {
   "cell_type": "code",
   "execution_count": 6,
   "metadata": {},
   "outputs": [],
   "source": [
    "x = np.linspace(0, 1, 100)\n",
    "plt.plot(x, beta.pdf(x, posterior_alpha, posterior_beta), label='True Posterior')\n",
    "plt.plot(x, beta.pdf(x, noisy_alpha, noisy_beta), label='Noisy Posterior')\n",
    "plt.legend()\n",
    "plt.title('True vs Noisy Posterior')\n",
    "plt.show()"
   ]
  },
  {
   "cell_type": "markdown",
   "metadata": {},
   "source": [
    "### Exercise 7: Compute Noisy Posterior Mean"
   ]
  },
  {
   "cell_type": "code",
   "execution_count": 7,
   "metadata": {},
   "outputs": [],
   "source": [
    "noisy_posterior_mean = noisy_alpha / (noisy_alpha + noisy_beta)\n",
    "noisy_posterior_mean"
   ]
  },
  {
   "cell_type": "markdown",
   "metadata": {},
   "source": [
    "### Exercise 8: Reflect on Bias Introduced by Noise"
   ]
  },
  {
   "cell_type": "code",
   "execution_count": 8,
   "metadata": {},
   "outputs": [],
   "source": [
    "bias_reflection = \"Noise introduces bias, but it protects user data privacy by obfuscating exact sufficient statistics.\""
   ]
  },
  {
   "cell_type": "markdown",
   "metadata": {},
   "source": [
    "## Section 2: Private Credible Intervals"
   ]
  },
  {
   "cell_type": "markdown",
   "metadata": {},
   "source": [
    "### Exercise 9: Compute 95% Credible Interval (True Posterior)"
   ]
  },
  {
   "cell_type": "code",
   "execution_count": 9,
   "metadata": {},
   "outputs": [],
   "source": [
    "lower, upper = beta.ppf([0.025, 0.975], posterior_alpha, posterior_beta)\n",
    "(lower, upper)"
   ]
  },
  {
   "cell_type": "markdown",
   "metadata": {},
   "source": [
    "### Exercise 10: Compute 95% Credible Interval (Noisy Posterior)"
   ]
  },
  {
   "cell_type": "code",
   "execution_count": 10,
   "metadata": {},
   "outputs": [],
   "source": [
    "lower_noisy, upper_noisy = beta.ppf([0.025, 0.975], noisy_alpha, noisy_beta)\n",
    "(lower_noisy, upper_noisy)"
   ]
  },
  {
   "cell_type": "markdown",
   "metadata": {},
   "source": [
    "### Exercise 11: Reflect on Width of Noisy vs True Intervals"
   ]
  },
  {
   "cell_type": "code",
   "execution_count": 11,
   "metadata": {},
   "outputs": [],
   "source": [
    "width_reflection = \"Noisy credible intervals are usually wider, indicating increased uncertainty due to added privacy noise.\""
   ]
  },
  {
   "cell_type": "markdown",
   "metadata": {},
   "source": [
    "## Section 3: Privacy-Utility Trade-offs"
   ]
  },
  {
   "cell_type": "markdown",
   "metadata": {},
   "source": [
    "### Exercise 12: Plot Different Noise Levels Impact"
   ]
  },
  {
   "cell_type": "code",
   "execution_count": 12,
   "metadata": {},
   "outputs": [],
   "source": [
    "epsilons = [0.1, 0.5, 1.0, 2.0]\n",
    "for epsilon in epsilons:\n",
    "    n_alpha = add_laplace_noise(posterior_alpha, epsilon=epsilon)\n",
    "    n_beta = add_laplace_noise(posterior_beta, epsilon=epsilon)\n",
    "    plt.plot(x, beta.pdf(x, n_alpha, n_beta), label=f'ε={epsilon}')\n",
    "\n",
    "plt.legend()\n",
    "plt.title('Impact of ε on Posterior')\n",
    "plt.show()"
   ]
  },
  {
   "cell_type": "markdown",
   "metadata": {},
   "source": [
    "### Exercise 13: Reflect on Impact of ε Values"
   ]
  },
  {
   "cell_type": "code",
   "execution_count": 13,
   "metadata": {},
   "outputs": [],
   "source": [
    "epsilon_reflection = \"Larger ε values reduce noise magnitude, improving accuracy but lowering privacy.\""
   ]
  },
  {
   "cell_type": "markdown",
   "metadata": {},
   "source": [
    "### Exercise 14: Sketch Practical Use Cases for Private Bayesian Inference"
   ]
  },
  {
   "cell_type": "code",
   "execution_count": 14,
   "metadata": {},
   "outputs": [],
   "source": [
    "use_case_sketch = \"Private medical diagnosis models, personalized recommendation systems, private polling systems.\""
   ]
  },
  {
   "cell_type": "markdown",
   "metadata": {},
   "source": [
    "### Exercise 15: Sketch Potential Future Improvements"
   ]
  },
  {
   "cell_type": "code",
   "execution_count": 15,
   "metadata": {},
   "outputs": [],
   "source": [
    "future_improvements = \"Use smarter noise scaling (e.g., sensitivity clipping, posterior predictive checks) to retain better accuracy.\""
   ]
  }
 ],
 "metadata": {
  "kernelspec": {
   "display_name": "Python 3",
   "language": "python3"
  },
  "language_info": {
   "name": "python",
   "version": "3.10",
   "mimetype": "text/x-python",
   "file_extension": ".py",
   "codemirror_mode": {
    "name": "ipython",
    "version": 3
   }
  }
 },
 "nbformat": 4,
 "nbformat_minor": 5
}