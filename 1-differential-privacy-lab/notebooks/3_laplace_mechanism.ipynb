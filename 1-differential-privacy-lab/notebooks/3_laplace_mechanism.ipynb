{
 "cells": [
  {
   "cell_type": "markdown",
   "id": "fcd3bef4",
   "metadata": {},
   "source": [
    "# 📚 Differential Privacy — Laplace Mechanism\n",
    "\n",
    "Built by **Stu** 🚀"
   ]
  },
  {
   "cell_type": "markdown",
   "id": "35f125d0",
   "metadata": {},
   "source": [
    "## Introduction to Laplace Noise\n",
    "\n",
    "Understanding how adding noise provides privacy."
   ]
  },
  {
   "cell_type": "markdown",
   "id": "a86d6c39",
   "metadata": {},
   "source": [
    "### Exercise 1: What is Laplace Noise?\n",
    "\n",
    "Explain what Laplace noise is in the context of DP."
   ]
  },
  {
   "cell_type": "code",
   "execution_count": 1,
   "id": "4a30a854",
   "metadata": {},
   "outputs": [],
   "source": [
    "laplace_noise_definition = \"\""
   ]
  },
  {
   "cell_type": "markdown",
   "id": "1b1d0054",
   "metadata": {},
   "source": [
    "### Exercise 2: Laplace Distribution Properties\n",
    "\n",
    "List two properties of the Laplace distribution."
   ]
  },
  {
   "cell_type": "code",
   "execution_count": 2,
   "id": "43b42088",
   "metadata": {},
   "outputs": [],
   "source": [
    "laplace_properties = []  # List of two properties"
   ]
  },
  {
   "cell_type": "markdown",
   "id": "745d190e",
   "metadata": {},
   "source": [
    "## Sampling from Laplace Noise\n"
   ]
  },
  {
   "cell_type": "markdown",
   "id": "e53efd6a",
   "metadata": {},
   "source": [
    "### Exercise 3: Sample from Laplace\n",
    "\n",
    "Use numpy to draw 5 samples from Laplace(0, 1)."
   ]
  },
  {
   "cell_type": "code",
   "execution_count": 3,
   "id": "ea003033",
   "metadata": {},
   "outputs": [],
   "source": [
    "import numpy as np\n",
    "samples = np.random.laplace(0, 1, 5)\n",
    "samples"
   ]
  },
  {
   "cell_type": "markdown",
   "id": "6ec798ed",
   "metadata": {},
   "source": [
    "### Exercise 4: Plot Laplace Samples\n",
    "\n",
    "Draw 1000 samples and plot a histogram."
   ]
  },
  {
   "cell_type": "code",
   "execution_count": 4,
   "id": "e64c9609",
   "metadata": {},
   "outputs": [],
   "source": [
    "import matplotlib.pyplot as plt\n",
    "samples = np.random.laplace(0, 1, 1000)\n",
    "plt.hist(samples, bins=50)\n",
    "plt.title('Laplace Noise Samples')\n",
    "plt.show()"
   ]
  },
  {
   "cell_type": "markdown",
   "id": "9844c17e",
   "metadata": {},
   "source": [
    "## Sensitivity, Epsilon, and Scale\n"
   ]
  },
  {
   "cell_type": "markdown",
   "id": "bf0f78f3",
   "metadata": {},
   "source": [
    "### Exercise 5: Sensitivity-ε-Scale Formula\n",
    "\n",
    "Write the formula relating sensitivity (Δf), ε, and Laplace noise scale."
   ]
  },
  {
   "cell_type": "code",
   "execution_count": 5,
   "id": "4861ec8e",
   "metadata": {},
   "outputs": [],
   "source": [
    "laplace_scale_formula = \"\""
   ]
  },
  {
   "cell_type": "markdown",
   "id": "4d77215a",
   "metadata": {},
   "source": [
    "### Exercise 6: Compute Laplace Scale\n",
    "\n",
    "If Δf = 2 and ε = 0.5, compute the noise scale."
   ]
  },
  {
   "cell_type": "code",
   "execution_count": 6,
   "id": "84f0f585",
   "metadata": {},
   "outputs": [],
   "source": [
    "laplace_scale_value = 2 / 0.5"
   ]
  },
  {
   "cell_type": "markdown",
   "id": "098d1c82",
   "metadata": {},
   "source": [
    "### Exercise 7: Sample Noisy Output\n",
    "\n",
    "True answer = 50. Add Laplace noise with scale from Exercise 6."
   ]
  },
  {
   "cell_type": "code",
   "execution_count": 7,
   "id": "38128652",
   "metadata": {},
   "outputs": [],
   "source": [
    "true_answer = 50\n",
    "noise = np.random.laplace(0, laplace_scale_value)\n",
    "noisy_result = true_answer + noise\n",
    "noisy_result"
   ]
  },
  {
   "cell_type": "markdown",
   "id": "d7a54c60",
   "metadata": {},
   "source": [
    "### Exercise 8: Multiple Noisy Answers\n",
    "\n",
    "Plot a histogram of 1000 noisy answers for the true value 50."
   ]
  },
  {
   "cell_type": "code",
   "execution_count": 8,
   "id": "36fd8a3e",
   "metadata": {},
   "outputs": [],
   "source": [
    "noisy_answers = true_answer + np.random.laplace(0, laplace_scale_value, 1000)\n",
    "plt.hist(noisy_answers, bins=50)\n",
    "plt.title('Noisy Answers Histogram')\n",
    "plt.show()"
   ]
  },
  {
   "cell_type": "markdown",
   "id": "0901301b",
   "metadata": {},
   "source": [
    "### Exercise 9: Noise vs Epsilon\n",
    "\n",
    "Explain intuitively how increasing ε affects Laplace noise."
   ]
  },
  {
   "cell_type": "code",
   "execution_count": 9,
   "id": "f41869f8",
   "metadata": {},
   "outputs": [],
   "source": [
    "noise_vs_epsilon_explanation = \"\""
   ]
  },
  {
   "cell_type": "markdown",
   "id": "8fa9ab1a",
   "metadata": {},
   "source": [
    "### Exercise 10: Compare Different Epsilons\n",
    "\n",
    "Plot histograms for ε=0.1 and ε=1 (same sensitivity) side-by-side."
   ]
  },
  {
   "cell_type": "code",
   "execution_count": 10,
   "id": "3954d6e1",
   "metadata": {},
   "outputs": [],
   "source": [
    "scale_low = 1 / 0.1\n",
    "scale_high = 1 / 1\n",
    "samples_low = np.random.laplace(0, scale_low, 1000)\n",
    "samples_high = np.random.laplace(0, scale_high, 1000)\n",
    "plt.hist(samples_low, bins=50, alpha=0.5, label='ε=0.1')\n",
    "plt.hist(samples_high, bins=50, alpha=0.5, label='ε=1')\n",
    "plt.legend()\n",
    "plt.title('Comparison of Laplace Noise')\n",
    "plt.show()"
   ]
  },
  {
   "cell_type": "markdown",
   "id": "1d2f27ae",
   "metadata": {},
   "source": [
    "## Neighboring Datasets Simulation\n"
   ]
  },
  {
   "cell_type": "markdown",
   "id": "dd4c4528",
   "metadata": {},
   "source": [
    "### Exercise 11: Neighboring Databases\n",
    "\n",
    "Create two datasets differing by one record and compute true answers."
   ]
  },
  {
   "cell_type": "code",
   "execution_count": 11,
   "id": "2bc77e25",
   "metadata": {},
   "outputs": [],
   "source": [
    "dataset_A = [1, 2, 3]\n",
    "dataset_B = [1, 2]\n",
    "sum_A = sum(dataset_A)\n",
    "sum_B = sum(dataset_B)\n",
    "sum_A, sum_B"
   ]
  },
  {
   "cell_type": "markdown",
   "id": "17c9296d",
   "metadata": {},
   "source": [
    "### Exercise 12: Noisy Neighboring Outputs\n",
    "\n",
    "Add Laplace noise to both sums and compare distributions."
   ]
  },
  {
   "cell_type": "code",
   "execution_count": 12,
   "id": "040667ca",
   "metadata": {},
   "outputs": [],
   "source": [
    "noisy_A = sum_A + np.random.laplace(0, 1, 1000)\n",
    "noisy_B = sum_B + np.random.laplace(0, 1, 1000)\n",
    "plt.hist(noisy_A, bins=50, alpha=0.5, label='Dataset A')\n",
    "plt.hist(noisy_B, bins=50, alpha=0.5, label='Dataset B')\n",
    "plt.legend()\n",
    "plt.title('Neighboring Noisy Outputs')\n",
    "plt.show()"
   ]
  },
  {
   "cell_type": "markdown",
   "id": "e5cc2acc",
   "metadata": {},
   "source": [
    "## Laplace vs Gaussian Noise (Bonus)\n"
   ]
  },
  {
   "cell_type": "markdown",
   "id": "d699dfeb",
   "metadata": {},
   "source": [
    "### Exercise 13: Draw from Gaussian\n",
    "\n",
    "Draw 1000 samples from Gaussian(0,1) and plot."
   ]
  },
  {
   "cell_type": "code",
   "execution_count": 13,
   "id": "ee3b8473",
   "metadata": {},
   "outputs": [],
   "source": [
    "gaussian_samples = np.random.normal(0, 1, 1000)\n",
    "plt.hist(gaussian_samples, bins=50)\n",
    "plt.title('Gaussian Noise Samples')\n",
    "plt.show()"
   ]
  },
  {
   "cell_type": "markdown",
   "id": "d570f643",
   "metadata": {},
   "source": [
    "### Exercise 14: Laplace vs Gaussian Plot\n",
    "\n",
    "Overlay Laplace and Gaussian histograms for comparison."
   ]
  },
  {
   "cell_type": "code",
   "execution_count": 14,
   "id": "85a5f666",
   "metadata": {},
   "outputs": [],
   "source": [
    "laplace_samples = np.random.laplace(0, 1, 1000)\n",
    "plt.hist(gaussian_samples, bins=50, alpha=0.5, label='Gaussian')\n",
    "plt.hist(laplace_samples, bins=50, alpha=0.5, label='Laplace')\n",
    "plt.legend()\n",
    "plt.title('Laplace vs Gaussian')\n",
    "plt.show()"
   ]
  },
  {
   "cell_type": "markdown",
   "id": "0b4b0462",
   "metadata": {},
   "source": [
    "## Risk and Privacy Tradeoff\n"
   ]
  },
  {
   "cell_type": "markdown",
   "id": "70e9f722",
   "metadata": {},
   "source": [
    "### Exercise 15: Privacy Risk Intuition\n",
    "\n",
    "Why does larger ε decrease privacy protection?"
   ]
  },
  {
   "cell_type": "code",
   "execution_count": 15,
   "id": "5970fc51",
   "metadata": {},
   "outputs": [],
   "source": [
    "privacy_risk_explanation = \"\""
   ]
  },
  {
   "cell_type": "markdown",
   "id": "982ef63c",
   "metadata": {},
   "source": [
    "### Exercise 16: Real-World Application\n",
    "\n",
    "Describe one real-world system that uses Laplace noise."
   ]
  },
  {
   "cell_type": "code",
   "execution_count": 16,
   "id": "b5985d58",
   "metadata": {},
   "outputs": [],
   "source": [
    "real_world_laplace_application = \"\""
   ]
  }
 ],
 "metadata": {
  "kernelspec": {
   "display_name": "Python 3",
   "language": "python",
   "name": "python3"
  },
  "language_info": {
   "codemirror_mode": {
    "name": "ipython",
    "version": 3
   },
   "file_extension": ".py",
   "mimetype": "text/x-python",
   "name": "python",
   "version": "3.10"
  }
 },
 "nbformat": 4,
 "nbformat_minor": 5
}
