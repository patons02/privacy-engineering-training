{
 "cells": [
  {
   "cell_type": "markdown",
   "metadata": {},
   "source": [
    "# 📖 Differential Privacy: Laplace Mechanism"
   ]
  },
  {
   "cell_type": "markdown",
   "metadata": {},
   "source": [
    "The **Laplace Mechanism** is one of the simplest ways to achieve Differential Privacy.\n",
    "\n",
    "- It works by adding noise drawn from a Laplace distribution.\n",
    "- The amount of noise depends on the **sensitivity** of the function and the **privacy budget** (ε).\n",
    "\n",
    "**Formula for scale (b):**\n",
    "\n",
    "$$\n",
    "b = \\frac{\\text{Sensitivity}}{\\epsilon}\n",
    "$$"
   ]
  },
  {
   "cell_type": "markdown",
   "metadata": {},
   "source": [
    "## Exercise 1: Implement Laplace Noise Addition\n",
    "\n",
    "**Task:**\n",
    "\n",
    "Write a function `add_laplace_noise(value, sensitivity, epsilon)` that adds Laplace noise to a query result."
   ]
  },
  {
   "cell_type": "code",
   "metadata": {},
   "source": [
    "import numpy as np\n",
    "\n",
    "# TODO: Implement this function\n",
    "def add_laplace_noise(value: float, sensitivity: float, epsilon: float) -> float:\n",
    "    # Your code here\n",
    "    raise NotImplementedError(\"Implement the Laplace Mechanism!\")"
   ],
   "execution_count": null,
   "outputs": []
  },
  {
   "cell_type": "code",
   "metadata": {},
   "source": [
    "# --- Auto-checker for Exercise 1 ---\n",
    "try:\n",
    "    noisy_result = add_laplace_noise(10.0, 1.0, 0.5)\n",
    "    assert isinstance(noisy_result, float)\n",
    "    print(\"✅ Exercise Passed! Laplace noise function works.\")\n",
    "except Exception as e:\n",
    "    print(\"❌ Test failed. Double-check your Laplace noise implementation.\")\n",
    "    raise"
   ],
   "execution_count": null,
   "outputs": []
  },
  {
   "cell_type": "markdown",
   "metadata": {},
   "source": [
    "---\n",
    "## Exercise 2: Analyze Noise vs Epsilon\n",
    "\n",
    "**Task:**\n",
    "\n",
    "Simulate how the scale of noise changes when epsilon varies."
   ]
  },
  {
   "cell_type": "code",
   "metadata": {},
   "source": [
    "# TODO: Vary epsilon and plot the noise scale\n",
    "import matplotlib.pyplot as plt\n",
    "\n",
    "epsilons = np.linspace(0.1, 5, 50)\n",
    "sensitivity = 1.0\n",
    "scales = []\n",
    "\n",
    "for eps in epsilons:\n",
    "    # Your code here: compute scale = sensitivity / epsilon\n",
    "    pass\n",
    "\n",
    "# Plot\n",
    "plt.plot(epsilons, scales)\n",
    "plt.xlabel(\"Epsilon\")\n",
    "plt.ylabel(\"Noise Scale (b)\")\n",
    "plt.title(\"Noise Scale vs Epsilon\")\n",
    "plt.grid(True)\n",
    "plt.show()"
   ],
   "execution_count": null,
   "outputs": []
  },
  {
   "cell_type": "markdown",
   "metadata": {},
   "source": [
    "# 🧠 Key Takeaways\n",
    "- Smaller epsilon → larger noise scale → stronger privacy.\n",
    "- Larger epsilon → smaller noise scale → better accuracy, weaker privacy."
   ]
  }
 ],
 "metadata": {
  "kernelspec": {
   "display_name": "Python 3",
   "language": "python",
   "name": "python3"
  },
  "language_info": {
   "name": "python",
   "version": "3.10"
  }
 },
 "nbformat": 4,
 "nbformat_minor": 5
}

