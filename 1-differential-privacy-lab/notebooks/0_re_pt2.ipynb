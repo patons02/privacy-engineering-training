{
 "cells": [
  {
   "cell_type": "markdown",
   "metadata": {},
   "source": [
    "## Exercise 5: Check 5-Anonymity with Age Buckets\n",
    "\n",
    "Does AgeBucket + ZipPrefix achieve 5-anonymity?"
   ]
  },
  {
   "cell_type": "code",
   "execution_count": 6,
   "metadata": {},
   "outputs": [],
   "source": [
    "check_k_anonymity(df, ['AgeBucket', 'ZipPrefix'], 5)"
   ]
  },
  {
   "cell_type": "markdown",
   "metadata": {},
   "source": [
    "## Exercise 6: Define l-Diversity\n",
    "\n",
    "What is l-diversity?"
   ]
  },
  {
   "cell_type": "code",
   "execution_count": 7,
   "metadata": {},
   "outputs": [],
   "source": [
    "l_diversity_definition = \"\""
   ]
  },
  {
   "cell_type": "markdown",
   "metadata": {},
   "source": [
    "## Exercise 7: Check 2-Diversity for TripPurpose\n",
    "\n",
    "Does each equivalence class (AgeBucket + ZipPrefix) have 2 distinct TripPurposes?"
   ]
  },
  {
   "cell_type": "code",
   "execution_count": 8,
   "metadata": {},
   "outputs": [],
   "source": [
    "def check_l_diversity(df, group_fields, sensitive_field, l):\n",
    "    diversity = df.groupby(group_fields)[sensitive_field].nunique()\n",
    "    return (diversity >= l).all()\n",
    "\n",
    "check_l_diversity(df, ['AgeBucket', 'ZipPrefix'], 'TripPurpose', 2)"
   ]
  },
  {
   "cell_type": "markdown",
   "metadata": {},
   "source": [
    "## Exercise 8: Visualize Booking Price Distribution\n",
    "\n",
    "Plot the histogram of Booking Prices."
   ]
  },
  {
   "cell_type": "code",
   "execution_count": 9,
   "metadata": {},
   "outputs": [],
   "source": [
    "df['BookingPrice'].hist(bins=20)\n",
    "plt.xlabel('Booking Price ($)')\n",
    "plt.ylabel('Frequency')\n",
    "plt.title('Booking Price Distribution')\n",
    "plt.show()"
   ]
  },
  {
   "cell_type": "markdown",
   "metadata": {},
   "source": [
    "## Exercise 9: Linkage Attack Simulation\n",
    "\n",
    "Use ZipPrefix + DestinationCity to attempt re-identification."
   ]
  },
  {
   "cell_type": "code",
   "execution_count": 10,
   "metadata": {},
   "outputs": [],
   "source": [
    "def linkage_attack(df, known_fields):\n",
    "    linkage = df.groupby(known_fields).size()\n",
    "    return linkage[linkage == 1].count() / len(df) * 100\n",
    "\n",
    "linkage_attack(df, ['ZipPrefix', 'DestinationCity'])"
   ]
  },
  {
   "cell_type": "markdown",
   "metadata": {},
   "source": [
    "## Exercise 10: Calculate Privacy Risk Score\n",
    "\n",
    "Show a quick distribution of PrivacyRiskScore."
   ]
  },
  {
   "cell_type": "code",
   "execution_count": 11,
   "metadata": {},
   "outputs": [],
   "source": [
    "df['PrivacyRiskScore'].hist(bins=20)\n",
    "plt.xlabel('Privacy Risk Score')\n",
    "plt.ylabel('Frequency')\n",
    "plt.title('Privacy Risk Score Distribution')\n",
    "plt.show()"
   ]
  },
  {
   "cell_type": "markdown",
   "metadata": {},
   "source": [
    "## Exercise 11: Top 10 Highest Risk Travelers\n",
    "\n",
    "Find top 10 travelers by PrivacyRiskScore."
   ]
  },
  {
   "cell_type": "code",
   "execution_count": 12,
   "metadata": {},
   "outputs": [],
   "source": [
    "df.nlargest(10, 'PrivacyRiskScore')"
   ]
  }
 ],
 "metadata": {
  "kernelspec": {
   "display_name": "Python 3",
   "language": "python3",
   "name": "python3"
  },
  "language_info": {
   "name": "python",
   "version": "3.10",
   "mimetype": "text/x-python",
   "file_extension": ".py",
   "codemirror_mode": {
    "name": "ipython",
    "version": 3
   }
  }
 },
 "nbformat": 4,
 "nbformat_minor": 5
}