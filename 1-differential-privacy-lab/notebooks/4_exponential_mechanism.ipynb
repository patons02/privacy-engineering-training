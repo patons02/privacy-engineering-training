{
 "cells": [
  {
   "cell_type": "markdown",
   "id": "43cfdabe",
   "metadata": {},
   "source": [
    "# 📚 Differential Privacy — Exponential Mechanism\n",
    "\n",
    "Built by **Stu** 🚀"
   ]
  },
  {
   "cell_type": "markdown",
   "id": "27f53481",
   "metadata": {},
   "source": [
    "## Introduction to the Exponential Mechanism\n",
    "\n",
    "Understanding why adding noise doesn't work for non-numeric queries."
   ]
  },
  {
   "cell_type": "markdown",
   "id": "24656823",
   "metadata": {},
   "source": [
    "### Exercise 1: Why Not Add Noise?\n",
    "\n",
    "Explain why Laplace noise doesn't help if the query returns a category (like \"red\" or \"blue\")."
   ]
  },
  {
   "cell_type": "code",
   "execution_count": 1,
   "id": "71ebfb3b",
   "metadata": {},
   "outputs": [],
   "source": [
    "why_noise_fails = \"\""
   ]
  },
  {
   "cell_type": "markdown",
   "id": "0014557b",
   "metadata": {},
   "source": [
    "### Exercise 2: What Is a Score Function?\n",
    "\n",
    "Define what a score function is in the context of the Exponential Mechanism."
   ]
  },
  {
   "cell_type": "code",
   "execution_count": 2,
   "id": "57757ad1",
   "metadata": {},
   "outputs": [],
   "source": [
    "score_function_definition = \"\""
   ]
  },
  {
   "cell_type": "markdown",
   "id": "756b1e10",
   "metadata": {},
   "source": [
    "### Exercise 3: Simple Score Example\n",
    "\n",
    "List three candidates and assign them simple scores manually."
   ]
  },
  {
   "cell_type": "code",
   "execution_count": 3,
   "id": "587a6911",
   "metadata": {},
   "outputs": [],
   "source": [
    "candidates = [\"Alice\", \"Bob\", \"Charlie\"]\n",
    "scores = [8, 5, 7]"
   ]
  },
  {
   "cell_type": "markdown",
   "id": "4444ecd4",
   "metadata": {},
   "source": [
    "## Sensitivity of the Score Function\n"
   ]
  },
  {
   "cell_type": "markdown",
   "id": "f495ed3c",
   "metadata": {},
   "source": [
    "### Exercise 4: What is Sensitivity (Δu)?\n",
    "\n",
    "Explain what the sensitivity of a score function means."
   ]
  },
  {
   "cell_type": "code",
   "execution_count": 4,
   "id": "b19356ab",
   "metadata": {},
   "outputs": [],
   "source": [
    "score_sensitivity_definition = \"\""
   ]
  },
  {
   "cell_type": "markdown",
   "id": "552895be",
   "metadata": {},
   "source": [
    "### Exercise 5: Estimate Sensitivity\n",
    "\n",
    "Estimate the sensitivity of your score function above assuming scores could differ by at most 3."
   ]
  },
  {
   "cell_type": "code",
   "execution_count": 5,
   "id": "c3ab3e7a",
   "metadata": {},
   "outputs": [],
   "source": [
    "estimated_sensitivity = 3"
   ]
  },
  {
   "cell_type": "markdown",
   "id": "93ccbb5f",
   "metadata": {},
   "source": [
    "## Probability and Sampling\n"
   ]
  },
  {
   "cell_type": "markdown",
   "id": "43008b4b",
   "metadata": {},
   "source": [
    "### Exercise 6: Probability Formula\n",
    "\n",
    "Write the formula for the probability of selecting output `r`."
   ]
  },
  {
   "cell_type": "code",
   "execution_count": 6,
   "id": "f498f96b",
   "metadata": {},
   "outputs": [],
   "source": [
    "probability_formula = \"exp(ε * score(r) / (2 * Δu)) divided by sum of all exp(ε * score(r') / (2 * Δu))\""
   ]
  },
  {
   "cell_type": "markdown",
   "id": "2f06ee98",
   "metadata": {},
   "source": [
    "### Exercise 7: Implement Basic Sampling\n",
    "\n",
    "Use numpy to implement basic sampling from your candidate list according to scores."
   ]
  },
  {
   "cell_type": "code",
   "execution_count": 7,
   "id": "f6e069c2",
   "metadata": {},
   "outputs": [],
   "source": [
    "import numpy as np\n",
    "def sample_candidate(candidates, scores, epsilon, sensitivity):\n",
    "    exps = np.exp((epsilon * np.array(scores)) / (2 * sensitivity))\n",
    "    probs = exps / np.sum(exps)\n",
    "    return np.random.choice(candidates, p=probs)\n",
    "\n",
    "# Example:\n",
    "sample_candidate(candidates, scores, epsilon=1.0, sensitivity=3)"
   ]
  },
  {
   "cell_type": "markdown",
   "id": "98ef946c",
   "metadata": {},
   "source": [
    "### Exercise 8: Histogram of Samples\n",
    "\n",
    "Draw 1000 samples and plot a histogram of selected candidates."
   ]
  },
  {
   "cell_type": "code",
   "execution_count": 8,
   "id": "adc00bea",
   "metadata": {},
   "outputs": [],
   "source": [
    "samples = [sample_candidate(candidates, scores, 1.0, 3) for _ in range(1000)]\n",
    "import matplotlib.pyplot as plt\n",
    "plt.hist(samples, bins=np.arange(len(candidates)+1)-0.5, rwidth=0.8)\n",
    "plt.xticks(range(len(candidates)), candidates)\n",
    "plt.title('Sampled Candidates')\n",
    "plt.show()"
   ]
  },
  {
   "cell_type": "markdown",
   "id": "7e98fb3e",
   "metadata": {},
   "source": [
    "### Exercise 9: ε Effect on Sharpness\n",
    "\n",
    "What happens when you increase ε in the Exponential Mechanism?"
   ]
  },
  {
   "cell_type": "code",
   "execution_count": 9,
   "id": "b48573c4",
   "metadata": {},
   "outputs": [],
   "source": [
    "epsilon_effect_explanation = \"\""
   ]
  },
  {
   "cell_type": "markdown",
   "id": "93a1a7aa",
   "metadata": {},
   "source": [
    "### Exercise 10: Compare ε=0.1 vs ε=2\n",
    "\n",
    "Sample with ε=0.1 and ε=2 and plot histograms side-by-side."
   ]
  },
  {
   "cell_type": "code",
   "execution_count": 10,
   "id": "aa281798",
   "metadata": {},
   "outputs": [],
   "source": [
    "samples_low = [sample_candidate(candidates, scores, 0.1, 3) for _ in range(1000)]\n",
    "samples_high = [sample_candidate(candidates, scores, 2.0, 3) for _ in range(1000)]\n",
    "\n",
    "fig, axs = plt.subplots(1, 2, figsize=(12,5))\n",
    "axs[0].hist(samples_low, bins=np.arange(len(candidates)+1)-0.5, rwidth=0.8)\n",
    "axs[0].set_title('ε=0.1')\n",
    "axs[1].hist(samples_high, bins=np.arange(len(candidates)+1)-0.5, rwidth=0.8)\n",
    "axs[1].set_title('ε=2.0')\n",
    "plt.show()"
   ]
  },
  {
   "cell_type": "markdown",
   "id": "a9f8c712",
   "metadata": {},
   "source": [
    "## Practical Applications\n"
   ]
  },
  {
   "cell_type": "markdown",
   "id": "9e132839",
   "metadata": {},
   "source": [
    "### Exercise 11: Restaurant Choice Example\n",
    "\n",
    "Pick among 3 restaurants based on noisy customer scores using Exponential Mechanism."
   ]
  },
  {
   "cell_type": "code",
   "execution_count": 11,
   "id": "6a322f26",
   "metadata": {},
   "outputs": [],
   "source": [
    "restaurants = [\"Pizza Place\", \"Burger Joint\", \"Sushi Bar\"]\n",
    "restaurant_scores = [4.0, 3.5, 4.5]\n",
    "chosen_restaurant = sample_candidate(restaurants, restaurant_scores, epsilon=1.0, sensitivity=1)\n",
    "chosen_restaurant"
   ]
  },
  {
   "cell_type": "markdown",
   "id": "12e44b1e",
   "metadata": {},
   "source": [
    "### Exercise 12: Visualize Restaurant Sampling\n",
    "\n",
    "Plot histogram for 1000 samples with ε=1."
   ]
  },
  {
   "cell_type": "code",
   "execution_count": 12,
   "id": "b248c44e",
   "metadata": {},
   "outputs": [],
   "source": [
    "samples_restaurants = [sample_candidate(restaurants, restaurant_scores, 1.0, 1) for _ in range(1000)]\n",
    "plt.hist(samples_restaurants, bins=np.arange(len(restaurants)+1)-0.5, rwidth=0.8)\n",
    "plt.xticks(range(len(restaurants)), restaurants)\n",
    "plt.title('Restaurant Sampling with Exponential Mechanism')\n",
    "plt.show()"
   ]
  },
  {
   "cell_type": "markdown",
   "id": "edd956e7",
   "metadata": {},
   "source": [
    "### Exercise 13: Job Candidate Ranking\n",
    "\n",
    "Suppose 4 job candidates with the following scores: [92, 85, 88, 90]. Sample with ε=0.5."
   ]
  },
  {
   "cell_type": "code",
   "execution_count": 13,
   "id": "6ecc482c",
   "metadata": {},
   "outputs": [],
   "source": [
    "candidates = [\"Cand_A\", \"Cand_B\", \"Cand_C\", \"Cand_D\"]\n",
    "job_scores = [92, 85, 88, 90]\n",
    "chosen_candidate = sample_candidate(candidates, job_scores, epsilon=0.5, sensitivity=10)\n",
    "chosen_candidate"
   ]
  },
  {
   "cell_type": "markdown",
   "id": "b549c672",
   "metadata": {},
   "source": [
    "## Bonus Challenges\n"
   ]
  },
  {
   "cell_type": "markdown",
   "id": "55442d51",
   "metadata": {},
   "source": [
    "### Exercise 14: Optimize ε for 70% Best Picks\n",
    "\n",
    "If the best candidate is selected only 50% of the time with ε=0.5, propose a strategy to improve this."
   ]
  },
  {
   "cell_type": "code",
   "execution_count": 14,
   "id": "a7358f2d",
   "metadata": {},
   "outputs": [],
   "source": [
    "strategy_to_improve = \"\""
   ]
  },
  {
   "cell_type": "markdown",
   "id": "7b894b43",
   "metadata": {},
   "source": [
    "### Exercise 15: Limitations of Exponential Mechanism\n",
    "\n",
    "List one limitation of using Exponential Mechanism."
   ]
  },
  {
   "cell_type": "code",
   "execution_count": 15,
   "id": "e4de53cb",
   "metadata": {},
   "outputs": [],
   "source": [
    "exponential_limitations = \"\""
   ]
  },
  {
   "cell_type": "markdown",
   "id": "65d0500c",
   "metadata": {},
   "source": [
    "### Exercise 16: Final Reflection\n",
    "\n",
    "Why is the Exponential Mechanism so important for DP in non-numeric domains?"
   ]
  },
  {
   "cell_type": "code",
   "execution_count": 16,
   "id": "0a5f10a2",
   "metadata": {},
   "outputs": [],
   "source": [
    "importance_reflection = \"\""
   ]
  }
 ],
 "metadata": {
  "kernelspec": {
   "display_name": "Python 3",
   "language": "python",
   "name": "python3"
  },
  "language_info": {
   "codemirror_mode": {
    "name": "ipython",
    "version": 3
   },
   "file_extension": ".py",
   "mimetype": "text/x-python",
   "name": "python",
   "version": "3.10"
  }
 },
 "nbformat": 4,
 "nbformat_minor": 5
}
