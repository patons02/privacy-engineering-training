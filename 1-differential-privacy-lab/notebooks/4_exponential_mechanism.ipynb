{
 "cells": [
  {
   "cell_type": "markdown",
   "id": "10fe7d94",
   "metadata": {},
   "source": [
    "# 📖 Differential Privacy: Exponential Mechanism"
   ]
  },
  {
   "cell_type": "markdown",
   "id": "e0ae6aa5",
   "metadata": {},
   "source": [
    "The **Exponential Mechanism** allows us to select an output from a set of possible options in a way that preserves Differential Privacy.\n",
    "\n",
    "- Used when outputs are not numeric (e.g., category labels, movie titles).\n",
    "- Each output is given a **utility score** — higher means better.\n",
    "- The probability of selection is proportional to the exponential of the score, scaled by ε (epsilon)."
   ]
  },
  {
   "cell_type": "markdown",
   "id": "bb0b7ba7",
   "metadata": {},
   "source": [
    "## Exercise 1: Implement the Exponential Mechanism\n",
    "\n",
    "**Task:**\n",
    "\n",
    "Given a list of candidates and scores, and parameters ε (epsilon) and sensitivity, write a function to select a candidate privately."
   ]
  },
  {
   "cell_type": "code",
   "execution_count": null,
   "id": "cc3340b8",
   "metadata": {},
   "outputs": [],
   "source": [
    "import numpy as np\n",
    "\n",
    "# TODO: Implement this function\n",
    "def exponential_mechanism(\n",
    "    candidates: list, scores: list, epsilon: float, sensitivity: float\n",
    ") -> str:\n",
    "    # Your code here\n",
    "    raise NotImplementedError(\"Implement exponential sampling!\")"
   ]
  },
  {
   "cell_type": "code",
   "execution_count": null,
   "id": "7c391ebb",
   "metadata": {},
   "outputs": [],
   "source": [
    "# --- Auto-checker for Exercise 1 ---\n",
    "try:\n",
    "    candidates = [\"apple\", \"banana\", \"cherry\"]\n",
    "    scores = [3, 1, 2]\n",
    "    selection = exponential_mechanism(candidates, scores, epsilon=1.0, sensitivity=1.0)\n",
    "    assert selection in candidates\n",
    "    print(\"✅ Exercise Passed! Exponential mechanism works.\")\n",
    "except Exception as e:\n",
    "    print(\n",
    "        \"❌ Test failed. Make sure you sample proportionally to exp(epsilon * score / (2 * sensitivity)).\"\n",
    "    )\n",
    "    raise"
   ]
  },
  {
   "cell_type": "markdown",
   "id": "aece24e7",
   "metadata": {},
   "source": [
    "---\n",
    "# 🧠 Key Takeaways\n",
    "- Higher utility scores → higher chance of being selected.\n",
    "- Smaller epsilon → more randomized selections (stronger privacy).\n",
    "- Useful when outputs are not just numbers!"
   ]
  }
 ],
 "metadata": {
  "kernelspec": {
   "display_name": "Python 3",
   "language": "python",
   "name": "python3"
  },
  "language_info": {
   "name": "python",
   "version": "3.10"
  }
 },
 "nbformat": 4,
 "nbformat_minor": 5
}
