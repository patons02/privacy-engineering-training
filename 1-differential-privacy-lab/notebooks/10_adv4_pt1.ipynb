{
 "cells": [
  {
   "cell_type": "markdown",
   "metadata": {},
   "source": [
    "# 📚 Experimental Topics in Differential Privacy\n",
    "\n",
    "Built by **Stu** 🚀"
   ]
  },
  {
   "cell_type": "markdown",
   "metadata": {},
   "source": [
    "## Introduction\n",
    "\n",
    "Private synthetic data, federated learning with adaptive control, DP for LLMs, secure aggregation, and more."
   ]
  },
  {
   "cell_type": "markdown",
   "metadata": {},
   "source": [
    "## Section 1: Tiny Private Synthetic Data"
   ]
  },
  {
   "cell_type": "markdown",
   "metadata": {},
   "source": [
    "### Exercise 1: Create a Tiny Tabular Dataset"
   ]
  },
  {
   "cell_type": "code",
   "execution_count": 1,
   "metadata": {},
   "outputs": [],
   "source": [
    "import pandas as pd\n",
    "import numpy as np\n",
    "\n",
    "np.random.seed(42)\n",
    "df = pd.DataFrame({\n",
    "    'Age': np.random.randint(18, 70, size=500),\n",
    "    'Salary': np.random.randint(20000, 200000, size=500),\n",
    "    'PurchaseAmount': np.random.uniform(5, 1000, size=500),\n",
    "    'IsTraveler': np.random.choice(['Yes', 'No'], size=500),\n",
    "    'Country': np.random.choice(['USA', 'UK', 'FR', 'JP', 'IN'], size=500)\n",
    "})\n",
    "df.head()"
   ]
  },
  {
   "cell_type": "markdown",
   "metadata": {},
   "source": [
    "### Exercise 2: Add Laplace Noise to Numeric Features"
   ]
  },
  {
   "cell_type": "code",
   "execution_count": 2,
   "metadata": {},
   "outputs": [],
   "source": [
    "def laplace_mechanism(value, sensitivity, epsilon):\n",
    "    scale = sensitivity / epsilon\n",
    "    return value + np.random.laplace(0, scale)\n",
    "\n",
    "df_noisy = df.copy()\n",
    "for col in ['Age', 'Salary', 'PurchaseAmount']:\n",
    "    df_noisy[col] = df_noisy[col].apply(lambda x: laplace_mechanism(x, 1, 1.0))\n",
    "df_noisy.head()"
   ]
  },
  {
   "cell_type": "markdown",
   "metadata": {},
   "source": [
    "### Exercise 3: Plot Real vs Noisy Feature Distributions"
   ]
  },
  {
   "cell_type": "code",
   "execution_count": 3,
   "metadata": {},
   "outputs": [],
   "source": [
    "import matplotlib.pyplot as plt\n",
    "\n",
    "plt.hist(df['Age'], alpha=0.5, label='Real')\n",
    "plt.hist(df_noisy['Age'], alpha=0.5, label='Noisy')\n",
    "plt.legend()\n",
    "plt.title('Age Feature: Real vs Noisy')\n",
    "plt.show()"
   ]
  },
  {
   "cell_type": "markdown",
   "metadata": {},
   "source": [
    "## Section 2: Private Synthetic GAN Sketch"
   ]
  },
  {
   "cell_type": "markdown",
   "metadata": {},
   "source": [
    "### Exercise 4: Build a Tiny Generator Network"
   ]
  },
  {
   "cell_type": "code",
   "execution_count": 4,
   "metadata": {},
   "outputs": [],
   "source": [
    "import torch\n",
    "import torch.nn as nn\n",
    "\n",
    "class TinyGenerator(nn.Module):\n",
    "    def __init__(self):\n",
    "        super().__init__()\n",
    "        self.fc = nn.Linear(10, 5)\n",
    "    \n",
    "    def forward(self, x):\n",
    "        return torch.tanh(self.fc(x))\n",
    "\n",
    "generator = TinyGenerator()\n",
    "generator"
   ]
  },
  {
   "cell_type": "markdown",
   "metadata": {},
   "source": [
    "### Exercise 5: Build a Tiny Discriminator Network"
   ]
  },
  {
   "cell_type": "code",
   "execution_count": 5,
   "metadata": {},
   "outputs": [],
   "source": [
    "class TinyDiscriminator(nn.Module):\n",
    "    def __init__(self):\n",
    "        super().__init__()\n",
    "        self.fc = nn.Linear(5, 1)\n",
    "    \n",
    "    def forward(self, x):\n",
    "        return torch.sigmoid(self.fc(x))\n",
    "\n",
    "discriminator = TinyDiscriminator()\n",
    "discriminator"
   ]
  },
  {
   "cell_type": "markdown",
   "metadata": {},
   "source": [
    "### Exercise 6: Add DP Noise to Discriminator Outputs"
   ]
  },
  {
   "cell_type": "code",
   "execution_count": 6,
   "metadata": {},
   "outputs": [],
   "source": [
    "def add_dp_noise(output, sigma=1.0):\n",
    "    return output + torch.normal(0, sigma, size=output.shape)\n",
    "\n",
    "fake_output = discriminator(torch.randn(1,5))\n",
    "dp_output = add_dp_noise(fake_output)\n",
    "dp_output"
   ]
  }
 ],
 "metadata": {
  "kernelspec": {
   "display_name": "Python 3",
   "language": "python3"
  },
  "language_info": {
   "name": "python",
   "version": "3.10",
   "mimetype": "text/x-python",
   "file_extension": ".py",
   "codemirror_mode": {
    "name": "ipython",
    "version": 3
   }
  }
 },
 "nbformat": 4,
 "nbformat_minor": 5
}