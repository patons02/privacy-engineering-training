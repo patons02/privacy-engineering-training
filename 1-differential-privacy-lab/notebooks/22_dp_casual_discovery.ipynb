{
 "cells": [
  {
   "cell_type": "markdown",
   "metadata": {},
   "source": [
    "# 📚 Private Causal Discovery\n",
    "\n",
    "Built by **Stu** 🚀"
   ]
  },
  {
   "cell_type": "markdown",
   "metadata": {},
   "source": [
    "## Section 1: Basics of Causal Discovery"
   ]
  },
  {
   "cell_type": "markdown",
   "metadata": {},
   "source": [
    "### Exercise 1: Define Causal Discovery"
   ]
  },
  {
   "cell_type": "code",
   "execution_count": 1,
   "metadata": {},
   "outputs": [],
   "source": [
    "causal_discovery_definition = \"Learning the causal structure (e.g., DAG) from observational or experimental data.\""
   ]
  },
  {
   "cell_type": "markdown",
   "metadata": {},
   "source": [
    "### Exercise 2: Sketch Privacy Risks in Causal Discovery"
   ]
  },
  {
   "cell_type": "code",
   "execution_count": 2,
   "metadata": {},
   "outputs": [],
   "source": [
    "causal_privacy_risks = \"Sensitive relationships (edges) between variables could leak user-specific behavior or attributes.\""
   ]
  },
  {
   "cell_type": "markdown",
   "metadata": {},
   "source": [
    "## Section 2: Simulate Toy Causal Data"
   ]
  },
  {
   "cell_type": "markdown",
   "metadata": {},
   "source": [
    "### Exercise 3: Generate Tiny 3-Variable Causal Data"
   ]
  },
  {
   "cell_type": "code",
   "execution_count": 3,
   "metadata": {},
   "outputs": [],
   "source": [
    "import numpy as np\n",
    "np.random.seed(42)\n",
    "n = 300\n",
    "X = np.random.normal(0,1,n)\n",
    "Y = 2*X + np.random.normal(0,0.1,n)\n",
    "Z = 3*Y + np.random.normal(0,0.1,n)"
   ]
  },
  {
   "cell_type": "markdown",
   "metadata": {},
   "source": [
    "### Exercise 4: Correlation Matrix (No Privacy Yet)"
   ]
  },
  {
   "cell_type": "code",
   "execution_count": 4,
   "metadata": {},
   "outputs": [],
   "source": [
    "import pandas as pd\n",
    "df = pd.DataFrame({'X': X, 'Y': Y, 'Z': Z})\n",
    "correlation = df.corr()\n",
    "correlation"
   ]
  },
  {
   "cell_type": "markdown",
   "metadata": {},
   "source": [
    "## Section 3: Add Noise for Private Discovery"
   ]
  },
  {
   "cell_type": "markdown",
   "metadata": {},
   "source": [
    "### Exercise 5: Add Laplace Noise to Correlations"
   ]
  },
  {
   "cell_type": "code",
   "execution_count": 5,
   "metadata": {},
   "outputs": [],
   "source": [
    "def add_laplace_noise_to_corr(corr_matrix, epsilon=1.0):\n",
    "    noisy_corr = corr_matrix.copy()\n",
    "    for i in range(len(corr_matrix)):\n",
    "        for j in range(len(corr_matrix)):\n",
    "            if i != j:\n",
    "                noisy_corr.iloc[i,j] += np.random.laplace(0, 1/epsilon)\n",
    "    return noisy_corr\n",
    "\n",
    "noisy_correlation = add_laplace_noise_to_corr(correlation)\n",
    "noisy_correlation"
   ]
  },
  {
   "cell_type": "markdown",
   "metadata": {},
   "source": [
    "### Exercise 6: Build Noisy Causal Graph"
   ]
  },
  {
   "cell_type": "code",
   "execution_count": 6,
   "metadata": {},
   "outputs": [],
   "source": [
    "import networkx as nx\n",
    "\n",
    "G = nx.DiGraph()\n",
    "threshold = 0.5\n",
    "for col in noisy_correlation.columns:\n",
    "    for row in noisy_correlation.index:\n",
    "        if col != row and abs(noisy_correlation.loc[row, col]) > threshold:\n",
    "            G.add_edge(row, col)\n",
    "\n",
    "nx.draw(G, with_labels=True)"
   ]
  },
  {
   "cell_type": "markdown",
   "metadata": {},
   "source": [
    "## Section 4: Reflections"
   ]
  },
  {
   "cell_type": "markdown",
   "metadata": {},
   "source": [
    "### Exercise 7: Reflect on Private Causal Graph Accuracy"
   ]
  },
  {
   "cell_type": "code",
   "execution_count": 7,
   "metadata": {},
   "outputs": [],
   "source": [
    "causal_graph_accuracy_reflection = \"Noise may add false edges or miss real ones; need careful threshold tuning.\""
   ]
  },
  {
   "cell_type": "markdown",
   "metadata": {},
   "source": [
    "### Exercise 8: Sketch Real Applications"
   ]
  },
  {
   "cell_type": "code",
   "execution_count": 8,
   "metadata": {},
   "outputs": [],
   "source": [
    "causal_real_apps = \"Health research, social science, private marketing experiments.\""
   ]
  },
  {
   "cell_type": "markdown",
   "metadata": {},
   "source": [
    "### Exercise 9: Vary Epsilon and Measure False Edges"
   ]
  },
  {
   "cell_type": "code",
   "execution_count": 9,
   "metadata": {},
   "outputs": [],
   "source": [
    "epsilons = [0.1, 0.5, 1.0, 2.0]\n",
    "false_edges = []\n",
    "for eps in epsilons:\n",
    "    noisy_corr = add_laplace_noise_to_corr(correlation, epsilon=eps)\n",
    "    count = 0\n",
    "    for col in noisy_corr.columns:\n",
    "        for row in noisy_corr.index:\n",
    "            if col != row and abs(noisy_corr.loc[row, col]) > threshold:\n",
    "                count += 1\n",
    "    false_edges.append(count)\n",
    "\n",
    "plt.plot(epsilons, false_edges)\n",
    "plt.xlabel('ε')\n",
    "plt.ylabel('Number of (Potentially False) Edges')\n",
    "plt.title('Privacy vs Causal Graph Accuracy')\n",
    "plt.show()"
   ]
  },
  {
   "cell_type": "markdown",
   "metadata": {},
   "source": [
    "### Exercise 10: Summarize Trade-offs"
   ]
  },
  {
   "cell_type": "code",
   "execution_count": 10,
   "metadata": {},
   "outputs": [],
   "source": [
    "causal_discovery_summary = \"Lower ε → stronger privacy but more noise → more false edges; trade-off tuning essential.\""
   ]
  }
 ],
 "metadata": {
  "kernelspec": {
   "display_name": "Python 3",
   "language": "python3"
  },
  "language_info": {
   "name": "python",
   "version": "3.10",
   "mimetype": "text/x-python",
   "file_extension": ".py",
   "codemirror_mode": {
    "name": "ipython",
    "version": 3
   }
  }
 },
 "nbformat": 4,
 "nbformat_minor": 5
}