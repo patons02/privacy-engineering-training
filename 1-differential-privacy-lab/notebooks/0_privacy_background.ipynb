{
 "cells": [
  {
   "cell_type": "markdown",
   "id": "a1b42c53",
   "metadata": {},
   "source": [
    "# 📚 Privacy Background — K-Anonymity, L-Diversity, T-Closeness\n",
    "\n",
    "Built by **Stu** 🚀\n",
    "\n",
    "_Context: E-commerce Travel Booking Platform_"
   ]
  },
  {
   "cell_type": "markdown",
   "id": "90d99d40",
   "metadata": {},
   "source": [
    "## Introduction to Classical Privacy Methods\n",
    "\n",
    "We study how anonymization methods evolved before Differential Privacy."
   ]
  },
  {
   "cell_type": "markdown",
   "id": "5ec2f0f4",
   "metadata": {},
   "source": [
    "## Toy Travel Dataset (30 records)"
   ]
  },
  {
   "cell_type": "code",
   "execution_count": 1,
   "id": "e872bd2b",
   "metadata": {},
   "outputs": [],
   "source": [
    "import pandas as pd\n",
    "toy_data = pd.DataFrame({\n",
    "    'Age': [25, 34, 29, 45, 52, 23, 31, 40, 29, 60, 48, 27, 35, 42, 37, 53, 46, 30, 24, 38, 41, 50, 28, 47, 36, 39, 44, 32, 26, 33],\n",
    "    'ZipCode': ['02138', '02139', '02138', '02139', '02140', '02141', '02140', '02141', '02138', '02139',\n",
    "                '02140', '02141', '02138', '02139', '02140', '02141', '02140', '02141', '02138', '02139',\n",
    "                '02140', '02141', '02138', '02139', '02140', '02141', '02140', '02141', '02138', '02139'],\n",
    "    'Gender': ['Female', 'Male', 'Female', 'Female', 'Male', 'Female', 'Female', 'Male', 'Female', 'Female',\n",
    "               'Male', 'Female', 'Male', 'Female', 'Female', 'Male', 'Female', 'Female', 'Male', 'Female',\n",
    "               'Female', 'Female', 'Male', 'Female', 'Female', 'Male', 'Female', 'Female', 'Male', 'Female'],\n",
    "    'DestinationCity': ['Paris', 'London', 'Paris', 'Tokyo', 'Boston', 'Rome', 'Paris', 'Rome', 'Boston', 'Tokyo',\n",
    "                         'London', 'Paris', 'Tokyo', 'Paris', 'Rome', 'Tokyo', 'London', 'Paris', 'Boston', 'Rome',\n",
    "                         'Paris', 'Tokyo', 'London', 'Rome', 'Paris', 'Tokyo', 'Boston', 'Rome', 'London', 'Tokyo'],\n",
    "    'TripPurpose': ['Leisure', 'Business', 'Leisure', 'Leisure', 'Business', 'Leisure', 'Business', 'Business',\n",
    "                    'Medical', 'Leisure', 'Education', 'Medical', 'Business', 'Leisure', 'Leisure', 'Education',\n",
    "                    'Business', 'Medical', 'Leisure', 'Business', 'Medical', 'Leisure', 'Education', 'Business',\n",
    "                    'Medical', 'Business', 'Leisure', 'Medical', 'Business', 'Education'],\n",
    "    'BookingPrice': [1200, 2500, 1800, 3400, 2200, 2900, 3100, 4000, 450, 3200,\n",
    "                     2700, 1300, 2600, 1800, 3000, 3400, 2200, 2500, 500, 3800,\n",
    "                     470, 3600, 2800, 4100, 490, 3000, 510, 4200, 2500, 3100],\n",
    "    'LoyaltyStatus': ['Gold', 'Silver', 'Gold', 'None', 'Silver', 'Gold', 'None', 'Gold', 'Silver', 'None',\n",
    "                      'Gold', 'None', 'Silver', 'Gold', 'Silver', 'None', 'Silver', 'None', 'Gold', 'Silver',\n",
    "                      'Gold', 'None', 'Silver', 'Gold', 'Silver', 'None', 'Silver', 'Gold', 'None']\n",
    "})\n",
    "toy_data.head()"
   ]
  },
  {
   "cell_type": "markdown",
   "id": "94f451c5",
   "metadata": {},
   "source": [
    "## Exercise 1: What is k-Anonymity?\n",
    "\n",
    "Define k-anonymity in your own words."
   ]
  },
  {
   "cell_type": "code",
   "execution_count": 2,
   "id": "075e655e",
   "metadata": {},
   "outputs": [],
   "source": [
    "k_anonymity_definition = \"\""
   ]
  },
  {
   "cell_type": "markdown",
   "id": "c58d54e5",
   "metadata": {},
   "source": [
    "## Exercise 2: Identify Quasi-Identifiers\n",
    "\n",
    "Which fields in the toy dataset are quasi-identifiers?"
   ]
  },
  {
   "cell_type": "code",
   "execution_count": 3,
   "id": "22aa1b03",
   "metadata": {},
   "outputs": [],
   "source": [
    "quasi_identifiers = []  # e.g., Age, ZipCode, Gender"
   ]
  },
  {
   "cell_type": "markdown",
   "id": "d1629d2d",
   "metadata": {},
   "source": [
    "## Exercise 3: k-Anonymity Violation\n",
    "\n",
    "Does the toy dataset satisfy 3-anonymity for the fields Age + ZipCode + Gender?"
   ]
  },
  {
   "cell_type": "code",
   "execution_count": 4,
   "id": "34c5ea4a",
   "metadata": {},
   "outputs": [],
   "source": [
    "def check_k_anonymity(df, fields, k):\n",
    "    groups = df.groupby(fields).size()\n",
    "    return (groups >= k).all()\n",
    "\n",
    "check_k_anonymity(toy_data, ['Age', 'ZipCode', 'Gender'], 3)"
   ]
  },
  {
   "cell_type": "markdown",
   "id": "11184576",
   "metadata": {},
   "source": [
    "## Exercise 4: Generalize ZipCode\n",
    "\n",
    "Generalize ZipCode to the first 3 digits only."
   ]
  },
  {
   "cell_type": "code",
   "execution_count": 5,
   "id": "e12207d5",
   "metadata": {},
   "outputs": [],
   "source": [
    "toy_data['ZipCode_Generalized'] = toy_data['ZipCode'].str[:3]\n",
    "toy_data.head()"
   ]
  },
  {
   "cell_type": "markdown",
   "id": "5353c965",
   "metadata": {},
   "source": [
    "## Exercise 5: Check 3-Anonymity After Generalization\n",
    "\n",
    "Does the dataset now satisfy 3-anonymity using Age + generalized ZipCode + Gender?"
   ]
  },
  {
   "cell_type": "code",
   "execution_count": 6,
   "id": "2a5e00d2",
   "metadata": {},
   "outputs": [],
   "source": [
    "check_k_anonymity(toy_data, ['Age', 'ZipCode_Generalized', 'Gender'], 3)"
   ]
  },
  {
   "cell_type": "markdown",
   "id": "b841833b",
   "metadata": {},
   "source": [
    "## Exercise 6: What is l-Diversity?\n",
    "\n",
    "Define l-diversity and why it was introduced."
   ]
  },
  {
   "cell_type": "code",
   "execution_count": 7,
   "id": "790aa0ce",
   "metadata": {},
   "outputs": [],
   "source": [
    "l_diversity_definition = \"\""
   ]
  },
  {
   "cell_type": "markdown",
   "id": "e2d01072",
   "metadata": {},
   "source": [
    "## Exercise 7: Check l-Diversity for TripPurpose\n",
    "\n",
    "Does each 3-anonymous group have at least 2 diverse Trip Purposes?"
   ]
  },
  {
   "cell_type": "code",
   "execution_count": 8,
   "id": "13629b69",
   "metadata": {},
   "outputs": [],
   "source": [
    "def check_l_diversity(df, group_fields, sensitive_field, l):\n",
    "    grouped = df.groupby(group_fields)[sensitive_field].nunique()\n",
    "    return (grouped >= l).all()\n",
    "\n",
    "check_l_diversity(toy_data, ['Age', 'ZipCode_Generalized', 'Gender'], 'TripPurpose', 2)"
   ]
  },
  {
   "cell_type": "markdown",
   "id": "b726087a",
   "metadata": {},
   "source": [
    "## Exercise 8: What is t-Closeness?\n",
    "\n",
    "Define t-closeness and its advantage over l-diversity."
   ]
  },
  {
   "cell_type": "code",
   "execution_count": 9,
   "id": "ea01caf3",
   "metadata": {},
   "outputs": [],
   "source": [
    "t_closeness_definition = \"\""
   ]
  },
  {
   "cell_type": "markdown",
   "id": "d04aa7f4",
   "metadata": {},
   "source": [
    "## Exercise 9: Booking Price Distribution\n",
    "\n",
    "Plot the histogram of Booking Prices for all users."
   ]
  },
  {
   "cell_type": "code",
   "execution_count": 10,
   "id": "cf7d58c0",
   "metadata": {},
   "outputs": [],
   "source": [
    "import matplotlib.pyplot as plt\n",
    "toy_data['BookingPrice'].hist(bins=10)\n",
    "plt.xlabel('Booking Price ($)')\n",
    "plt.ylabel('Frequency')\n",
    "plt.title('Overall Booking Price Distribution')\n",
    "plt.show()"
   ]
  },
  {
   "cell_type": "markdown",
   "id": "5dfdcdb2",
   "metadata": {},
   "source": [
    "## Exercise 10: Simulate Linkage Attack\n",
    "\n",
    "Assume attacker knows Age and ZipCode prefix. Try to identify DestinationCity."
   ]
  },
  {
   "cell_type": "code",
   "execution_count": 11,
   "id": "e5b5b826",
   "metadata": {},
   "outputs": [],
   "source": [
    "def simulate_linkage_attack(df, known_fields):\n",
    "    results = df.groupby(known_fields)['DestinationCity'].nunique()\n",
    "    return results\n",
    "\n",
    "simulate_linkage_attack(toy_data, ['Age', 'ZipCode_Generalized'])"
   ]
  },
  {
   "cell_type": "markdown",
   "id": "526dd3a2",
   "metadata": {},
   "source": [
    "## Exercise 11: Linkage Attack Risk\n",
    "\n",
    "What percentage of groups have only 1 unique DestinationCity (perfect attack)?"
   ]
  },
  {
   "cell_type": "code",
   "execution_count": 12,
   "id": "5be23191",
   "metadata": {},
   "outputs": [],
   "source": [
    "linkage_results = simulate_linkage_attack(toy_data, ['Age', 'ZipCode_Generalized'])\n",
    "(linkage_results == 1).mean() * 100"
   ]
  },
  {
   "cell_type": "markdown",
   "id": "a9043f1f",
   "metadata": {},
   "source": [
    "## Exercise 12: Suggest Defense Strategies\n",
    "\n",
    "Suggest how to defend against linkage attacks using generalization or suppression."
   ]
  },
  {
   "cell_type": "code",
   "execution_count": 13,
   "id": "1cf68938",
   "metadata": {},
   "outputs": [],
   "source": [
    "defense_strategies = \"\""
   ]
  },
  {
   "cell_type": "markdown",
   "id": "b03d6185",
   "metadata": {},
   "source": [
    "## Exercise 13: Suppress Unique Records\n",
    "\n",
    "Suppose we suppress records that are unique based on quasi-identifiers. Show how many records remain."
   ]
  },
  {
   "cell_type": "code",
   "execution_count": 14,
   "id": "eca96576",
   "metadata": {},
   "outputs": [],
   "source": [
    "group_sizes = toy_data.groupby(['Age', 'ZipCode_Generalized', 'Gender']).size()\n",
    "safe_indices = group_sizes[group_sizes >= 3].index\n",
    "safe_data = toy_data.set_index(['Age', 'ZipCode_Generalized', 'Gender']).loc[safe_indices].reset_index()\n",
    "len(safe_data)"
   ]
  }
 ],
 "metadata": {
  "kernelspec": {
   "display_name": "Python 3",
   "language": "python",
   "name": "python3"
  },
  "language_info": {
   "codemirror_mode": {
    "name": "ipython",
    "version": 3
   },
   "file_extension": ".py",
   "mimetype": "text/x-python",
   "name": "python",
   "version": "3.10"
  }
 },
 "nbformat": 4,
 "nbformat_minor": 5
}
