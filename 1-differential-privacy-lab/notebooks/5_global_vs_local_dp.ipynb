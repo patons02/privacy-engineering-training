{
 "cells": [
  {
   "cell_type": "markdown",
   "metadata": {},
   "source": [
    "# 📖 Global vs Local Differential Privacy"
   ]
  },
  {
   "cell_type": "markdown",
   "metadata": {},
   "source": [
    "**Global Differential Privacy (GDP)** assumes there is a trusted aggregator who collects raw data and applies noise centrally.\n",
    "\n",
    "**Local Differential Privacy (LDP)** applies noise directly on the user's device before sending data — no trust needed in aggregator."
   ]
  },
  {
   "cell_type": "markdown",
   "metadata": {},
   "source": [
    "### Pros and Cons\n",
    "- **Global DP:** Better utility, requires trust in server.\n",
    "- **Local DP:** Stronger user protection, but higher noise (worse utility)."
   ]
  },
  {
   "cell_type": "markdown",
   "metadata": {},
   "source": [
    "## Exercise 1: Classify Scenarios\n",
    "\n",
    "**Task:**\n",
    "\n",
    "Given a list of scenarios, classify whether **Global DP** or **Local DP** is more appropriate."
   ]
  },
  {
   "cell_type": "code",
   "metadata": {},
   "source": [
    "# TODO: Implement this function\n",
    "def classify_scenarios(scenarios: list) -> list:\n",
    "    \"\"\"\n",
    "    Input: list of scenario descriptions.\n",
    "    Output: list of 'Global' or 'Local' labels.\n",
    "    \"\"\"\n",
    "    raise NotImplementedError(\"Classify Global vs Local DP!\")"
   ],
   "execution_count": null,
   "outputs": []
  },
  {
   "cell_type": "code",
   "metadata": {},
   "source": [
    "# --- Auto-checker for Exercise 1 ---\n",
    "try:\n",
    "    test_scenarios = [\n",
    "        \"Census survey with trusted agency\",\n",
    "        \"Smartphone typing prediction telemetry\",\n",
    "        \"Medical research study with hospital data\",\n",
    "    ]\n",
    "    prediction = classify_scenarios(test_scenarios)\n",
    "    assert prediction == [\"Global\", \"Local\", \"Global\"]\n",
    "    print(\"✅ Exercise Passed! Scenario classification correct.\")\n",
    "except Exception as e:\n",
    "    print(\"❌ Test failed. Think carefully about trust assumptions!\")\n",
    "    raise"
   ],
   "execution_count": null,
   "outputs": []
  },
  {
   "cell_type": "markdown",
   "metadata": {},
   "source": [
    "---\n",
    "# 🧠 Key Takeaways\n",
    "- Global DP gives better accuracy but requires trusted server.\n",
    "- Local DP protects users even if server is compromised, but sacrifices accuracy.\n",
    "- Always consider threat model and data sensitivity!"
   ]
  }
 ],
 "metadata": {
  "kernelspec": {
   "display_name": "Python 3",
   "language": "python",
   "name": "python3"
  },
  "language_info": {
   "name": "python",
   "version": "3.10"
  }
 },
 "nbformat": 4,
 "nbformat_minor": 5
}
