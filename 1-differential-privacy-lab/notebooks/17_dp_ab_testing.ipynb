{
 "cells": [
  {
   "cell_type": "markdown",
   "metadata": {},
   "source": [
    "# 📚 Private A/B Testing\n",
    "\n",
    "Built by **Stu** 🚀"
   ]
  },
  {
   "cell_type": "markdown",
   "metadata": {},
   "source": [
    "## Section 1: Basics of A/B Testing + Privacy"
   ]
  },
  {
   "cell_type": "markdown",
   "metadata": {},
   "source": [
    "### Exercise 1: Define A/B Testing"
   ]
  },
  {
   "cell_type": "code",
   "execution_count": 1,
   "metadata": {},
   "outputs": [],
   "source": [
    "ab_testing_definition = \"Compare two versions (A and B) to evaluate which performs better statistically.\""
   ]
  },
  {
   "cell_type": "markdown",
   "metadata": {},
   "source": [
    "### Exercise 2: Sketch Privacy Risks in A/B Testing"
   ]
  },
  {
   "cell_type": "code",
   "execution_count": 2,
   "metadata": {},
   "outputs": [],
   "source": [
    "privacy_risks_sketch = \"Raw counts and conversion rates could leak individual behavior if datasets are small.\""
   ]
  },
  {
   "cell_type": "markdown",
   "metadata": {},
   "source": [
    "## Section 2: Simulate A/B Data"
   ]
  },
  {
   "cell_type": "markdown",
   "metadata": {},
   "source": [
    "### Exercise 3: Simulate Control and Treatment Group Outcomes"
   ]
  },
  {
   "cell_type": "code",
   "execution_count": 3,
   "metadata": {},
   "outputs": [],
   "source": [
    "np.random.seed(42)\n",
    "control = np.random.binomial(1, 0.4, size=500)\n",
    "treatment = np.random.binomial(1, 0.45, size=500)"
   ]
  },
  {
   "cell_type": "markdown",
   "metadata": {},
   "source": [
    "### Exercise 4: Compute True Conversion Rates"
   ]
  },
  {
   "cell_type": "code",
   "execution_count": 4,
   "metadata": {},
   "outputs": [],
   "source": [
    "control_rate = np.mean(control)\n",
    "treatment_rate = np.mean(treatment)\n",
    "control_rate, treatment_rate"
   ]
  },
  {
   "cell_type": "markdown",
   "metadata": {},
   "source": [
    "### Exercise 5: Add Laplace Noise to Rates"
   ]
  },
  {
   "cell_type": "code",
   "execution_count": 5,
   "metadata": {},
   "outputs": [],
   "source": [
    "def add_laplace_noise(value, sensitivity=1.0, epsilon=1.0):\n",
    "    scale = sensitivity / epsilon\n",
    "    return value + np.random.laplace(0, scale)\n",
    "\n",
    "noisy_control_rate = add_laplace_noise(control_rate, epsilon=1.0)\n",
    "noisy_treatment_rate = add_laplace_noise(treatment_rate, epsilon=1.0)\n",
    "noisy_control_rate, noisy_treatment_rate"
   ]
  },
  {
   "cell_type": "markdown",
   "metadata": {},
   "source": [
    "### Exercise 6: Conduct Noisy Z-Test"
   ]
  },
  {
   "cell_type": "code",
   "execution_count": 6,
   "metadata": {},
   "outputs": [],
   "source": [
    "import scipy.stats as stats\n",
    "\n",
    "p1 = noisy_control_rate\n",
    "p2 = noisy_treatment_rate\n",
    "n1 = len(control)\n",
    "n2 = len(treatment)\n",
    "\n",
    "pooled = (p1*n1 + p2*n2) / (n1 + n2)\n",
    "z = (p1 - p2) / np.sqrt(pooled*(1-pooled)*(1/n1 + 1/n2))\n",
    "p_value = 2*(1 - stats.norm.cdf(abs(z)))\n",
    "z, p_value"
   ]
  },
  {
   "cell_type": "markdown",
   "metadata": {},
   "source": [
    "### Exercise 7: Reflect on Noisy Hypothesis Testing"
   ]
  },
  {
   "cell_type": "code",
   "execution_count": 7,
   "metadata": {},
   "outputs": [],
   "source": [
    "hypothesis_testing_reflection = \"Noise increases p-values and reduces sensitivity to detect small true effects.\""
   ]
  },
  {
   "cell_type": "markdown",
   "metadata": {},
   "source": [
    "## Section 3: Advanced"
   ]
  },
  {
   "cell_type": "markdown",
   "metadata": {},
   "source": [
    "### Exercise 8: Plot p-value Distributions Under Different ε"
   ]
  },
  {
   "cell_type": "code",
   "execution_count": 8,
   "metadata": {},
   "outputs": [],
   "source": [
    "epsilons = [0.1, 0.5, 1.0, 2.0]\n",
    "pvals = []\n",
    "for eps in epsilons:\n",
    "    p1 = add_laplace_noise(control_rate, epsilon=eps)\n",
    "    p2 = add_laplace_noise(treatment_rate, epsilon=eps)\n",
    "    pooled = (p1*n1 + p2*n2) / (n1 + n2)\n",
    "    z = (p1 - p2) / np.sqrt(pooled*(1-pooled)*(1/n1 + 1/n2))\n",
    "    pval = 2*(1 - stats.norm.cdf(abs(z)))\n",
    "    pvals.append(pval)\n",
    "\n",
    "plt.plot(epsilons, pvals)\n",
    "plt.xlabel('ε')\n",
    "plt.ylabel('p-value')\n",
    "plt.title('Impact of ε on p-value')\n",
    "plt.show()"
   ]
  },
  {
   "cell_type": "markdown",
   "metadata": {},
   "source": [
    "### Exercise 9: Sketch Tradeoffs in DP A/B Testing"
   ]
  },
  {
   "cell_type": "code",
   "execution_count": 9,
   "metadata": {},
   "outputs": [],
   "source": [
    "tradeoffs_sketch = \"More privacy (lower ε) → noisier decisions; less privacy (higher ε) → better sensitivity but more risk.\""
   ]
  },
  {
   "cell_type": "markdown",
   "metadata": {},
   "source": [
    "### Exercise 10: Define Sensitivity for Rates"
   ]
  },
  {
   "cell_type": "code",
   "execution_count": 10,
   "metadata": {},
   "outputs": [],
   "source": [
    "rate_sensitivity = \"1/n for sample size n, assuming binary outcomes.\""
   ]
  },
  {
   "cell_type": "markdown",
   "metadata": {},
   "source": [
    "### Exercise 11: Reflect on Practical Settings"
   ]
  },
  {
   "cell_type": "code",
   "execution_count": 11,
   "metadata": {},
   "outputs": [],
   "source": [
    "practical_reflection = \"When sample sizes are small, DP may make detecting real effects very difficult; need larger n or smarter techniques.\""
   ]
  }
 ],
 "metadata": {
  "kernelspec": {
   "display_name": "Python 3",
   "language": "python3"
  },
  "language_info": {
   "name": "python",
   "version": "3.10",
   "mimetype": "text/x-python",
   "file_extension": ".py",
   "codemirror_mode": {
    "name": "ipython",
    "version": 3
   }
  }
 },
 "nbformat": 4,
 "nbformat_minor": 5
}