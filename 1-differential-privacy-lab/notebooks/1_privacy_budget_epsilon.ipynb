{
 "cells": [
  {
   "cell_type": "markdown",
   "id": "10741e0b",
   "metadata": {},
   "source": [
    "# 📖 Differential Privacy: Privacy Budget (ε)"
   ]
  },
  {
   "cell_type": "markdown",
   "id": "bf45a6e4",
   "metadata": {},
   "source": [
    "In Differential Privacy, the privacy budget ε (epsilon) controls how much privacy loss is allowed.\n",
    "\n",
    "- A **small ε** means **strong privacy** but **more noise** added.\n",
    "- A **large ε** means **weaker privacy** but **more accurate** results.\n",
    "\n",
    "In this notebook, you will:\n",
    "- Understand what ε measures.\n",
    "- Implement simple privacy loss calculations.\n",
    "- See how changing ε impacts the noise."
   ]
  },
  {
   "cell_type": "markdown",
   "id": "3793fd39",
   "metadata": {},
   "source": [
    "## Exercise 1: Compute Privacy Loss\n",
    "\n",
    "**Task:**\n",
    "\n",
    "Write a function `privacy_loss(p1, p2)` that calculates the privacy loss ε using the formula:\n",
    "\n",
    "$$\n",
    "\\epsilon = \\log\\left(\\frac{p1}{p2}\\right)\n",
    "$$\n",
    "\n",
    "**Where:**\n",
    "- `p1` is the probability of an output with a user's data.\n",
    "- `p2` is the probability of the same output without the user's data."
   ]
  },
  {
   "cell_type": "code",
   "execution_count": null,
   "id": "923ccb42",
   "metadata": {},
   "outputs": [],
   "source": [
    "import math\n",
    "\n",
    "# TODO: Implement the privacy loss calculation\n",
    "def privacy_loss(p1: float, p2: float) -> float:\n",
    "    # Your code here\n",
    "    raise NotImplementedError(\"Fill in this function!\")"
   ]
  },
  {
   "cell_type": "code",
   "execution_count": null,
   "id": "e770d10d",
   "metadata": {},
   "outputs": [],
   "source": [
    "# --- Auto-checker ---\n",
    "try:\n",
    "    assert abs(privacy_loss(0.6, 0.5) - 0.182) < 0.01\n",
    "    assert abs(privacy_loss(0.8, 0.5) - 0.47) < 0.01\n",
    "    print(\"✅ Exercise Passed! Great job.\")\n",
    "except Exception as e:\n",
    "    print(\"❌ Test failed. Double-check your formula for ε = log(p1 / p2).\")\n",
    "    raise"
   ]
  },
  {
   "cell_type": "markdown",
   "id": "8e89b866",
   "metadata": {},
   "source": [
    "---\n",
    "## Key Takeaway\n",
    "- When `p1` and `p2` are very close, ε is small → strong privacy.\n",
    "- When `p1` and `p2` are very different, ε is large → weaker privacy.\n",
    "\n",
    "This is the mathematical foundation for measuring privacy guarantees!"
   ]
  }
 ],
 "metadata": {
  "kernelspec": {
   "display_name": "Python 3",
   "language": "python",
   "name": "python3"
  },
  "language_info": {
   "name": "python",
   "version": "3.10"
  }
 },
 "nbformat": 4,
 "nbformat_minor": 5
}
