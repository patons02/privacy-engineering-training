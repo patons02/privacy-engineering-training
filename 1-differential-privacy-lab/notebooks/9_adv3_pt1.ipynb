{
 "cells": [
  {
   "cell_type": "markdown",
   "metadata": {},
   "source": [
    "# 📚 Ultra-Advanced Topics in Differential Privacy\n",
    "\n",
    "Built by **Stu** 🚀"
   ]
  },
  {
   "cell_type": "markdown",
   "metadata": {},
   "source": [
    "## Introduction\n",
    "\n",
    "Federated Learning, Graph Differential Privacy, and Dynamic Privacy Budgets."
   ]
  },
  {
   "cell_type": "markdown",
   "metadata": {},
   "source": [
    "## Section 1: Graph Data Differential Privacy"
   ]
  },
  {
   "cell_type": "markdown",
   "metadata": {},
   "source": [
    "### Exercise 1: Build a Small City Flight Graph"
   ]
  },
  {
   "cell_type": "code",
   "execution_count": 1,
   "metadata": {},
   "outputs": [],
   "source": [
    "import networkx as nx\n",
    "\n",
    "cities = ['New York', 'London', 'Paris', 'Tokyo', 'Dubai']\n",
    "edges = [('New York', 'London'), ('London', 'Paris'), ('Paris', 'Tokyo'), ('Tokyo', 'Dubai'), ('Dubai', 'New York')]\n",
    "\n",
    "G = nx.Graph()\n",
    "G.add_edges_from(edges)\n",
    "\n",
    "nx.draw(G, with_labels=True)"
   ]
  },
  {
   "cell_type": "markdown",
   "metadata": {},
   "source": [
    "### Exercise 2: Apply Laplace Noise to Edge Counts"
   ]
  },
  {
   "cell_type": "code",
   "execution_count": 2,
   "metadata": {},
   "outputs": [],
   "source": [
    "import numpy as np\n",
    "\n",
    "def add_laplace_noise(value, sensitivity, epsilon):\n",
    "    scale = sensitivity / epsilon\n",
    "    noise = np.random.laplace(0, scale)\n",
    "    return value + noise\n",
    "\n",
    "noisy_degrees = {node: add_laplace_noise(degree, 1, 1.0) for node, degree in G.degree()}\n",
    "noisy_degrees"
   ]
  },
  {
   "cell_type": "markdown",
   "metadata": {},
   "source": [
    "### Exercise 3: Plot Noisy Degree Distribution"
   ]
  },
  {
   "cell_type": "code",
   "execution_count": 3,
   "metadata": {},
   "outputs": [],
   "source": [
    "import matplotlib.pyplot as plt\n",
    "\n",
    "plt.bar(noisy_degrees.keys(), noisy_degrees.values())\n",
    "plt.ylabel('Noisy Degree')\n",
    "plt.title('Noisy Degree of Cities')\n",
    "plt.xticks(rotation=45)\n",
    "plt.show()"
   ]
  },
  {
   "cell_type": "markdown",
   "metadata": {},
   "source": [
    "### Exercise 4: Sketch Possible Graph Attack with Degree Data"
   ]
  },
  {
   "cell_type": "code",
   "execution_count": 4,
   "metadata": {},
   "outputs": [],
   "source": [
    "graph_attack_sketch = \"\""
   ]
  },
  {
   "cell_type": "markdown",
   "metadata": {},
   "source": [
    "### Exercise 5: Explain How Local DP Could Protect Graph Edges"
   ]
  },
  {
   "cell_type": "code",
   "execution_count": 5,
   "metadata": {},
   "outputs": [],
   "source": [
    "local_dp_on_graphs = \"\""
   ]
  },
  {
   "cell_type": "markdown",
   "metadata": {},
   "source": [
    "## Section 2: Federated Learning + Local DP"
   ]
  },
  {
   "cell_type": "markdown",
   "metadata": {},
   "source": [
    "### Exercise 6: Simulate 10 Federated Clients"
   ]
  },
  {
   "cell_type": "code",
   "execution_count": 6,
   "metadata": {},
   "outputs": [],
   "source": [
    "clients = 10\n",
    "local_updates = [np.random.randn(5) for _ in range(clients)]\n",
    "local_updates"
   ]
  },
  {
   "cell_type": "markdown",
   "metadata": {},
   "source": [
    "### Exercise 7: Add Gaussian Noise to Each Client's Update"
   ]
  },
  {
   "cell_type": "code",
   "execution_count": 7,
   "metadata": {},
   "outputs": [],
   "source": [
    "def add_gaussian_noise(vector, sigma):\n",
    "    noise = np.random.normal(0, sigma, size=vector.shape)\n",
    "    return vector + noise\n",
    "\n",
    "noisy_updates = [add_gaussian_noise(update, 0.5) for update in local_updates]\n",
    "noisy_updates"
   ]
  },
  {
   "cell_type": "markdown",
   "metadata": {},
   "source": [
    "### Exercise 8: Aggregate Noisy Client Updates"
   ]
  },
  {
   "cell_type": "code",
   "execution_count": 8,
   "metadata": {},
   "outputs": [],
   "source": [
    "aggregated_update = np.mean(noisy_updates, axis=0)\n",
    "aggregated_update"
   ]
  },
  {
   "cell_type": "markdown",
   "metadata": {},
   "source": [
    "### Exercise 9: Track Privacy Loss Per Round"
   ]
  },
  {
   "cell_type": "code",
   "execution_count": 9,
   "metadata": {},
   "outputs": [],
   "source": [
    "rounds = 10\n",
    "epsilon_per_round = 0.2\n",
    "total_epsilon = epsilon_per_round * rounds\n",
    "total_epsilon"
   ]
  },
  {
   "cell_type": "markdown",
   "metadata": {},
   "source": [
    "### Exercise 10: Explain Privacy Amplification by Sampling in FL"
   ]
  },
  {
   "cell_type": "code",
   "execution_count": 10,
   "metadata": {},
   "outputs": [],
   "source": [
    "fl_amplification_explanation = \"\""
   ]
  }
 ],
 "metadata": {
  "kernelspec": {
   "display_name": "Python 3",
   "language": "python3"
  },
  "language_info": {
   "name": "python",
   "version": "3.10",
   "mimetype": "text/x-python",
   "file_extension": ".py",
   "codemirror_mode": {
    "name": "ipython",
    "version": 3
   }
  }
 },
 "nbformat": 4,
 "nbformat_minor": 5
}