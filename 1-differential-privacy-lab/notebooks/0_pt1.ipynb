{
 "cells": [
  {
   "cell_type": "markdown",
   "metadata": {},
   "source": [
    "# 📚 Privacy Background — K-Anonymity, L-Diversity, T-Closeness\n",
    "\n",
    "Built by **Stu** 🚀\n",
    "\n",
    "_Context: E-commerce Travel Booking Platform_"
   ]
  },
  {
   "cell_type": "markdown",
   "metadata": {},
   "source": [
    "## Introduction to Classical Privacy Methods\n",
    "\n",
    "We study how anonymization methods evolved before Differential Privacy."
   ]
  },
  {
   "cell_type": "markdown",
   "metadata": {},
   "source": [
    "## Toy Travel Dataset (30 records)"
   ]
  },
  {
   "cell_type": "code",
   "execution_count": 1,
   "metadata": {},
   "outputs": [],
   "source": [
    "import pandas as pd\n",
    "toy_data = pd.DataFrame({\n",
    "    'Age': [25, 34, 29, 45, 52, 23, 31, 40, 29, 60, 48, 27, 35, 42, 37, 53, 46, 30, 24, 38, 41, 50, 28, 47, 36, 39, 44, 32, 26, 33],\n",
    "    'ZipCode': ['02138', '02139', '02138', '02139', '02140', '02141', '02140', '02141', '02138', '02139',\n",
    "                '02140', '02141', '02138', '02139', '02140', '02141', '02140', '02141', '02138', '02139',\n",
    "                '02140', '02141', '02138', '02139', '02140', '02141', '02140', '02141', '02138', '02139'],\n",
    "    'Gender': ['Female', 'Male', 'Female', 'Female', 'Male', 'Female', 'Female', 'Male', 'Female', 'Female',\n",
    "               'Male', 'Female', 'Male', 'Female', 'Female', 'Male', 'Female', 'Female', 'Male', 'Female',\n",
    "               'Female', 'Female', 'Male', 'Female', 'Female', 'Male', 'Female', 'Female', 'Male', 'Female'],\n",
    "    'DestinationCity': ['Paris', 'London', 'Paris', 'Tokyo', 'Boston', 'Rome', 'Paris', 'Rome', 'Boston', 'Tokyo',\n",
    "                         'London', 'Paris', 'Tokyo', 'Paris', 'Rome', 'Tokyo', 'London', 'Paris', 'Boston', 'Rome',\n",
    "                         'Paris', 'Tokyo', 'London', 'Rome', 'Paris', 'Tokyo', 'Boston', 'Rome', 'London', 'Tokyo'],\n",
    "    'TripPurpose': ['Leisure', 'Business', 'Leisure', 'Leisure', 'Business', 'Leisure', 'Business', 'Business',\n",
    "                    'Medical', 'Leisure', 'Education', 'Medical', 'Business', 'Leisure', 'Leisure', 'Education',\n",
    "                    'Business', 'Medical', 'Leisure', 'Business', 'Medical', 'Leisure', 'Education', 'Business',\n",
    "                    'Medical', 'Business', 'Leisure', 'Medical', 'Business', 'Education'],\n",
    "    'BookingPrice': [1200, 2500, 1800, 3400, 2200, 2900, 3100, 4000, 450, 3200,\n",
    "                     2700, 1300, 2600, 1800, 3000, 3400, 2200, 2500, 500, 3800,\n",
    "                     470, 3600, 2800, 4100, 490, 3000, 510, 4200, 2500, 3100],\n",
    "    'LoyaltyStatus': ['Gold', 'Silver', 'Gold', 'None', 'Silver', 'Gold', 'None', 'Gold', 'Silver', 'None',\n",
    "                      'Gold', 'None', 'Silver', 'Gold', 'Silver', 'None', 'Silver', 'None', 'Gold', 'Silver',\n",
    "                      'Gold', 'None', 'Silver', 'Gold', 'Silver', 'None', 'Silver', 'Gold', 'None']\n",
    "})\n",
    "toy_data.head()"
   ]
  },
  {
   "cell_type": "markdown",
   "metadata": {},
   "source": [
    "## Exercise 1: What is k-Anonymity?\n",
    "\n",
    "Define k-anonymity in your own words."
   ]
  },
  {
   "cell_type": "code",
   "execution_count": 2,
   "metadata": {},
   "outputs": [],
   "source": [
    "k_anonymity_definition = \"\""
   ]
  },
  {
   "cell_type": "markdown",
   "metadata": {},
   "source": [
    "## Exercise 2: Identify Quasi-Identifiers\n",
    "\n",
    "Which fields in the toy dataset are quasi-identifiers?"
   ]
  },
  {
   "cell_type": "code",
   "execution_count": 3,
   "metadata": {},
   "outputs": [],
   "source": [
    "quasi_identifiers = []  # e.g., Age, ZipCode, Gender"
   ]
  },
  {
   "cell_type": "markdown",
   "metadata": {},
   "source": [
    "## Exercise 3: k-Anonymity Violation\n",
    "\n",
    "Does the toy dataset satisfy 3-anonymity for the fields Age + ZipCode + Gender?"
   ]
  },
  {
   "cell_type": "code",
   "execution_count": 4,
   "metadata": {},
   "outputs": [],
   "source": [
    "def check_k_anonymity(df, fields, k):\n",
    "    groups = df.groupby(fields).size()\n",
    "    return (groups >= k).all()\n",
    "\n",
    "check_k_anonymity(toy_data, ['Age', 'ZipCode', 'Gender'], 3)"
   ]
  },
  {
   "cell_type": "markdown",
   "metadata": {},
   "source": [
    "## Exercise 4: Generalize ZipCode\n",
    "\n",
    "Generalize ZipCode to the first 3 digits only."
   ]
  },
  {
   "cell_type": "code",
   "execution_count": 5,
   "metadata": {},
   "outputs": [],
   "source": [
    "toy_data['ZipCode_Generalized'] = toy_data['ZipCode'].str[:3]\n",
    "toy_data.head()"
   ]
  }
 ],
 "metadata": {
  "kernelspec": {
   "display_name": "Python 3",
   "language": "python",
   "name": "python3"
  },
  "language_info": {
   "name": "python",
   "version": "3.10",
   "mimetype": "text/x-python",
   "file_extension": ".py",
   "codemirror_mode": {
    "name": "ipython",
    "version": 3
   }
  }
 },
 "nbformat": 4,
 "nbformat_minor": 5
}