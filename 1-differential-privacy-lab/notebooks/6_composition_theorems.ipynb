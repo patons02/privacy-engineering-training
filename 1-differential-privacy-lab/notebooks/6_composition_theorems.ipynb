{
 "cells": [
  {
   "cell_type": "markdown",
   "id": "944e36e0",
   "metadata": {},
   "source": [
    "# 📖 Differential Privacy: Composition Theorems"
   ]
  },
  {
   "cell_type": "markdown",
   "id": "d4c5a1ea",
   "metadata": {},
   "source": [
    "**Composition** in Differential Privacy explains how privacy loss adds up when multiple queries are run.\n",
    "\n",
    "- Each query consumes part of the privacy budget.\n",
    "- The total privacy loss is the sum of the ε values of each query.\n",
    "\n",
    "**Simple Rule:**\n",
    "\n",
    "$$\n",
    "\\text{Total } \\epsilon = \\sum \\epsilon_i\n",
    "$$"
   ]
  },
  {
   "cell_type": "markdown",
   "id": "2297ab73",
   "metadata": {},
   "source": [
    "### Why Composition Matters\n",
    "- DP guarantees degrade as you ask more questions.\n",
    "- Important to **track cumulative ε** in real systems."
   ]
  },
  {
   "cell_type": "markdown",
   "id": "ce02ff9d",
   "metadata": {},
   "source": [
    "## Exercise 1: Calculate Total Privacy Loss\n",
    "\n",
    "**Task:**\n",
    "\n",
    "Given a list of ε values, return the total privacy loss."
   ]
  },
  {
   "cell_type": "code",
   "execution_count": null,
   "id": "8732d26c",
   "metadata": {},
   "outputs": [],
   "source": [
    "# TODO: Implement this function\n",
    "def total_privacy_loss(epsilons: list) -> float:\n",
    "    \"\"\"\n",
    "    Input: list of epsilon values\n",
    "    Output: sum of epsilons\n",
    "    \"\"\"\n",
    "    raise NotImplementedError(\"Sum up epsilons!\")"
   ]
  },
  {
   "cell_type": "code",
   "execution_count": null,
   "id": "2e7624d8",
   "metadata": {},
   "outputs": [],
   "source": [
    "# --- Auto-checker for Exercise 1 ---\n",
    "try:\n",
    "    test_epsilons = [0.5, 0.8, 1.2]\n",
    "    total = total_privacy_loss(test_epsilons)\n",
    "    assert abs(total - 2.5) < 0.01\n",
    "    print(\"✅ Exercise Passed! Total privacy loss correct.\")\n",
    "except Exception as e:\n",
    "    print(\"❌ Test failed. Make sure you are summing all epsilons correctly!\")\n",
    "    raise"
   ]
  },
  {
   "cell_type": "markdown",
   "id": "64703688",
   "metadata": {},
   "source": [
    "---\n",
    "# 🧠 Key Takeaways\n",
    "- Always account for privacy budget across all queries.\n",
    "- Releasing many statistics degrades privacy even if each query individually is private."
   ]
  }
 ],
 "metadata": {
  "kernelspec": {
   "display_name": "Python 3",
   "language": "python",
   "name": "python3"
  },
  "language_info": {
   "name": "python",
   "version": "3.10"
  }
 },
 "nbformat": 4,
 "nbformat_minor": 5
}
