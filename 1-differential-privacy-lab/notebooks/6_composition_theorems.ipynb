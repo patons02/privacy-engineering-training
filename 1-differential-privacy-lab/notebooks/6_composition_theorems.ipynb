{
 "cells": [
  {
   "cell_type": "markdown",
   "id": "4acee72a",
   "metadata": {},
   "source": [
    "# 📚 Differential Privacy — Composition Theorems\n",
    "\n",
    "Built by **Stu** 🚀"
   ]
  },
  {
   "cell_type": "markdown",
   "id": "727f2f7f",
   "metadata": {},
   "source": [
    "## Introduction to Composition\n",
    "\n",
    "Understanding how privacy degrades when we run multiple differentially private algorithms."
   ]
  },
  {
   "cell_type": "markdown",
   "id": "ffee20dc",
   "metadata": {},
   "source": [
    "### Exercise 1: What is Privacy Composition?\n",
    "\n",
    "Explain the basic idea of composition in Differential Privacy."
   ]
  },
  {
   "cell_type": "code",
   "execution_count": 1,
   "id": "caea62bb",
   "metadata": {},
   "outputs": [],
   "source": [
    "composition_definition = \"\""
   ]
  },
  {
   "cell_type": "markdown",
   "id": "ec41ad07",
   "metadata": {},
   "source": [
    "### Exercise 2: Simple Composition Scenario\n",
    "\n",
    "Suppose you run two ε=1 differentially private queries. What is the total privacy loss?"
   ]
  },
  {
   "cell_type": "code",
   "execution_count": 2,
   "id": "6139c34b",
   "metadata": {},
   "outputs": [],
   "source": [
    "total_privacy_loss_simple = 2"
   ]
  },
  {
   "cell_type": "markdown",
   "id": "8fcb369e",
   "metadata": {},
   "source": [
    "## Basic Composition Theorem\n"
   ]
  },
  {
   "cell_type": "markdown",
   "id": "fa5ee96e",
   "metadata": {},
   "source": [
    "### Exercise 3: Basic Composition Math\n",
    "\n",
    "State the basic composition theorem formally."
   ]
  },
  {
   "cell_type": "code",
   "execution_count": 3,
   "id": "b7daf4ed",
   "metadata": {},
   "outputs": [],
   "source": [
    "basic_composition_formula = \"The sum of the ε of all mechanisms.\""
   ]
  },
  {
   "cell_type": "markdown",
   "id": "17d2c1fc",
   "metadata": {},
   "source": [
    "### Exercise 4: Cumulative ε for 5 Queries\n",
    "\n",
    "If each query uses ε=0.5, what is the total after 5 queries?"
   ]
  },
  {
   "cell_type": "code",
   "execution_count": 4,
   "id": "3d77bd3b",
   "metadata": {},
   "outputs": [],
   "source": [
    "cumulative_privacy_loss = 0.5 * 5"
   ]
  },
  {
   "cell_type": "markdown",
   "id": "c29bb282",
   "metadata": {},
   "source": [
    "### Exercise 5: Write a Privacy Tracker\n",
    "\n",
    "Code a function that tracks total ε after each query."
   ]
  },
  {
   "cell_type": "code",
   "execution_count": 5,
   "id": "c9204670",
   "metadata": {},
   "outputs": [],
   "source": [
    "def track_privacy(epsilon, queries):\n",
    "    return epsilon * queries"
   ]
  },
  {
   "cell_type": "markdown",
   "id": "31eff917",
   "metadata": {},
   "source": [
    "### Exercise 6: Plot Privacy Loss vs Queries\n",
    "\n",
    "Plot how total ε grows as you run more queries."
   ]
  },
  {
   "cell_type": "code",
   "execution_count": 6,
   "id": "ab035619",
   "metadata": {},
   "outputs": [],
   "source": [
    "import matplotlib.pyplot as plt\n",
    "queries = list(range(0, 101))\n",
    "total_epsilon = [track_privacy(0.1, q) for q in queries]\n",
    "plt.plot(queries, total_epsilon)\n",
    "plt.xlabel('Number of Queries')\n",
    "plt.ylabel('Total Privacy Loss (ε)')\n",
    "plt.title('Privacy Loss Over Queries')\n",
    "plt.show()"
   ]
  },
  {
   "cell_type": "markdown",
   "id": "86d96015",
   "metadata": {},
   "source": [
    "### Exercise 7: Privacy Budget Exhaustion\n",
    "\n",
    "Suppose your budget is ε=5. How many ε=0.5 queries can you run before exhausting the budget?"
   ]
  },
  {
   "cell_type": "code",
   "execution_count": 7,
   "id": "3f376760",
   "metadata": {},
   "outputs": [],
   "source": [
    "budget = 5\n",
    "epsilon_per_query = 0.5\n",
    "max_queries = budget / epsilon_per_query\n",
    "max_queries"
   ]
  },
  {
   "cell_type": "markdown",
   "id": "175454f5",
   "metadata": {},
   "source": [
    "## Advanced Composition\n",
    "\n",
    "Tighter bounds for privacy loss when many queries are run."
   ]
  },
  {
   "cell_type": "markdown",
   "id": "a8071b03",
   "metadata": {},
   "source": [
    "### Exercise 8: Advanced Composition Idea\n",
    "\n",
    "Summarize the intuition behind Advanced Composition Theorem."
   ]
  },
  {
   "cell_type": "code",
   "execution_count": 8,
   "id": "e0ffda48",
   "metadata": {},
   "outputs": [],
   "source": [
    "advanced_composition_idea = \"\""
   ]
  },
  {
   "cell_type": "markdown",
   "id": "f9f39ea9",
   "metadata": {},
   "source": [
    "### Exercise 9: Formula for Advanced Composition\n",
    "\n",
    "Write the formula (with δ) for advanced privacy loss over k queries."
   ]
  },
  {
   "cell_type": "code",
   "execution_count": 9,
   "id": "89f4b658",
   "metadata": {},
   "outputs": [],
   "source": [
    "advanced_composition_formula = \"√(2k log(1/δ)) ε + kε(e^ε - 1)\""
   ]
  },
  {
   "cell_type": "markdown",
   "id": "428cb8aa",
   "metadata": {},
   "source": [
    "### Exercise 10: Compare Basic vs Advanced\n",
    "\n",
    "Suppose ε=0.5, k=50. Compare total ε using basic and advanced."
   ]
  },
  {
   "cell_type": "code",
   "execution_count": 10,
   "id": "f21cbab5",
   "metadata": {},
   "outputs": [],
   "source": [
    "import numpy as np\n",
    "epsilon = 0.5\n",
    "k = 50\n",
    "delta = 1e-5\n",
    "basic_total = epsilon * k\n",
    "advanced_total = np.sqrt(2 * k * np.log(1/delta)) * epsilon + k * epsilon * (np.exp(epsilon) - 1)\n",
    "basic_total, advanced_total"
   ]
  },
  {
   "cell_type": "markdown",
   "id": "585693cd",
   "metadata": {},
   "source": [
    "### Exercise 11: Plot Basic vs Advanced\n",
    "\n",
    "Plot basic and advanced ε total for 1–100 queries."
   ]
  },
  {
   "cell_type": "code",
   "execution_count": 11,
   "id": "934ea1e4",
   "metadata": {},
   "outputs": [],
   "source": [
    "queries = np.arange(1, 101)\n",
    "basic_totals = epsilon * queries\n",
    "advanced_totals = np.sqrt(2 * queries * np.log(1/delta)) * epsilon + queries * epsilon * (np.exp(epsilon) - 1)\n",
    "\n",
    "plt.plot(queries, basic_totals, label='Basic')\n",
    "plt.plot(queries, advanced_totals, label='Advanced')\n",
    "plt.xlabel('Number of Queries')\n",
    "plt.ylabel('Total Privacy Loss (ε)')\n",
    "plt.title('Basic vs Advanced Composition')\n",
    "plt.legend()\n",
    "plt.show()"
   ]
  },
  {
   "cell_type": "markdown",
   "id": "19d75ac8",
   "metadata": {},
   "source": [
    "## Group Privacy\n"
   ]
  },
  {
   "cell_type": "markdown",
   "id": "ce31994b",
   "metadata": {},
   "source": [
    "### Exercise 12: What is Group Privacy?\n",
    "\n",
    "Explain group privacy in simple terms."
   ]
  },
  {
   "cell_type": "code",
   "execution_count": 12,
   "id": "d497db5d",
   "metadata": {},
   "outputs": [],
   "source": [
    "group_privacy_definition = \"\""
   ]
  },
  {
   "cell_type": "markdown",
   "id": "56811e8f",
   "metadata": {},
   "source": [
    "### Exercise 13: Group ε Calculation\n",
    "\n",
    "If one user has ε=1, what is ε for a group of 5 users?"
   ]
  },
  {
   "cell_type": "code",
   "execution_count": 13,
   "id": "fe84cbd1",
   "metadata": {},
   "outputs": [],
   "source": [
    "group_epsilon = 1 * 5"
   ]
  },
  {
   "cell_type": "markdown",
   "id": "529b028f",
   "metadata": {},
   "source": [
    "### Exercise 14: Simulate Group Budget\n",
    "\n",
    "Simulate privacy loss for groups over 100 queries."
   ]
  },
  {
   "cell_type": "code",
   "execution_count": 14,
   "id": "c60b87d3",
   "metadata": {},
   "outputs": [],
   "source": [
    "group_size = 5\n",
    "queries = np.arange(1, 101)\n",
    "group_totals = group_size * epsilon * queries\n",
    "\n",
    "plt.plot(queries, group_totals)\n",
    "plt.xlabel('Number of Queries')\n",
    "plt.ylabel('Total Privacy Loss (Group)')\n",
    "plt.title('Group Privacy Loss Over Queries')\n",
    "plt.show()"
   ]
  },
  {
   "cell_type": "markdown",
   "id": "2651d3ce",
   "metadata": {},
   "source": [
    "### Exercise 15: Optimize for Group Privacy\n",
    "\n",
    "Suggest a strategy to preserve group privacy while allowing queries."
   ]
  },
  {
   "cell_type": "code",
   "execution_count": 15,
   "id": "01c9b8b2",
   "metadata": {},
   "outputs": [],
   "source": [
    "group_privacy_strategy = \"\""
   ]
  },
  {
   "cell_type": "markdown",
   "id": "0c0813e4",
   "metadata": {},
   "source": [
    "### Exercise 16: Final Reflection\n",
    "\n",
    "Why is composition critical when designing real DP systems?"
   ]
  },
  {
   "cell_type": "code",
   "execution_count": 16,
   "id": "a7bc6493",
   "metadata": {},
   "outputs": [],
   "source": [
    "composition_importance = \"\""
   ]
  }
 ],
 "metadata": {
  "kernelspec": {
   "display_name": "Python 3",
   "language": "python",
   "name": "python3"
  },
  "language_info": {
   "codemirror_mode": {
    "name": "ipython",
    "version": 3
   },
   "file_extension": ".py",
   "mimetype": "text/x-python",
   "name": "python",
   "version": "3.10"
  }
 },
 "nbformat": 4,
 "nbformat_minor": 5
}
