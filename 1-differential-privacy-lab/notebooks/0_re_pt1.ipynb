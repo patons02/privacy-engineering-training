{
 "cells": [
  {
   "cell_type": "markdown",
   "metadata": {},
   "source": [
    "# 📚 Realistic Travel Dataset — K-Anonymity, L-Diversity, T-Closeness\n",
    "\n",
    "Built by **Stu** 🚀\n",
    "\n",
    "_Context: Travel E-commerce Booking Platform — Privacy Risks_"
   ]
  },
  {
   "cell_type": "markdown",
   "metadata": {},
   "source": [
    "## Introduction\n",
    "\n",
    "Working with a realistic 400-customer travel booking dataset."
   ]
  },
  {
   "cell_type": "markdown",
   "metadata": {},
   "source": [
    "## Load Dataset"
   ]
  },
  {
   "cell_type": "code",
   "execution_count": 1,
   "metadata": {},
   "outputs": [],
   "source": [
    "import pandas as pd\n",
    "import numpy as np\n",
    "import matplotlib.pyplot as plt\n",
    "\n",
    "# Simulated load (already prebuilt)\n",
    "np.random.seed(42)\n",
    "ages = np.random.randint(18, 75, size=400)\n",
    "zipcodes = np.random.choice(['02138', '02139', '94016', '10001', '60614', '94102'], size=400)\n",
    "genders = np.random.choice(['Male', 'Female', 'Nonbinary'], size=400)\n",
    "cities = np.random.choice(['Paris', 'London', 'Tokyo', 'New York', 'Rome', 'Sydney', 'Dubai'], size=400)\n",
    "purposes = np.random.choice(['Leisure', 'Business', 'Medical', 'Education'], size=400)\n",
    "prices = np.random.choice([200, 500, 1000, 1500, 2500, 3500, 4500], size=400)\n",
    "loyalty = np.random.choice(['Gold', 'Silver', 'Platinum', 'None'], size=400)\n",
    "\n",
    "df = pd.DataFrame({\n",
    "    'Age': ages,\n",
    "    'ZipCode': zipcodes,\n",
    "    'Gender': genders,\n",
    "    'DestinationCity': cities,\n",
    "    'TripPurpose': purposes,\n",
    "    'BookingPrice': prices,\n",
    "    'LoyaltyStatus': loyalty\n",
    "})\n",
    "\n",
    "# Risk Score calculation\n",
    "df['ZipPrefix'] = df['ZipCode'].str[:3]\n",
    "risk_freq = df.groupby(['Age', 'ZipPrefix', 'DestinationCity']).size()\n",
    "df['PrivacyRiskScore'] = df.apply(lambda row: 1 / (risk_freq.get((row['Age'], row['ZipPrefix'], row['DestinationCity']), 1)), axis=1)\n",
    "df['PrivacyRiskScore'] = (df['PrivacyRiskScore'] - df['PrivacyRiskScore'].min()) / (df['PrivacyRiskScore'].max() - df['PrivacyRiskScore'].min())\n",
    "\n",
    "df.head()"
   ]
  },
  {
   "cell_type": "markdown",
   "metadata": {},
   "source": [
    "## Exercise 1: Describe Dataset Fields\n",
    "\n",
    "Summarize the meaning of each column."
   ]
  },
  {
   "cell_type": "code",
   "execution_count": 2,
   "metadata": {},
   "outputs": [],
   "source": [
    "field_descriptions = \"\""
   ]
  },
  {
   "cell_type": "markdown",
   "metadata": {},
   "source": [
    "## Exercise 2: Identify Quasi-Identifiers\n",
    "\n",
    "Which fields are quasi-identifiers?"
   ]
  },
  {
   "cell_type": "code",
   "execution_count": 3,
   "metadata": {},
   "outputs": [],
   "source": [
    "quasi_identifiers = []  # e.g., Age, ZipPrefix, Gender"
   ]
  },
  {
   "cell_type": "markdown",
   "metadata": {},
   "source": [
    "## Exercise 3: Basic k-Anonymity Check\n",
    "\n",
    "Does the dataset satisfy 5-anonymity on Age + ZipPrefix?"
   ]
  },
  {
   "cell_type": "code",
   "execution_count": 4,
   "metadata": {},
   "outputs": [],
   "source": [
    "def check_k_anonymity(df, fields, k):\n",
    "    groups = df.groupby(fields).size()\n",
    "    return (groups >= k).all()\n",
    "\n",
    "check_k_anonymity(df, ['Age', 'ZipPrefix'], 5)"
   ]
  },
  {
   "cell_type": "markdown",
   "metadata": {},
   "source": [
    "## Exercise 4: Generalize Age into Buckets\n",
    "\n",
    "Bucket Age into 18–29, 30–39, etc."
   ]
  },
  {
   "cell_type": "code",
   "execution_count": 5,
   "metadata": {},
   "outputs": [],
   "source": [
    "bins = [18, 29, 39, 49, 59, 69, 79]\n",
    "labels = ['18-29', '30-39', '40-49', '50-59', '60-69', '70-79']\n",
    "df['AgeBucket'] = pd.cut(df['Age'], bins=bins, labels=labels, right=True)\n",
    "df.head()"
   ]
  }
 ],
 "metadata": {
  "kernelspec": {
   "display_name": "Python 3",
   "language": "python3",
   "name": "python3"
  },
  "language_info": {
   "name": "python",
   "version": "3.10",
   "mimetype": "text/x-python",
   "file_extension": ".py",
   "codemirror_mode": {
    "name": "ipython",
    "version": 3
   }
  }
 },
 "nbformat": 4,
 "nbformat_minor": 5
}