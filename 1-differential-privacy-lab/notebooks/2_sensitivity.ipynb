{
 "cells": [
  {
   "cell_type": "markdown",
   "metadata": {},
   "source": [
    "# 📖 Differential Privacy: Sensitivity"
   ]
  },
  {
   "cell_type": "markdown",
   "metadata": {},
   "source": [
    "In Differential Privacy, **sensitivity** measures how much a function's output can change when a single individual's data is added or removed.\n",
    "\n",
    "It determines the amount of noise we need to add to preserve privacy."
   ]
  },
  {
   "cell_type": "markdown",
   "metadata": {},
   "source": [
    "## Definition: Global Sensitivity\n",
    "\n",
    "For a function $f$, the global sensitivity is:\n",
    "\n",
    "$$\n",
    "\\Delta f = \\max_{D, D'} \\| f(D) - f(D') \\|\n",
    "$$\n",
    "\n",
    "Where:\n",
    "- $D$ and $D'$ are neighboring datasets (differ by 1 individual).\n",
    "- The maximum is over all such neighboring pairs."
   ]
  },
  {
   "cell_type": "markdown",
   "metadata": {},
   "source": [
    "## Exercise 1: Compute Global Sensitivity for Counting Queries\n",
    "\n",
    "**Task:**\n",
    "\n",
    "Write a function `counting_query_sensitivity()` that returns the global sensitivity of a counting query."
   ]
  },
  {
   "cell_type": "code",
   "metadata": {},
   "source": [
    "# In a counting query, adding or removing one record can change the count by how much?\n",
    "\n",
    "def counting_query_sensitivity() -> int:\n",
    "    # Your answer here\n",
    "    raise NotImplementedError(\"Fill in this function!\")"
   ],
   "execution_count": null,
   "outputs": []
  },
  {
   "cell_type": "code",
   "metadata": {},
   "source": [
    "# --- Auto-checker ---\n",
    "try:\n",
    "    assert counting_query_sensitivity() == 1\n",
    "    print(\"✅ Exercise Passed! Counting query sensitivity is 1.\")\n",
    "except Exception as e:\n",
    "    print(\"❌ Test failed. Remember: adding or removing one record affects count by exactly 1.\")\n",
    "    raise"
   ],
   "execution_count": null,
   "outputs": []
  },
  {
   "cell_type": "markdown",
   "metadata": {},
   "source": [
    "---\n",
    "## Key Takeaway\n",
    "- For simple counting queries, the global sensitivity is **1**.\n",
    "- This simple fact is crucial when calibrating noise using Laplace or Gaussian mechanisms."
   ]
  }
 ],
 "metadata": {
  "kernelspec": {
   "display_name": "Python 3",
   "language": "python",
   "name": "python3"
  },
  "language_info": {
   "name": "python",
   "version": "3.10"
  }
 },
 "nbformat": 4,
 "nbformat_minor": 5
}

