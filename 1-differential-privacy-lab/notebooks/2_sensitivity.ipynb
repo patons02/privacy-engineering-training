{
 "cells": [
  {
   "cell_type": "markdown",
   "id": "c691f990",
   "metadata": {},
   "source": [
    "# 📚 Differential Privacy — Sensitivity and Stability\n",
    "\n",
    "Built by **Stu** 🚀"
   ]
  },
  {
   "cell_type": "markdown",
   "id": "b2c97c68",
   "metadata": {},
   "source": [
    "## Introduction to Sensitivity\n",
    "\n",
    "Understanding the impact of a single individual's data."
   ]
  },
  {
   "cell_type": "markdown",
   "id": "9a21a376",
   "metadata": {},
   "source": [
    "### Exercise 1: Define Global Sensitivity\n",
    "\n",
    "Explain the idea of *global sensitivity* in a few sentences."
   ]
  },
  {
   "cell_type": "code",
   "execution_count": null,
   "id": "cb0e97b1",
   "metadata": {},
   "outputs": [],
   "source": [
    "global_sensitivity_definition = \"\""
   ]
  },
  {
   "cell_type": "markdown",
   "id": "bb7d19f6",
   "metadata": {},
   "source": [
    "### Exercise 2: Sensitivity of Sum Query\n",
    "\n",
    "What is the global sensitivity of a sum query over binary data (0/1 values)?"
   ]
  },
  {
   "cell_type": "code",
   "execution_count": null,
   "id": "ea127074",
   "metadata": {},
   "outputs": [],
   "source": [
    "sensitivity_sum = None"
   ]
  },
  {
   "cell_type": "markdown",
   "id": "13ff9b02",
   "metadata": {},
   "source": [
    "### Exercise 3: Sensitivity of Maximum Query\n",
    "\n",
    "Suppose the maximum value from a list of integers is queried.\n",
    "What is the global sensitivity?"
   ]
  },
  {
   "cell_type": "code",
   "execution_count": null,
   "id": "cd7f5956",
   "metadata": {},
   "outputs": [],
   "source": [
    "sensitivity_max = None"
   ]
  },
  {
   "cell_type": "markdown",
   "id": "72a33167",
   "metadata": {},
   "source": [
    "## Practical Sensitivity Calculations\n",
    "### Exercise 4: Sum Query on Counts\n",
    "\n",
    "Imagine a dataset of counts: [5, 7, 9].\n",
    "What is the sensitivity if you query the sum?"
   ]
  },
  {
   "cell_type": "code",
   "execution_count": null,
   "id": "e5b71dcf",
   "metadata": {},
   "outputs": [],
   "source": [
    "sum_counts = [5, 7, 9]\n",
    "sensitivity_counts_sum = None"
   ]
  },
  {
   "cell_type": "markdown",
   "id": "e527e6cb",
   "metadata": {},
   "source": [
    "### Exercise 5: Sensitivity of Average\n",
    "\n",
    "Suppose you compute the average of salaries from a database.\n",
    "What factors influence the sensitivity?"
   ]
  },
  {
   "cell_type": "code",
   "execution_count": null,
   "id": "4689a074",
   "metadata": {},
   "outputs": [],
   "source": [
    "average_sensitivity_factors = \"\""
   ]
  },
  {
   "cell_type": "markdown",
   "id": "d349a217",
   "metadata": {},
   "source": [
    "### Exercise 6: Minimum Sensitivity\n",
    "\n",
    "What is the global sensitivity of a query that returns the minimum value?"
   ]
  },
  {
   "cell_type": "code",
   "execution_count": null,
   "id": "fe8c132e",
   "metadata": {},
   "outputs": [],
   "source": [
    "sensitivity_min = None"
   ]
  },
  {
   "cell_type": "markdown",
   "id": "2df82aab",
   "metadata": {},
   "source": [
    "### Exercise 7: Histogram Sensitivity\n",
    "\n",
    "Each user selects a favorite color.\n",
    "What is the global sensitivity of a histogram over color choices?"
   ]
  },
  {
   "cell_type": "code",
   "execution_count": null,
   "id": "e31f24a9",
   "metadata": {},
   "outputs": [],
   "source": [
    "histogram_sensitivity = None"
   ]
  },
  {
   "cell_type": "markdown",
   "id": "0b2dddd8",
   "metadata": {},
   "source": [
    "### Exercise 8: Histograms with Rare Items\n",
    "\n",
    "If many histogram bins are almost empty, does that change sensitivity?"
   ]
  },
  {
   "cell_type": "code",
   "execution_count": null,
   "id": "57c09113",
   "metadata": {},
   "outputs": [],
   "source": [
    "histogram_sparse_effect = \"\""
   ]
  },
  {
   "cell_type": "markdown",
   "id": "9168e421",
   "metadata": {},
   "source": [
    "## Local vs Global Sensitivity\n",
    "\n",
    "Understanding the stability at a specific database instance."
   ]
  },
  {
   "cell_type": "markdown",
   "id": "2acb328a",
   "metadata": {},
   "source": [
    "### Exercise 9: Define Local Sensitivity\n",
    "\n",
    "Explain in your own words what *local sensitivity* is."
   ]
  },
  {
   "cell_type": "code",
   "execution_count": null,
   "id": "b0f86869",
   "metadata": {},
   "outputs": [],
   "source": [
    "local_sensitivity_definition = \"\""
   ]
  },
  {
   "cell_type": "markdown",
   "id": "f0901d71",
   "metadata": {},
   "source": [
    "### Exercise 10: Comparing Local vs Global Sensitivity\n",
    "\n",
    "Give an example where local sensitivity is much lower than global sensitivity."
   ]
  },
  {
   "cell_type": "code",
   "execution_count": null,
   "id": "51195b9f",
   "metadata": {},
   "outputs": [],
   "source": [
    "local_vs_global_example = \"\""
   ]
  },
  {
   "cell_type": "markdown",
   "id": "b4d35cf0",
   "metadata": {},
   "source": [
    "### Exercise 11: Local Sensitivity Calculation\n",
    "\n",
    "Given dataset D = [1,1,1,1], what is the local sensitivity for a sum query?"
   ]
  },
  {
   "cell_type": "code",
   "execution_count": null,
   "id": "f4231df3",
   "metadata": {},
   "outputs": [],
   "source": [
    "local_sensitivity_sum = None"
   ]
  },
  {
   "cell_type": "markdown",
   "id": "da555f64",
   "metadata": {},
   "source": [
    "### Exercise 12: Neighboring Impact\n",
    "\n",
    "What happens to local sensitivity if a very large outlier is added to the dataset?"
   ]
  },
  {
   "cell_type": "code",
   "execution_count": null,
   "id": "ec73ac2a",
   "metadata": {},
   "outputs": [],
   "source": [
    "local_sensitivity_outlier_effect = \"\""
   ]
  },
  {
   "cell_type": "markdown",
   "id": "3e8e0a1a",
   "metadata": {},
   "source": [
    "## Sensitivity's Impact on Noise\n",
    "\n",
    "Higher sensitivity means more noise is needed for privacy."
   ]
  },
  {
   "cell_type": "markdown",
   "id": "fae44df8",
   "metadata": {},
   "source": [
    "### Exercise 13: Laplace Noise Scaling\n",
    "\n",
    "Write the formula that connects sensitivity, epsilon, and Laplace noise scale."
   ]
  },
  {
   "cell_type": "code",
   "execution_count": null,
   "id": "0953a614",
   "metadata": {},
   "outputs": [],
   "source": [
    "laplace_scale_formula = \"\""
   ]
  },
  {
   "cell_type": "markdown",
   "id": "aff0fc01",
   "metadata": {},
   "source": [
    "### Exercise 14: Compute Laplace Scale\n",
    "\n",
    "If sensitivity = 3 and ε = 1.5, what is the noise scale for the Laplace mechanism?"
   ]
  },
  {
   "cell_type": "code",
   "execution_count": null,
   "id": "5aef279e",
   "metadata": {},
   "outputs": [],
   "source": [
    "laplace_scale = None"
   ]
  },
  {
   "cell_type": "markdown",
   "id": "493697e8",
   "metadata": {},
   "source": [
    "### Exercise 15: Noise Increase with Sensitivity\n",
    "\n",
    "If sensitivity doubles, what happens to Laplace noise scale?"
   ]
  },
  {
   "cell_type": "code",
   "execution_count": null,
   "id": "dbe78f30",
   "metadata": {},
   "outputs": [],
   "source": [
    "noise_change_comment = \"\""
   ]
  },
  {
   "cell_type": "markdown",
   "id": "22cc686b",
   "metadata": {},
   "source": [
    "## Designing Queries for Low Sensitivity\n",
    "\n",
    "Be smart in query design!"
   ]
  },
  {
   "cell_type": "markdown",
   "id": "86d9d189",
   "metadata": {},
   "source": [
    "### Exercise 16: Bounded Value Queries\n",
    "\n",
    "Suppose salaries are in range [0, 100k]. How can we bound sensitivity better?"
   ]
  },
  {
   "cell_type": "code",
   "execution_count": null,
   "id": "c6110298",
   "metadata": {},
   "outputs": [],
   "source": [
    "bounded_query_strategy = \"\""
   ]
  },
  {
   "cell_type": "markdown",
   "id": "6dff83a2",
   "metadata": {},
   "source": [
    "### Exercise 17: Grouping to Lower Sensitivity\n",
    "\n",
    "How could grouping users (e.g., into age bins) reduce sensitivity?"
   ]
  },
  {
   "cell_type": "code",
   "execution_count": null,
   "id": "756cc671",
   "metadata": {},
   "outputs": [],
   "source": [
    "grouping_strategy = \"\""
   ]
  },
  {
   "cell_type": "markdown",
   "id": "a42a1865",
   "metadata": {},
   "source": [
    "### Exercise 18: Pruning Rare Values\n",
    "\n",
    "If very rare outliers exist, what should you do before applying DP?"
   ]
  },
  {
   "cell_type": "code",
   "execution_count": null,
   "id": "48d58fb4",
   "metadata": {},
   "outputs": [],
   "source": [
    "pruning_strategy = \"\""
   ]
  },
  {
   "cell_type": "markdown",
   "id": "f7f8aa6d",
   "metadata": {},
   "source": [
    "## Bonus Challenges\n",
    "\n",
    "Stretch your understanding!"
   ]
  },
  {
   "cell_type": "markdown",
   "id": "87da4da3",
   "metadata": {},
   "source": [
    "### Exercise 19: Dynamic Sensitivity Estimation\n",
    "\n",
    "Idea: calculate sensitivity adaptively based on the dataset.\n",
    "Propose one idea how to do this."
   ]
  },
  {
   "cell_type": "code",
   "execution_count": null,
   "id": "e7a91df0",
   "metadata": {},
   "outputs": [],
   "source": [
    "dynamic_sensitivity_idea = \"\""
   ]
  },
  {
   "cell_type": "markdown",
   "id": "9af7b6ce",
   "metadata": {},
   "source": [
    "### Exercise 20: Multiple Queries Planning\n",
    "\n",
    "Suppose you plan 5 queries. How should you plan sensitivity to minimize total noise?"
   ]
  },
  {
   "cell_type": "code",
   "execution_count": null,
   "id": "cf735683",
   "metadata": {},
   "outputs": [],
   "source": [
    "multi_query_sensitivity_plan = \"\""
   ]
  },
  {
   "cell_type": "markdown",
   "id": "d4bc3092",
   "metadata": {},
   "source": [
    "### Exercise 21: Sensitivity in Practice\n",
    "\n",
    "Name one real-world problem where sensitivity was a major challenge."
   ]
  },
  {
   "cell_type": "code",
   "execution_count": null,
   "id": "949eb7dd",
   "metadata": {},
   "outputs": [],
   "source": [
    "real_world_sensitivity_challenge = \"\""
   ]
  },
  {
   "cell_type": "markdown",
   "id": "5f71ca8d",
   "metadata": {},
   "source": [
    "### Exercise 22: Local vs Global Sensitivity Example\n",
    "\n",
    "Provide a practical scenario where local sensitivity is significantly lower than global."
   ]
  },
  {
   "cell_type": "code",
   "execution_count": null,
   "id": "a1da65b6",
   "metadata": {},
   "outputs": [],
   "source": [
    "local_vs_global_real_example = \"\""
   ]
  },
  {
   "cell_type": "markdown",
   "id": "dab9619a",
   "metadata": {},
   "source": [
    "### Exercise 23: Final Reflection\n",
    "\n",
    "Why is understanding sensitivity critical before applying any Differential Privacy mechanism?"
   ]
  },
  {
   "cell_type": "code",
   "execution_count": null,
   "id": "3153c58f",
   "metadata": {},
   "outputs": [],
   "source": [
    "sensitivity_final_thoughts = \"\""
   ]
  }
 ],
 "metadata": {
  "kernelspec": {
   "display_name": "Python 3",
   "language": "python",
   "name": "python3"
  },
  "language_info": {
   "name": "python",
   "version": "3.10"
  }
 },
 "nbformat": 4,
 "nbformat_minor": 5
}
