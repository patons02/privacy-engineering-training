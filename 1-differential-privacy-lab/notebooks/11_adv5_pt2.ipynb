{
 "cells": [
  {
   "cell_type": "markdown",
   "metadata": {},
   "source": [
    "## Section 4: Per-Example Gradient Clipping"
   ]
  },
  {
   "cell_type": "markdown",
   "metadata": {},
   "source": [
    "### Exercise 21: Define Per-Example Clipping Function"
   ]
  },
  {
   "cell_type": "code",
   "execution_count": 21,
   "metadata": {},
   "outputs": [],
   "source": [
    "def clip_gradients(gradients, threshold):\n",
    "    norm = np.linalg.norm(gradients)\n",
    "    if norm > threshold:\n",
    "        return gradients * (threshold / norm)\n",
    "    else:\n",
    "        return gradients\n",
    "\n",
    "clip_gradients(np.array([3.0, 4.0]), 5.0)"
   ]
  },
  {
   "cell_type": "markdown",
   "metadata": {},
   "source": [
    "### Exercise 22: Apply Clipping to Batch of Gradients"
   ]
  },
  {
   "cell_type": "code",
   "execution_count": 22,
   "metadata": {},
   "outputs": [],
   "source": [
    "batch_gradients = [np.random.randn(5) for _ in range(10)]\n",
    "clipped_batch = [clip_gradients(g, 1.0) for g in batch_gradients]\n",
    "clipped_batch"
   ]
  },
  {
   "cell_type": "markdown",
   "metadata": {},
   "source": [
    "### Exercise 23: Plot Gradient Norms Before and After Clipping"
   ]
  },
  {
   "cell_type": "code",
   "execution_count": 23,
   "metadata": {},
   "outputs": [],
   "source": [
    "pre_norms = [np.linalg.norm(g) for g in batch_gradients]\n",
    "post_norms = [np.linalg.norm(g) for g in clipped_batch]\n",
    "\n",
    "import matplotlib.pyplot as plt\n",
    "plt.plot(pre_norms, label='Before Clipping')\n",
    "plt.plot(post_norms, label='After Clipping')\n",
    "plt.legend()\n",
    "plt.title('Gradient Norms')\n",
    "plt.show()"
   ]
  },
  {
   "cell_type": "markdown",
   "metadata": {},
   "source": [
    "### Exercise 24: Discuss Benefits of Clipping"
   ]
  },
  {
   "cell_type": "code",
   "execution_count": 24,
   "metadata": {},
   "outputs": [],
   "source": [
    "clipping_benefits = \"Clipping bounds individual gradient contributions, preventing outliers from disproportionately affecting updates and privacy loss.\""
   ]
  },
  {
   "cell_type": "markdown",
   "metadata": {},
   "source": [
    "## Section 5: Group Privacy"
   ]
  },
  {
   "cell_type": "markdown",
   "metadata": {},
   "source": [
    "### Exercise 25: Sketch Group Privacy Concept"
   ]
  },
  {
   "cell_type": "code",
   "execution_count": 25,
   "metadata": {},
   "outputs": [],
   "source": [
    "group_privacy_sketch = \"If a DP mechanism guarantees ε-DP for individuals, it guarantees g*ε-DP for groups of size g.\""
   ]
  },
  {
   "cell_type": "markdown",
   "metadata": {},
   "source": [
    "### Exercise 26: Calculate Group Privacy ε"
   ]
  },
  {
   "cell_type": "code",
   "execution_count": 26,
   "metadata": {},
   "outputs": [],
   "source": [
    "individual_epsilon = 1.0\n",
    "group_size = 3\n",
    "group_epsilon = individual_epsilon * group_size\n",
    "group_epsilon"
   ]
  },
  {
   "cell_type": "markdown",
   "metadata": {},
   "source": [
    "### Exercise 27: Reflect on Implications for Data Sets"
   ]
  },
  {
   "cell_type": "code",
   "execution_count": 27,
   "metadata": {},
   "outputs": [],
   "source": [
    "group_privacy_implications = \"When users have correlated data, effective privacy loss can grow proportionally to group size, requiring stricter noise addition.\""
   ]
  },
  {
   "cell_type": "markdown",
   "metadata": {},
   "source": [
    "## Section 6: Attacks on Graph Neural Networks (GNNs)"
   ]
  },
  {
   "cell_type": "markdown",
   "metadata": {},
   "source": [
    "### Exercise 28: Sketch Node Re-identification Attack"
   ]
  },
  {
   "cell_type": "code",
   "execution_count": 28,
   "metadata": {},
   "outputs": [],
   "source": [
    "gnn_attack_sketch = \"An attacker can exploit noisy edge structures to infer node identities if noise is too small relative to graph sparsity.\""
   ]
  },
  {
   "cell_type": "markdown",
   "metadata": {},
   "source": [
    "### Exercise 29: Apply Laplace Noise to Adjacency Matrix"
   ]
  },
  {
   "cell_type": "code",
   "execution_count": 29,
   "metadata": {},
   "outputs": [],
   "source": [
    "adjacency = np.random.randint(0, 2, (5,5))\n",
    "noisy_adjacency = adjacency + np.random.laplace(0, 1.0, size=(5,5))\n",
    "noisy_adjacency"
   ]
  },
  {
   "cell_type": "markdown",
   "metadata": {},
   "source": [
    "### Exercise 30: Simulate Node Degree Attack"
   ]
  },
  {
   "cell_type": "code",
   "execution_count": 30,
   "metadata": {},
   "outputs": [],
   "source": [
    "noisy_degrees = np.sum(noisy_adjacency, axis=1)\n",
    "noisy_degrees"
   ]
  },
  {
   "cell_type": "markdown",
   "metadata": {},
   "source": [
    "## Bonus: Shuffle Strategies"
   ]
  },
  {
   "cell_type": "markdown",
   "metadata": {},
   "source": [
    "### Exercise 31: Simulate Local Shuffling"
   ]
  },
  {
   "cell_type": "code",
   "execution_count": 31,
   "metadata": {},
   "outputs": [],
   "source": [
    "local_batches = [np.random.randn(5) for _ in range(10)]\n",
    "np.random.shuffle(local_batches)\n",
    "local_batches"
   ]
  },
  {
   "cell_type": "markdown",
   "metadata": {},
   "source": [
    "### Exercise 32: Sketch Server-Side Shuffling Defense"
   ]
  },
  {
   "cell_type": "code",
   "execution_count": 32,
   "metadata": {},
   "outputs": [],
   "source": [
    "server_shuffle_defense = \"Server randomizes incoming updates from clients before aggregation, reducing adversarial traceability.\""
   ]
  },
  {
   "cell_type": "markdown",
   "metadata": {},
   "source": [
    "### Exercise 33: Plot Privacy Amplification by Shuffle Depth"
   ]
  },
  {
   "cell_type": "code",
   "execution_count": 33,
   "metadata": {},
   "outputs": [],
   "source": [
    "shuffle_depths = np.arange(1, 51)\n",
    "amplified_eps = 1.0 / np.sqrt(shuffle_depths)\n",
    "plt.plot(shuffle_depths, amplified_eps)\n",
    "plt.xlabel('Shuffle Depth')\n",
    "plt.ylabel('Effective ε')\n",
    "plt.title('Amplification via Shuffle Depth')\n",
    "plt.show()"
   ]
  },
  {
   "cell_type": "markdown",
   "metadata": {},
   "source": [
    "### Exercise 34: Reflect on Shuffling Tradeoffs"
   ]
  },
  {
   "cell_type": "code",
   "execution_count": 34,
   "metadata": {},
   "outputs": [],
   "source": [
    "shuffling_tradeoffs_reflection = \"More shuffling increases privacy but also adds server-side computation overhead and possible delays.\""
   ]
  }
 ],
 "metadata": {
  "kernelspec": {
   "display_name": "Python 3",
   "language": "python3"
  },
  "language_info": {
   "name": "python",
   "version": "3.10",
   "mimetype": "text/x-python",
   "file_extension": ".py",
   "codemirror_mode": {
    "name": "ipython",
    "version": 3
   }
  }
 },
 "nbformat": 4,
 "nbformat_minor": 5
}